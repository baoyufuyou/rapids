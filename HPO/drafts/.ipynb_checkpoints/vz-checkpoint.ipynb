{
 "cells": [
  {
   "cell_type": "code",
   "execution_count": 1,
   "metadata": {},
   "outputs": [],
   "source": [
    "import ipyvolume as ipv"
   ]
  },
  {
   "cell_type": "code",
   "execution_count": 2,
   "metadata": {},
   "outputs": [],
   "source": [
    "import numpy as np\n",
    "import copy"
   ]
  },
  {
   "cell_type": "code",
   "execution_count": 3,
   "metadata": {},
   "outputs": [],
   "source": [
    "nParticles = 5\n",
    "nClones = 3\n",
    "nFrames = 10"
   ]
  },
  {
   "cell_type": "code",
   "execution_count": 4,
   "metadata": {},
   "outputs": [],
   "source": [
    "particles = np.random.randn( nFrames, nParticles, 3)"
   ]
  },
  {
   "cell_type": "code",
   "execution_count": 5,
   "metadata": {},
   "outputs": [],
   "source": [
    "particleClones = np.zeros( ( nClones, nFrames, 1, 3 ) )"
   ]
  },
  {
   "cell_type": "code",
   "execution_count": 6,
   "metadata": {},
   "outputs": [],
   "source": [
    "trajectories = np.zeros( ( nFrames, nParticles, 3 ))"
   ]
  },
  {
   "cell_type": "code",
   "execution_count": 13,
   "metadata": {},
   "outputs": [
    {
     "data": {
      "application/vnd.jupyter.widget-view+json": {
       "model_id": "cefe7bb5330b47068b0d8127f5c8a1cd",
       "version_major": 2,
       "version_minor": 0
      },
      "text/plain": [
       "VBox(children=(Figure(animation=700.0, camera=PerspectiveCamera(fov=46.0, position=(0.0, 0.0, 2.0), quaternion…"
      ]
     },
     "metadata": {},
     "output_type": "display_data"
    }
   ],
   "source": [
    "scatterPlots = []\n",
    "ipv.figure()\n",
    "targetParticle = 0\n",
    "for iClone in range( nClones ):\n",
    "    if iClone == 0:\n",
    "        particleClones[0, :, :, :] = np.expand_dims( particles[:, targetParticle,:], axis = 1 ).copy()\n",
    "        continue\n",
    "        \n",
    "    particleClones[iClone, :, :, :] = copy.deepcopy( particleClones[iClone-1, :, :, :] )\n",
    "    particleClones[iClone, iClone:, :, :] = copy.deepcopy( np.expand_dims( particles[ 0:-iClone, targetParticle, :], axis = 1 ) )\n",
    "    \n",
    "for iClone in range( 3 ):\n",
    "    scatterPlots += [ ipv.scatter( particleClones[iClone, :, :, 0], \n",
    "                               particleClones[iClone, :, :, 1], \n",
    "                               particleClones[iClone, :, :, 2], \n",
    "                               color='purple', size = int( 5/iClone),\n",
    "                               marker = 'sphere') ]\n",
    "linePlot = ipv.plot( particleClones[0,:,0,0], particleClones[0,:,0,1], particleClones[0,:,0,2])\n",
    "ipv.animation_control( scatterPlots, interval=700 )\n",
    "#ipv.xlabel('max_depth')\n",
    "#ipv.ylabel('learning rate')\n",
    "#ipv.zlabel('gamma')\n",
    "ipv.show()"
   ]
  },
  {
   "cell_type": "code",
   "execution_count": null,
   "metadata": {},
   "outputs": [],
   "source": [
    "lineCoordsX"
   ]
  },
  {
   "cell_type": "code",
   "execution_count": null,
   "metadata": {},
   "outputs": [],
   "source": [
    "[A B C D] [ 2 ] [ 4 ]\n"
   ]
  }
 ],
 "metadata": {
  "kernelspec": {
   "display_name": "Python 3",
   "language": "python",
   "name": "python3"
  },
  "language_info": {
   "codemirror_mode": {
    "name": "ipython",
    "version": 3
   },
   "file_extension": ".py",
   "mimetype": "text/x-python",
   "name": "python",
   "nbconvert_exporter": "python",
   "pygments_lexer": "ipython3",
   "version": "3.6.7"
  }
 },
 "nbformat": 4,
 "nbformat_minor": 4
}
