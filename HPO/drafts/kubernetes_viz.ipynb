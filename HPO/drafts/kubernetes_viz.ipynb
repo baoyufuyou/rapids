{
 "cells": [
  {
   "cell_type": "markdown",
   "metadata": {},
   "source": [
    "# kubernetes viz"
   ]
  },
  {
   "cell_type": "code",
   "execution_count": null,
   "metadata": {},
   "outputs": [],
   "source": [
    "nMasters = 1        # k8s/kubeflow\n",
    "nNodes = 2\n",
    "nWorkersPerNode = 16 # dgx-station\n",
    "\n",
    "widthPixels = 500\n",
    "verticalGap = 5; zOffset = 0;\n",
    "\n",
    "masterXOffset = int( (widthPixels  / nMasters) ) \n",
    "nodeXOffset = int( masterXOffset / nNodes )\n",
    "workerXOffset = int( nodeXOffset / nWorkersPerNode )"
   ]
  },
  {
   "cell_type": "code",
   "execution_count": null,
   "metadata": {},
   "outputs": [],
   "source": [
    "masterPositions = nodePositions = workerPositions = None\n",
    "masterNodeConnections = nodeWorkerConnections = None\n",
    "\n",
    "ipv.figure(width=widthPixels, height=500)\n",
    "\n",
    "for iMaster in range( nMasters ):\n",
    "    verticalLayerCount = 0\n",
    "    iMasterOffset = iMaster * masterXOffset\n",
    "    iMasterPos = np.array( [iMasterOffset, verticalGap * verticalLayerCount, zOffset] ).astype(np.float32)\n",
    "    \n",
    "    # append node to position stack\n",
    "    if masterPositions is None: masterPositions = iMasterPos\n",
    "    else: masterPositions = np.vstack( ( masterPositions, iMasterPos ) ) \n",
    "    masterNodeConnections = None\n",
    "    \n",
    "    # nodes\n",
    "    for iNode in range( nNodes ):     \n",
    "        verticalLayerCount += 1\n",
    "        iNodeOffset = iMasterOffset + iNode * nodeXOffset\n",
    "        iNodePos = np.array( [iNodeOffset, verticalGap * verticalLayerCount, zOffset] ).astype(np.float32)\n",
    "        \n",
    "        # append node to position stack\n",
    "        if nodePositions is None: nodePositions = iNodePos\n",
    "        else: nodePositions = np.vstack( ( nodePositions, iNodePos ) ) \n",
    "        nodeWorkerConnections = None\n",
    "        \n",
    "        # workers\n",
    "        for iWorker in range( nWorkersPerNode ):\n",
    "            verticalLayerCount += 1\n",
    "            iWorkerOffset = iNodeOffset + iWorker * workerXOffset\n",
    "            iWorkerPosition = np.array( [iWorkerOffset, verticalGap * verticalLayerCount, iWorker * 10] ).astype(np.float32)\n",
    "            \n",
    "            # append node to position stack\n",
    "            if workerPositions is None: workerPositions = iWorkerPosition\n",
    "            else: workerPositions = np.vstack( ( workerPositions, iWorkerPosition ) ) \n",
    "            \n",
    "            # create list of connections between nodes and workers\n",
    "            if nodeWorkerConnections is None: nodeWorkerConnections = np.vstack( ( iNodePos, iWorkerPosition ) )\n",
    "            else: nodeWorkerConnections = np.vstack( ( nodeWorkerConnections, np.vstack( ( iNodePos, iWorkerPosition ) ) ) ) \n",
    "            \n",
    "            verticalLayerCount -= 1\n",
    "        \n",
    "        ipv.plot(nodeWorkerConnections[:,0],nodeWorkerConnections[:,1],nodeWorkerConnections[:,2], color = 'green')\n",
    "        \n",
    "        # create list of connections between master and nodes\n",
    "        if masterNodeConnections is None: masterNodeConnections = np.vstack( ( iMasterPos, iNodePos ) )\n",
    "        else: masterNodeConnections = np.vstack( ( masterNodeConnections, np.vstack( ( iMasterPos, iNodePos ) ) ) ) \n",
    "        \n",
    "        verticalLayerCount -= 1\n",
    "    \n",
    "    ipv.plot(masterNodeConnections[:,0],masterNodeConnections[:,1],masterNodeConnections[:,2], color = 'red')\n",
    "    \n",
    "masterPositions = np.matrix(masterPositions)\n",
    "nodePositions = np.matrix(nodePositions)\n",
    "workerPositions= np.matrix(workerPositions)"
   ]
  },
  {
   "cell_type": "code",
   "execution_count": null,
   "metadata": {},
   "outputs": [],
   "source": [
    "def vectorize_input( data ):\n",
    "    x = np.array( data[:,0] ) if data.shape[0] == 1 else np.array( data[:,0] ).squeeze()\n",
    "    y = np.array( data[:,1] ) if data.shape[0] == 1 else np.array( data[:,1] ).squeeze()\n",
    "    z = np.array( data[:,2] ) if data.shape[0] == 1 else np.array( data[:,2] ).squeeze()\n",
    "    return x,y,z"
   ]
  },
  {
   "cell_type": "code",
   "execution_count": null,
   "metadata": {},
   "outputs": [],
   "source": [
    " x,y,z = vectorize_input ( masterPositions )\n",
    "ipv.scatter( x,y,z, marker='box', color='blue', size = 15 )\n",
    "\n",
    "x,y,z = vectorize_input ( nodePositions )\n",
    "ipv.scatter( x,y,z, marker='box', color='red', size = 10 )\n",
    "\n",
    "x,y,z = vectorize_input ( workerPositions )\n",
    "ipv.scatter( x,y,z, marker='box', color='green', size = 5 )\n",
    "\n",
    "#ipv.plot(nodeWorkerConnections[:,0],nodeWorkerConnections[:,1],nodeWorkerConnections[:,2], color = 'green')\n",
    "ipv.pylab.style.box_off()\n",
    "ipv.pylab.style.axes_off()\n",
    "#ipv.pylab.style.set_style_dark()\n",
    "container = ipv.gcc()\n",
    "container.layout.align_items = 'center'\n",
    "display(container)"
   ]
  }
 ],
 "metadata": {
  "kernelspec": {
   "display_name": "Python 3",
   "language": "python",
   "name": "python3"
  },
  "language_info": {
   "codemirror_mode": {
    "name": "ipython",
    "version": 3
   },
   "file_extension": ".py",
   "mimetype": "text/x-python",
   "name": "python",
   "nbconvert_exporter": "python",
   "pygments_lexer": "ipython3",
   "version": "3.6.7"
  }
 },
 "nbformat": 4,
 "nbformat_minor": 4
}
