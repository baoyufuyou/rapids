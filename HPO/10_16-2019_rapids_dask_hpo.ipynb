{
 "cells": [
  {
   "cell_type": "markdown",
   "metadata": {},
   "source": [
    "![rapids motivation](images/rapids_motivation.png)"
   ]
  },
  {
   "cell_type": "markdown",
   "metadata": {},
   "source": [
    "![notebook choices](images/choices.png)\n"
   ]
  },
  {
   "cell_type": "markdown",
   "metadata": {},
   "source": [
    "# Table of Contents"
   ]
  },
  {
   "cell_type": "markdown",
   "metadata": {},
   "source": [
    "1. [ Generate a classification dataset on GPU ](#data-gen) (e.g., double helix, unwinding helix/whirl )\n",
    "\n",
    "2. [ ETL - process/prepare data for model training ](#ETL) (e.g., scale, split, augment )\n",
    "   > controllably breaking IID : non-identically distributed train and test data\n",
    "    \n",
    "3. [ Single model training ](#single-model)\n",
    "   > CPUs vs 1 GPU\n",
    "  - TODO summarize : accuracy (model predictions & errors viz), wall clocks, cleanup\n",
    "  \n",
    "4. [ Define HPO Strategy ](#define-hpo)\n",
    "\n",
    "5. [ Scaling up within a node using Dask ](#scale-up-single-node-hpo)\n",
    "   > LocalCUDACluster \n",
    "      \n",
    "6. [ Scaling out across nodes with Dask + Kubernetes ](#scale-out-multi-node-hpo)\n",
    "   > kubernetes (+kubeflow)\n",
    "   \n",
    "   > from dask_kubernetes import KubeCluster\n",
    "   "
   ]
  },
  {
   "cell_type": "code",
   "execution_count": 1,
   "metadata": {},
   "outputs": [],
   "source": [
    "import numpy as np; import numpy.matlib"
   ]
  },
  {
   "cell_type": "code",
   "execution_count": 2,
   "metadata": {},
   "outputs": [],
   "source": [
    "import ipyvolume as ipv"
   ]
  },
  {
   "cell_type": "code",
   "execution_count": 3,
   "metadata": {},
   "outputs": [],
   "source": [
    "import matplotlib.pyplot as plt\n",
    "from mpl_toolkits.mplot3d import Axes3D"
   ]
  },
  {
   "cell_type": "code",
   "execution_count": 4,
   "metadata": {},
   "outputs": [],
   "source": [
    "# algos, datasets\n",
    "import xgboost; from xgboost import plot_tree\n",
    "from sklearn import datasets; from sklearn.metrics import confusion_matrix, accuracy_score"
   ]
  },
  {
   "cell_type": "code",
   "execution_count": 5,
   "metadata": {},
   "outputs": [],
   "source": [
    "import cupy\n",
    "import cudf\n",
    "import pandas as pd"
   ]
  },
  {
   "cell_type": "code",
   "execution_count": 6,
   "metadata": {},
   "outputs": [],
   "source": [
    "import time; from time import sleep\n",
    "import copy"
   ]
  },
  {
   "cell_type": "code",
   "execution_count": 7,
   "metadata": {},
   "outputs": [],
   "source": [
    "import data_utils # load datasets (or generate data) on the gpu"
   ]
  },
  {
   "cell_type": "code",
   "execution_count": 8,
   "metadata": {},
   "outputs": [],
   "source": [
    "import swarm # particle swarm HPO implementation"
   ]
  },
  {
   "cell_type": "code",
   "execution_count": 9,
   "metadata": {},
   "outputs": [
    {
     "data": {
      "text/plain": [
       "<module 'swarm' from '/home/eharper/github/miroenev/rapids/HPO/swarm.py'>"
      ]
     },
     "execution_count": 9,
     "metadata": {},
     "output_type": "execute_result"
    }
   ],
   "source": [
    "import swarm\n",
    "''' NOTE: anytime changes are made to rapids_lib.py you can either:\n",
    "      1. refresh/reload via the code below, OR\n",
    "      2. restart the kernel '''\n",
    "import importlib; importlib.reload(swarm)"
   ]
  },
  {
   "cell_type": "markdown",
   "metadata": {},
   "source": [
    "# Loading Popular ML Datasets"
   ]
  },
  {
   "cell_type": "markdown",
   "metadata": {},
   "source": [
    "Instead of generating synthetic datasets we can download some of popular ML datasets. The block of code below will automatically:\n",
    "- download the dataset, \n",
    "- prepare the dataset for training (train/test split),\n",
    "- convert the Pandas dataframe tu cuDF\n",
    "\n",
    "| Name                                                                           | Rows   | Columns | Task           |\n",
    "|--------------------------------------------------------------------------------|--------|---------|----------------|\n",
    "| [airline](http://kt.ijs.si/elena_ikonomovska/data.html)                        | 115M   | 13      | Binary Classification |\n",
    "| [higgs](https://archive.ics.uci.edu/ml/datasets/HIGGS)                         | 11M    | 28      | Binary Classification |\n",
    "\n",
    "**Note** : You can choose the number of rows of the dataset you want to import. Smaller number of rows is recomended for testing purposes. \n",
    "\n"
   ]
  },
  {
   "cell_type": "code",
   "execution_count": 10,
   "metadata": {},
   "outputs": [],
   "source": [
    "dataset= \"synthetic\" ## choose: \"higgs\" or \"airline\" for real dataset, \"synthetic\" for data generation\n",
    "num_rows = 10000 ## \"higgs\" max : 11M  ; \"airline\" max: 115M ; \"synthetic\" N/A\n"
   ]
  },
  {
   "cell_type": "code",
   "execution_count": 11,
   "metadata": {},
   "outputs": [],
   "source": [
    "## if running sythnetic dataset this block of code will be ignored\n",
    "\n",
    "if dataset ==\"higgs\":\n",
    "    df = data_utils.prepare_higgs(\"data/\", num_rows)\n",
    "elif dataset == \"airline\":\n",
    "    df = data_utils.prepare_airline(\"data/\", num_rows)\n",
    "else:\n",
    "    pass\n",
    "\n",
    "if dataset == \"higgs\" or dataset == \"airline\":\n",
    "    trainData_cDF = cudf.DataFrame.from_pandas(df.X_train)\n",
    "    testData_cDF = cudf.DataFrame.from_pandas(df.X_test)\n",
    "    trainLabels_cDF = cudf.DataFrame.from_pandas(df.y_train.to_frame())\n",
    "    testLabels_cDF = cudf.DataFrame.from_pandas(df.y_test.to_frame())\n",
    "    "
   ]
  },
  {
   "cell_type": "markdown",
   "metadata": {},
   "source": [
    "<a id = 'data-gen'></a>\n",
    "# 1. Data Generation\n",
    "-----\n"
   ]
  },
  {
   "cell_type": "markdown",
   "metadata": {},
   "source": [
    "We will generate data shapes [coordinate lists] and hand them to the GPU. The GPU will randomly build 3D blobs [ cupy.random.normal ] around each coordinate point to create a much larger, noisier, and more realistic dataset."
   ]
  },
  {
   "cell_type": "markdown",
   "metadata": {},
   "source": [
    "Using this concept we offer the following dataset variations:\n",
    "1. Helix - two entwined coils, inspired by DNA casing\n",
    "2. Whirl - an increasingly unwinding Helix "
   ]
  },
  {
   "cell_type": "markdown",
   "metadata": {},
   "source": [
    "# Helix and Whirl Datasets"
   ]
  },
  {
   "cell_type": "code",
   "execution_count": 12,
   "metadata": {},
   "outputs": [],
   "source": [
    "nBlobPoints = 1000\n",
    "nCoordinates = 400\n",
    "\n",
    "sdevScales = [ .3, .3, .3]\n",
    "noiseScale = 1/10.\n",
    "\n",
    "coilDensity = 12\n",
    "trainTestOverlap = .15"
   ]
  },
  {
   "cell_type": "code",
   "execution_count": 13,
   "metadata": {},
   "outputs": [
    {
     "name": "stdout",
     "output_type": "stream",
     "text": [
      "generating blobs; # points = 400000\n",
      "generating blobs; # points = 400000\n",
      "time to generate data on GPU = 1.4724044799804688\n",
      "\t plotting data - stride = 8 \n"
     ]
    },
    {
     "data": {
      "application/vnd.jupyter.widget-view+json": {
       "model_id": "37e347c1b28e435abad849001396f656",
       "version_major": 2,
       "version_minor": 0
      },
      "text/plain": [
       "VBox(children=(Figure(camera=PerspectiveCamera(fov=46.0, position=(0.0, 0.0, 2.0), quaternion=(0.0, 0.0, 0.0, …"
      ]
     },
     "metadata": {},
     "output_type": "display_data"
    }
   ],
   "source": [
    "data, labels, t_gen = data_utils.gen_blob_coils( coilType='whirl', shuffleFlag = False, \n",
    "                                                 nBlobPoints = nBlobPoints,  \n",
    "                                                 nCoordinates = nCoordinates, \n",
    "                                                 sdevScales = sdevScales, \n",
    "                                                 noiseScale = noiseScale, \n",
    "                                                 coilDensity = coilDensity )"
   ]
  },
  {
   "cell_type": "code",
   "execution_count": 14,
   "metadata": {},
   "outputs": [
    {
     "name": "stdout",
     "output_type": "stream",
     "text": [
      "generating blobs; # points = 400000\n",
      "generating blobs; # points = 400000\n",
      "time to generate data on GPU = 0.3312835693359375\n",
      "\t plotting data - stride = 8 \n"
     ]
    },
    {
     "data": {
      "application/vnd.jupyter.widget-view+json": {
       "model_id": "9952aa8339b64864be86d3ed13fed6ae",
       "version_major": 2,
       "version_minor": 0
      },
      "text/plain": [
       "VBox(children=(Figure(camera=PerspectiveCamera(fov=46.0, position=(0.0, 0.0, 2.0), quaternion=(0.0, 0.0, 0.0, …"
      ]
     },
     "metadata": {},
     "output_type": "display_data"
    }
   ],
   "source": [
    "data, labels, t_gen = data_utils.gen_blob_coils( coilType='helix', shuffleFlag = False, \n",
    "                                                 nBlobPoints = nBlobPoints,  \n",
    "                                                 nCoordinates = nCoordinates, \n",
    "                                                 sdevScales = sdevScales, \n",
    "                                                 noiseScale = noiseScale, \n",
    "                                                 coilDensity = coilDensity )"
   ]
  },
  {
   "cell_type": "markdown",
   "metadata": {},
   "source": [
    "<a id = 'ETL'></a>\n",
    "# 2. ETL\n",
    "-----"
   ]
  },
  {
   "cell_type": "code",
   "execution_count": 15,
   "metadata": {},
   "outputs": [],
   "source": [
    "expLog = {}"
   ]
  },
  {
   "cell_type": "markdown",
   "metadata": {},
   "source": [
    "## Standard Scaler [ Normalize ]"
   ]
  },
  {
   "cell_type": "code",
   "execution_count": 16,
   "metadata": {},
   "outputs": [],
   "source": [
    "def scale_dataframe_inplace ( targetDF, trainMeans = {}, trainSTDevs = {} ):    \n",
    "    print('rescaling data')\n",
    "    sT = time.time()\n",
    "    for iCol in targetDF.columns:\n",
    "        \n",
    "        # omit scaling label column\n",
    "        if iCol == targetDF.columns[-1] == 'label': continue\n",
    "            \n",
    "        # compute means and standard deviations for each column [ should skip for test data ]\n",
    "        if iCol not in trainMeans.keys() and iCol not in trainSTDevs.keys():            \n",
    "            trainMeans[iCol] = targetDF[iCol].mean()\n",
    "            trainSTDevs[iCol] = targetDF[iCol].std()\n",
    "            \n",
    "        # apply scaling to each column\n",
    "        targetDF[iCol] = ( targetDF[iCol] - trainMeans[iCol] ) / ( trainSTDevs[iCol] + 1e-10 )\n",
    "        \n",
    "    return trainMeans, trainSTDevs, time.time() - sT"
   ]
  },
  {
   "cell_type": "markdown",
   "metadata": {},
   "source": [
    "### **CPU** split & scale"
   ]
  },
  {
   "cell_type": "code",
   "execution_count": 17,
   "metadata": {},
   "outputs": [
    {
     "name": "stdout",
     "output_type": "stream",
     "text": [
      "splitting data into training and test set\n",
      "rescaling data\n",
      "rescaling data\n",
      " + adding log entry [ CPU_split_train_test     :   0.07194 s ]\n",
      " + adding log entry [ CPU_scale_train_data     :   0.09922 s ]\n",
      " + adding log entry [ CPU_scale_test_data      :   0.06358 s ]\n"
     ]
    }
   ],
   "source": [
    "# split\n",
    "trainData_pDF, trainLabels_pDF, testData_pDF, testLabels_pDF, t_split_CPU = data_utils.split_train_test_nfolds ( data.to_pandas(), labels.to_pandas(), trainTestOverlap = trainTestOverlap )\n",
    "\n",
    "# apply standard scaling\n",
    "trainMeans_CPU, trainSTDevs_CPU, t_scaleTrain_CPU = scale_dataframe_inplace ( trainData_pDF )\n",
    "_,_, t_scaleTest_CPU = scale_dataframe_inplace ( testData_pDF, trainMeans_CPU, trainSTDevs_CPU )    \n",
    "\n",
    "expLog = swarm.update_log( expLog, [['CPU_split_train_test', t_split_CPU],\n",
    "                                 ['CPU_scale_train_data', t_scaleTrain_CPU], \n",
    "                                 ['CPU_scale_test_data', t_scaleTest_CPU]] )"
   ]
  },
  {
   "cell_type": "markdown",
   "metadata": {},
   "source": [
    "### **GPU** split & scale"
   ]
  },
  {
   "cell_type": "code",
   "execution_count": 18,
   "metadata": {},
   "outputs": [
    {
     "name": "stdout",
     "output_type": "stream",
     "text": [
      "splitting data into training and test set\n",
      "rescaling data\n",
      "rescaling data\n",
      " + adding log entry [ GPU_split_train_test     :   0.26896 s ]\n",
      " + adding log entry [ GPU_scale_train_data     :   0.00954 s ]\n",
      " + adding log entry [ GPU_scale_test_data      :   0.00468 s ]\n"
     ]
    }
   ],
   "source": [
    "# split\n",
    "trainData_cDF, trainLabels_cDF, testData_cDF, testLabels_cDF, t_split = data_utils.split_train_test_nfolds ( data, labels, trainTestOverlap = trainTestOverlap )\n",
    "\n",
    "# apply standard scaling\n",
    "trainMeans, trainSTDevs, t_scaleTrain = scale_dataframe_inplace ( trainData_cDF )\n",
    "_,_, t_scaleTest = scale_dataframe_inplace ( testData_cDF, trainMeans, trainSTDevs )    \n",
    "\n",
    "expLog = swarm.update_log( expLog, [['GPU_split_train_test', t_split],\n",
    "                                 ['GPU_scale_train_data', t_scaleTrain],\n",
    "                                 ['GPU_scale_test_data', t_scaleTest]] ); "
   ]
  },
  {
   "cell_type": "markdown",
   "metadata": {},
   "source": [
    "# Set up Dask"
   ]
  },
  {
   "cell_type": "code",
   "execution_count": 19,
   "metadata": {},
   "outputs": [],
   "source": [
    "import dask\n",
    "from dask import delayed\n",
    "from dask_cuda import LocalCUDACluster\n",
    "from dask_kubernetes import KubeCluster\n",
    "from dask.distributed import Client\n",
    "from dask.distributed import as_completed\n",
    "from dask.distributed import worker"
   ]
  },
  {
   "cell_type": "code",
   "execution_count": 20,
   "metadata": {},
   "outputs": [],
   "source": [
    "cluster = LocalCUDACluster(ip='', n_workers = 4)"
   ]
  },
  {
   "cell_type": "code",
   "execution_count": 21,
   "metadata": {},
   "outputs": [],
   "source": [
    "client = Client(cluster, asynchronous=True)"
   ]
  },
  {
   "cell_type": "markdown",
   "metadata": {},
   "source": [
    "<a id = 'define-hpo'></a>\n",
    "# 4. Define HPO Strategy\n",
    "-----"
   ]
  },
  {
   "cell_type": "markdown",
   "metadata": {},
   "source": [
    "### Particle Swarm : \n",
    "> Particles are randomly initialized, and change their position in hyper-parameter space using three terms \n",
    "1. momentum\n",
    "2. personal best \n",
    "3. global best"
   ]
  },
  {
   "cell_type": "markdown",
   "metadata": {},
   "source": [
    "## Particle Evaluation Logic \n",
    "> (i.e., Train & Eval using Changing Parameter Sets )"
   ]
  },
  {
   "cell_type": "code",
   "execution_count": 22,
   "metadata": {},
   "outputs": [],
   "source": [
    "def evaluate_particle ( particle, dataFutures, earlyStoppingRounds, retainPredictionsFlag ):    \n",
    "\n",
    "    # fixed parameters\n",
    "    paramsGPU = { 'objective': 'binary:hinge',\n",
    "                  'tree_method': 'gpu_hist',\n",
    "                  'n_gpus': 1,\n",
    "                  'random_state': 0 }\n",
    "\n",
    "    # TODO: loop over paramRanges instead of hard code\n",
    "    paramsGPU['max_depth'] = int( particle['params'][0] )\n",
    "    paramsGPU['learning_rate'] = particle['params'][1]\n",
    "    paramsGPU['gamma'] = particle['params'][2]\n",
    "    paramsGPU['num_boost_rounds'] = 1000\n",
    "\n",
    "    startTime = time.time()\n",
    "\n",
    "    trainDMatrix = xgboost.DMatrix( data = dataFutures['trainData'], label = dataFutures['trainLabels'] )\n",
    "    testDMatrix = xgboost.DMatrix( data = dataFutures['testData'], label = dataFutures['testLabels'] )\n",
    "\n",
    "    trainedModelGPU = xgboost.train( dtrain = trainDMatrix, evals = [(testDMatrix, 'test')], \n",
    "                                     params = paramsGPU,\n",
    "                                     num_boost_round = paramsGPU['num_boost_rounds'],\n",
    "                                     early_stopping_rounds = earlyStoppingRounds,\n",
    "                                     verbose_eval = False )\n",
    "        \n",
    "    predictionsGPU = trainedModelGPU.predict( testDMatrix ).astype(int)\n",
    "            \n",
    "    elapsedTime = time.time() - startTime\n",
    "\n",
    "    particle['nTrees'] = trainedModelGPU.best_iteration\n",
    "    particle['trainAccuracy'] = 1 - float( trainedModelGPU.eval(trainDMatrix, iteration = 50).split(':')[1] )\n",
    "    particle['testAccuracy'] = 1 - float( trainedModelGPU.eval(testDMatrix, iteration = 50).split(':')[1] )    \n",
    "    \n",
    "    if not retainPredictionsFlag: \n",
    "        predictionsGPU = None\n",
    "    \n",
    "    particle['predictions'] = predictionsGPU\n",
    "    \n",
    "    return particle, elapsedTime"
   ]
  },
  {
   "cell_type": "markdown",
   "metadata": {},
   "source": [
    "## Particle Update Logic \n",
    "https://en.wikipedia.org/wiki/Particle_swarm_optimization"
   ]
  },
  {
   "cell_type": "code",
   "execution_count": 23,
   "metadata": {},
   "outputs": [],
   "source": [
    "def update_particle( particle, paramRanges, globalBestParams, personalBestParams, \n",
    "                     wMomentum, wIndividual, wSocial, wExplore, randomSearchMode = False, randomSeed = None ):\n",
    "\n",
    "    if randomSeed is not None:\n",
    "        np.random.seed(randomSeed)    \n",
    "    \n",
    "    # baseline to compare swarm update versus random search\n",
    "    if randomSearchMode:        \n",
    "        \n",
    "        sampledParams, sampledVelocities = swarm.sample_params( paramRanges, randomSeed = np.random.randint(100)) #particle['ID'] )\n",
    "        print(f'random-search-update: params {sampledParams} velos: {sampledVelocities}')\n",
    "        #newParticleParams = rl.enforce_param_bounds_inline ( sampledParams, paramRanges )        \n",
    "        return sampledParams.copy(), sampledVelocities.copy()\n",
    "        \n",
    "    # computing update terms for PSO (ref: https://en.wikipedia.org/wiki/Particle_swarm_optimization )\n",
    "    inertiaInfluence = particle['velocities'].copy()\n",
    "    socialInfluence = ( globalBestParams - particle['params'] )\n",
    "    individualInfluence = ( personalBestParams - particle['params'] )\n",
    "    \n",
    "    newParticleVelocities =    wMomentum    *  inertiaInfluence \\\n",
    "                             + wIndividual  *  individualInfluence  * np.random.random()   \\\n",
    "                             + wSocial      *  socialInfluence      * np.random.random()\n",
    "    \n",
    "    # paramSamples = sample_params(paramRanges)\n",
    "    # exploreInfluence = sExplore * ( np.array([paramSamples[0], paramSamples[1], paramSamples[2]]) )\n",
    "\n",
    "    newParticleParams = particle['params'].copy() + newParticleVelocities\n",
    "    newParticleParams = swarm.enforce_param_bounds_inline ( newParticleParams, paramRanges )\n",
    "            \n",
    "    return newParticleParams, newParticleVelocities"
   ]
  },
  {
   "cell_type": "markdown",
   "metadata": {},
   "source": [
    "## HPO Run Loop"
   ]
  },
  {
   "cell_type": "code",
   "execution_count": 24,
   "metadata": {},
   "outputs": [],
   "source": [
    "def run_hpo ( client, mode, nParticles, nEpochs, paramRanges, trainData_cDF, trainLabels_cDF, testData_cDF, testLabels_cDF,\n",
    "              wMomentum = .05, wIndividual = .35, wBest = .25, wExplore = .15, earlyStoppingRounds = 50,\n",
    "              terminationAccuracy = np.Inf, \n",
    "              randomSeed = 0, \n",
    "              plotFlag = True,\n",
    "              retainPredictionsFlag = False ):\n",
    "    \n",
    "    startTime = time.time()\n",
    "    \n",
    "    # ----------------------------\n",
    "    # scatter data to all workers\n",
    "    # ----------------------------\n",
    "    if client is not None:\n",
    "        scatteredData_future = client.scatter( [ trainData_cDF, trainLabels_cDF, testData_cDF, testLabels_cDF], broadcast = True )\n",
    "        \n",
    "    dataFutures = { 'trainData'   : scatteredData_future[0], 'trainLabels' : scatteredData_future[1], \n",
    "                    'testData'    : scatteredData_future[2], 'testLabels'  : scatteredData_future[3] }\n",
    "    \n",
    "    # ----------------------------\n",
    "    # initialize HPO strategy \n",
    "    # ----------------------------        \n",
    "    def initialize_particle_futures ( nParticles, paramRanges, randomSeed, plotFlag ) :\n",
    "        particleParams, particleVelocities, globalBest, particleColors = swarm.initialize_particle_swarm ( nParticles, paramRanges, randomSeed, plotFlag )\n",
    "        # create particle futures using the initialization positions and velocities    \n",
    "        delayedEvalParticles = []\n",
    "        for iParticle in range(nParticles):\n",
    "            particle = { 'ID': iParticle, 'params': particleParams[iParticle], 'velocities': particleVelocities[iParticle], 'predictions': None }        \n",
    "            delayedEvalParticles.append( delayed ( evaluate_particle )( particle.copy(), dataFutures, earlyStoppingRounds, retainPredictionsFlag ))\n",
    "        return delayedEvalParticles, globalBest, particleColors\n",
    "        \n",
    "    # ------------------------------------------------\n",
    "    # shared logic for particle evaluation and updates\n",
    "    # ------------------------------------------------\n",
    "    def eval_and_update ( particleFuture, delayedEvalParticles, particleHistory, paramRanges, globalBest, randomSearchMode, nEvaluations ):\n",
    "        # convert particle future to concrete result and collect returned values\n",
    "        particle, elapsedTime = particleFuture.result()\n",
    "\n",
    "        # update hpo strategy meta-parameters -- i.e. swarm global best and particle personal best\n",
    "        particleHistory, globalBest = swarm.update_bests ( particleHistory, particle, globalBest, nEvaluations, mode['randomSearch'] )\n",
    "\n",
    "        # update history with this particle's latest contribution/eval\n",
    "        particleHistory = swarm.update_history_dictionary ( particleHistory, particle, nEvaluations )\n",
    "\n",
    "        # update particle\n",
    "        if randomSearchMode:\n",
    "            personalBestParams = None\n",
    "        else:\n",
    "            personalBestParams = particleHistory[particle['ID']]['personalBestParams']\n",
    "            \n",
    "        particle['params'], particle['velocities'] = update_particle ( particle, paramRanges,\n",
    "                                                                       globalBest['params'], personalBestParams,\n",
    "                                                                       wMomentum, wIndividual, wBest, wExplore,\n",
    "                                                                       randomSearchMode = randomSearchMode, \n",
    "                                                                       randomSeed = particle['ID'] ) # repeatability\n",
    "        return particle.copy(), particleHistory, globalBest\n",
    "\n",
    "    \n",
    "    nEvaluations = 0\n",
    "    particleHistory = {}\n",
    "    \n",
    "    if mode['allowAsyncUpdates'] != True:\n",
    "        # ----------------------------\n",
    "        # synchronous particle swarm\n",
    "        # ----------------------------\n",
    "        delayedEvalParticles, globalBest, particleColors = initialize_particle_futures ( nParticles, paramRanges, randomSeed, plotFlag )\n",
    "        futureEvalParticles = client.compute( delayedEvalParticles )\n",
    "        \n",
    "        for iEpoch in range (0, nEpochs ):    \n",
    "            futureEvalParticles = client.compute( delayedEvalParticles )\n",
    "            delayedEvalParticles = []\n",
    "            for particleFuture in futureEvalParticles:\n",
    "                newParticle, particleHistory, globalBest = eval_and_update ( particleFuture, delayedEvalParticles, particleHistory, paramRanges, globalBest, mode['randomSearch'], nEvaluations )\n",
    "\n",
    "                # termination conditions \n",
    "                if globalBest['accuracy'] > terminationAccuracy: break\n",
    "\n",
    "                # append future work for the next instantiation of this particle ( using the freshly updated parameters )\n",
    "                delayedEvalParticles.append( delayed ( evaluate_particle )( newParticle, dataFutures, earlyStoppingRounds, retainPredictionsFlag ))\n",
    "                \n",
    "                nEvaluations += 1\n",
    "            # --- \n",
    "            print(f'> on epoch {iEpoch} out of {nEpochs}') \n",
    "    \n",
    "    else:\n",
    "        # ----------------------------\n",
    "        # asynchronous particle swarm\n",
    "        # ----------------------------\n",
    "        delayedEvalParticles, globalBest, particleColors = initialize_particle_futures ( nParticles, paramRanges, randomSeed, plotFlag )\n",
    "        futureEvalParticles = client.compute( delayedEvalParticles )        \n",
    "        particleFutureSeq = as_completed( futureEvalParticles )\n",
    "        \n",
    "        for particleFuture in particleFutureSeq:\n",
    "            newParticle, particleHistory, globalBest = eval_and_update ( particleFuture, delayedEvalParticles, particleHistory, paramRanges, globalBest, mode['randomSearch'], nEvaluations )\n",
    "            # termination conditions \n",
    "            if globalBest['accuracy'] > terminationAccuracy: break\n",
    "            if ( nEvaluations // nParticles ) > nEpochs : break\n",
    "                \n",
    "            # append future work for the next instantiation of this particle ( using the freshly updated parameters )\n",
    "            delayedParticle = delayed ( evaluate_particle )( newParticle, dataFutures, earlyStoppingRounds, retainPredictionsFlag )\n",
    "            # submit this particle future to the client ( returns a future )\n",
    "            futureParticle = client.compute( delayedParticle )\n",
    "            # track its completion via the as_completed iterator \n",
    "            particleFutureSeq.add( futureParticle )\n",
    "            \n",
    "            nEvaluations += 1\n",
    "                              \n",
    "    elapsedTime = time.time() - startTime\n",
    "    \n",
    "    print(f\"\\n\\n best accuracy: {globalBest['accuracy']}, by particle: {globalBest['particleID']} on eval: {globalBest['iEvaluation']} \")\n",
    "    print(f\" best parameters: {swarm.format_params( globalBest['params'], globalBest['nTrees'] )}, \\n elpased time: {elapsedTime:.2f} seconds\")\n",
    "    \n",
    "    return particleHistory, globalBest, elapsedTime"
   ]
  },
  {
   "cell_type": "markdown",
   "metadata": {},
   "source": [
    "### Inspect/Edit Library Code [optional]\n",
    "> swarm.import_library_function_in_new_cell ( **function-name** )"
   ]
  },
  {
   "cell_type": "code",
   "execution_count": 25,
   "metadata": {},
   "outputs": [],
   "source": [
    "import inspect"
   ]
  },
  {
   "cell_type": "code",
   "execution_count": 26,
   "metadata": {},
   "outputs": [
    {
     "data": {
      "text/plain": [
       "\u001b[0;31mSignature:\u001b[0m \u001b[0minspect\u001b[0m\u001b[0;34m.\u001b[0m\u001b[0mgetsource\u001b[0m\u001b[0;34m(\u001b[0m\u001b[0mobject\u001b[0m\u001b[0;34m)\u001b[0m\u001b[0;34m\u001b[0m\u001b[0;34m\u001b[0m\u001b[0m\n",
       "\u001b[0;31mDocstring:\u001b[0m\n",
       "Return the text of the source code for an object.\n",
       "\n",
       "The argument may be a module, class, method, function, traceback, frame,\n",
       "or code object.  The source code is returned as a single string.  An\n",
       "OSError is raised if the source code cannot be retrieved.\n",
       "\u001b[0;31mFile:\u001b[0m      /opt/conda/envs/rapids/lib/python3.6/inspect.py\n",
       "\u001b[0;31mType:\u001b[0m      function\n"
      ]
     },
     "metadata": {},
     "output_type": "display_data"
    }
   ],
   "source": [
    "?inspect.getsource"
   ]
  },
  {
   "cell_type": "code",
   "execution_count": 27,
   "metadata": {},
   "outputs": [
    {
     "name": "stdout",
     "output_type": "stream",
     "text": [
      "<function sample_params at 0x7fed51284950>\n",
      "<function initialize_particle_swarm at 0x7fed512849d8>\n"
     ]
    }
   ],
   "source": [
    "sampleImportFlag = True\n",
    "if sampleImportFlag:\n",
    "    swarm.import_library_function_in_new_cell ( [ swarm.sample_params, swarm.initialize_particle_swarm] )"
   ]
  },
  {
   "cell_type": "code",
   "execution_count": null,
   "metadata": {},
   "outputs": [],
   "source": [
    "# note: code below is imported from library\n",
    "#! if you plan to make changes be sure to fix any references to point to this local version\n",
    "\n",
    "def sample_params (paramRanges, randomSeed = None):\n",
    "    \n",
    "    if randomSeed:\n",
    "        np.random.seed(randomSeed)\n",
    "    \n",
    "    paramSamples = []\n",
    "    velocitySamples = []\n",
    "    \n",
    "    for iParam, paramRange in paramRanges.items():        \n",
    "        lowerBound = paramRange[1]\n",
    "        upperBound = paramRange[2]\n",
    "        paramType = paramRange[3]\n",
    "\n",
    "        if paramType == 'int':\n",
    "            paramSamples += [ np.random.randint(low = lowerBound, high = upperBound) ]\n",
    "            \n",
    "        elif paramType =='float':            \n",
    "            paramSamples += [ np.random.uniform(low = lowerBound, high = upperBound) ]\n",
    "                \n",
    "        velocitySamples += [ np.random.uniform( low = -np.abs( upperBound - lowerBound ), high = np.abs( upperBound - lowerBound ) ) ]\n",
    "        \n",
    "    return np.array(paramSamples), np.array( velocitySamples)\n",
    "\n",
    "\n",
    "def initialize_particle_swarm ( nParticles, paramRanges, randomSeed = None, plotFlag = True ):\n",
    "    \n",
    "    if randomSeed is not None:\n",
    "        np.random.seed(randomSeed)\n",
    "\n",
    "    particleParams = []\n",
    "    particleVelocities = []\n",
    "    \n",
    "    for iParticle in range ( nParticles ):        \n",
    "        paramSamples, velocitySamples = sample_params ( paramRanges )        \n",
    "        particleVelocities += [ velocitySamples ]\n",
    "        particleParams += [ paramSamples ]\n",
    "        \n",
    "    particleColors = np.random.rand( nParticles, 3)\n",
    "    \n",
    "    globalBest = {'accuracy': 0,\n",
    "                  'particleID': -1,\n",
    "                  'params': [],\n",
    "                  'iEvaluation': - 1}    \n",
    "    \n",
    "    if plotFlag:\n",
    "        particles = np.array( particleParams )\n",
    "        velocities = np.array( particleVelocities )        \n",
    "        quiverSizes = np.clip( np.linalg.norm( velocities, axis = 1 ), 5, 15)\n",
    "        \n",
    "        ipv.figure()\n",
    "        ipv.quiver( particles[:,0], particles[:,1], particles[:,2], velocities[:,0], velocities[:,1], velocities[:,2], color = particleColors, size = quiverSizes)\n",
    "        ipv.xlim( paramRanges[0][1], paramRanges[0][2] );  ipv.ylim( paramRanges[1][1], paramRanges[1][2] );  ipv.zlim( paramRanges[2][1], paramRanges[2][2] )\n",
    "        ipv.show()\n",
    "        \n",
    "    return particleParams, particleVelocities, globalBest, particleColors\n",
    "\n"
   ]
  },
  {
   "cell_type": "code",
   "execution_count": 28,
   "metadata": {},
   "outputs": [],
   "source": [
    "# note: code below is imported from library\n",
    "#! if you plan to make changes be sure to fix any references to point to this local version\n",
    "\n",
    "def sample_params (paramRanges, randomSeed = None):\n",
    "    \n",
    "    if randomSeed:\n",
    "        np.random.seed(randomSeed)\n",
    "    \n",
    "    paramSamples = []\n",
    "    velocitySamples = []\n",
    "    \n",
    "    for iParam, paramRange in paramRanges.items():        \n",
    "        lowerBound = paramRange[1]\n",
    "        upperBound = paramRange[2]\n",
    "        paramType = paramRange[3]\n",
    "\n",
    "        if paramType == 'int':\n",
    "            paramSamples += [ np.random.randint(low = lowerBound, high = upperBound) ]\n",
    "            \n",
    "        elif paramType =='float':            \n",
    "            paramSamples += [ np.random.uniform(low = lowerBound, high = upperBound) ]\n",
    "                \n",
    "        velocitySamples += [ np.random.uniform( low = -np.abs( upperBound - lowerBound ), high = np.abs( upperBound - lowerBound ) ) ]\n",
    "        \n",
    "    return np.array(paramSamples), np.array( velocitySamples)\n",
    "\n",
    "\n",
    "def initialize_particle_swarm ( nParticles, paramRanges, randomSeed = None, plotFlag = True ):\n",
    "    \n",
    "    if randomSeed is not None:\n",
    "        np.random.seed(randomSeed)\n",
    "\n",
    "    particleParams = []\n",
    "    particleVelocities = []\n",
    "    \n",
    "    for iParticle in range ( nParticles ):        \n",
    "        paramSamples, velocitySamples = sample_params ( paramRanges )        \n",
    "        particleVelocities += [ velocitySamples ]\n",
    "        particleParams += [ paramSamples ]\n",
    "        \n",
    "    particleColors = np.random.rand( nParticles, 3)\n",
    "    \n",
    "    globalBest = {'accuracy': 0,\n",
    "                  'particleID': -1,\n",
    "                  'params': [],\n",
    "                  'iEvaluation': - 1}    \n",
    "    \n",
    "    if plotFlag:\n",
    "        particles = np.array( particleParams )\n",
    "        velocities = np.array( particleVelocities )        \n",
    "        quiverSizes = np.clip( np.linalg.norm( velocities, axis = 1 ), 5, 15)\n",
    "        \n",
    "        ipv.figure()\n",
    "        ipv.quiver( particles[:,0], particles[:,1], particles[:,2], velocities[:,0], velocities[:,1], velocities[:,2], color = particleColors, size = quiverSizes)\n",
    "        ipv.xlim( paramRanges[0][1], paramRanges[0][2] );  ipv.ylim( paramRanges[1][1], paramRanges[1][2] );  ipv.zlim( paramRanges[2][1], paramRanges[2][2] )\n",
    "        ipv.show()\n",
    "        \n",
    "    return particleParams, particleVelocities, globalBest, particleColors\n",
    "\n"
   ]
  },
  {
   "cell_type": "code",
   "execution_count": 29,
   "metadata": {},
   "outputs": [],
   "source": [
    "# note: code below is imported from library\n",
    "#! if you plan to make changes be sure to fix any references to point to this local version\n",
    "\n",
    "def sample_params (paramRanges, randomSeed = None):\n",
    "    \n",
    "    if randomSeed:\n",
    "        np.random.seed(randomSeed)\n",
    "    \n",
    "    paramSamples = []\n",
    "    velocitySamples = []\n",
    "    \n",
    "    for iParam, paramRange in paramRanges.items():        \n",
    "        lowerBound = paramRange[1]\n",
    "        upperBound = paramRange[2]\n",
    "        paramType = paramRange[3]\n",
    "\n",
    "        if paramType == 'int':\n",
    "            paramSamples += [ np.random.randint(low = lowerBound, high = upperBound) ]\n",
    "            \n",
    "        elif paramType =='float':            \n",
    "            paramSamples += [ np.random.uniform(low = lowerBound, high = upperBound) ]\n",
    "                \n",
    "        velocitySamples += [ np.random.uniform( low = -np.abs( upperBound - lowerBound ), high = np.abs( upperBound - lowerBound ) ) ]\n",
    "        \n",
    "    return np.array(paramSamples), np.array( velocitySamples)\n",
    "\n",
    "\n",
    "def initialize_particle_swarm ( nParticles, paramRanges, randomSeed = None, plotFlag = True ):\n",
    "    \n",
    "    if randomSeed is not None:\n",
    "        np.random.seed(randomSeed)\n",
    "\n",
    "    particleParams = []\n",
    "    particleVelocities = []\n",
    "    \n",
    "    for iParticle in range ( nParticles ):        \n",
    "        paramSamples, velocitySamples = sample_params ( paramRanges )        \n",
    "        particleVelocities += [ velocitySamples ]\n",
    "        particleParams += [ paramSamples ]\n",
    "        \n",
    "    particleColors = np.random.rand( nParticles, 3)\n",
    "    \n",
    "    globalBest = {'accuracy': 0,\n",
    "                  'particleID': -1,\n",
    "                  'params': [],\n",
    "                  'iEvaluation': - 1}    \n",
    "    \n",
    "    if plotFlag:\n",
    "        particles = np.array( particleParams )\n",
    "        velocities = np.array( particleVelocities )        \n",
    "        quiverSizes = np.clip( np.linalg.norm( velocities, axis = 1 ), 5, 15)\n",
    "        \n",
    "        ipv.figure()\n",
    "        ipv.quiver( particles[:,0], particles[:,1], particles[:,2], velocities[:,0], velocities[:,1], velocities[:,2], color = particleColors, size = quiverSizes)\n",
    "        ipv.xlim( paramRanges[0][1], paramRanges[0][2] );  ipv.ylim( paramRanges[1][1], paramRanges[1][2] );  ipv.zlim( paramRanges[2][1], paramRanges[2][2] )\n",
    "        ipv.show()\n",
    "        \n",
    "    return particleParams, particleVelocities, globalBest, particleColors\n",
    "\n"
   ]
  },
  {
   "cell_type": "code",
   "execution_count": 30,
   "metadata": {},
   "outputs": [],
   "source": [
    "# note: code below is imported from library\n",
    "#! if you plan to make changes be sure to fix any references to point to this local version\n",
    "\n",
    "def sample_params (paramRanges, randomSeed = None):\n",
    "    \n",
    "    if randomSeed:\n",
    "        np.random.seed(randomSeed)\n",
    "    \n",
    "    paramSamples = []\n",
    "    velocitySamples = []\n",
    "    \n",
    "    for iParam, paramRange in paramRanges.items():        \n",
    "        lowerBound = paramRange[1]\n",
    "        upperBound = paramRange[2]\n",
    "        paramType = paramRange[3]\n",
    "\n",
    "        if paramType == 'int':\n",
    "            paramSamples += [ np.random.randint(low = lowerBound, high = upperBound) ]\n",
    "            \n",
    "        elif paramType =='float':            \n",
    "            paramSamples += [ np.random.uniform(low = lowerBound, high = upperBound) ]\n",
    "                \n",
    "        velocitySamples += [ np.random.uniform( low = -np.abs( upperBound - lowerBound ), high = np.abs( upperBound - lowerBound ) ) ]\n",
    "        \n",
    "    return np.array(paramSamples), np.array( velocitySamples)\n",
    "\n",
    "\n",
    "def initialize_particle_swarm ( nParticles, paramRanges, randomSeed = None, plotFlag = True ):\n",
    "    \n",
    "    if randomSeed is not None:\n",
    "        np.random.seed(randomSeed)\n",
    "\n",
    "    particleParams = []\n",
    "    particleVelocities = []\n",
    "    \n",
    "    for iParticle in range ( nParticles ):        \n",
    "        paramSamples, velocitySamples = sample_params ( paramRanges )        \n",
    "        particleVelocities += [ velocitySamples ]\n",
    "        particleParams += [ paramSamples ]\n",
    "        \n",
    "    particleColors = np.random.rand( nParticles, 3)\n",
    "    \n",
    "    globalBest = {'accuracy': 0,\n",
    "                  'particleID': -1,\n",
    "                  'params': [],\n",
    "                  'iEvaluation': - 1}    \n",
    "    \n",
    "    if plotFlag:\n",
    "        particles = np.array( particleParams )\n",
    "        velocities = np.array( particleVelocities )        \n",
    "        quiverSizes = np.clip( np.linalg.norm( velocities, axis = 1 ), 5, 15)\n",
    "        \n",
    "        ipv.figure()\n",
    "        ipv.quiver( particles[:,0], particles[:,1], particles[:,2], velocities[:,0], velocities[:,1], velocities[:,2], color = particleColors, size = quiverSizes)\n",
    "        ipv.xlim( paramRanges[0][1], paramRanges[0][2] );  ipv.ylim( paramRanges[1][1], paramRanges[1][2] );  ipv.zlim( paramRanges[2][1], paramRanges[2][2] )\n",
    "        ipv.show()\n",
    "        \n",
    "    return particleParams, particleVelocities, globalBest, particleColors\n",
    "\n"
   ]
  },
  {
   "cell_type": "markdown",
   "metadata": {},
   "source": [
    "-----\n",
    "# **Run HPO**\n"
   ]
  },
  {
   "cell_type": "markdown",
   "metadata": {},
   "source": [
    "## Define the search range of the target parameters"
   ]
  },
  {
   "cell_type": "code",
   "execution_count": 31,
   "metadata": {},
   "outputs": [],
   "source": [
    "paramRanges = { 0: ['max_depth', 3, 20, 'int'],\n",
    "                1: ['learning_rate', .001, 1, 'float'],\n",
    "                2: ['gamma', 0, 2, 'float'] }"
   ]
  },
  {
   "cell_type": "markdown",
   "metadata": {},
   "source": [
    "## Define size of the swarm & duration of search"
   ]
  },
  {
   "cell_type": "code",
   "execution_count": 32,
   "metadata": {},
   "outputs": [],
   "source": [
    "nParticles = 16\n",
    "nEpochs = 4"
   ]
  },
  {
   "cell_type": "markdown",
   "metadata": {},
   "source": [
    "-----\n",
    "## Launch **Synchronous** Particle Swarm\n",
    "> [ i.e., wait for all particles to finish before making any updates ] "
   ]
  },
  {
   "cell_type": "code",
   "execution_count": 33,
   "metadata": {},
   "outputs": [
    {
     "name": "stdout",
     "output_type": "stream",
     "text": [
      "0.979950 -- new global best by particle: 0, eval: 0, params: 15, 0.8444, 1.6945, 2\n",
      "   - new personal best for particle 0, 0.9799, params: 15, 0.8444, 1.6945, 2\n",
      "0.984012 -- new global best by particle: 1, eval: 1, params: 7, 0.0577, 0.9553, 295\n",
      "   - new personal best for particle 1, 0.9840, params: 7, 0.0577, 0.9553, 295\n",
      "   - new personal best for particle 2, 0.9784, params: 17, 0.9257, 0.1743, 4\n",
      "   - new personal best for particle 3, 0.9825, params: 8, 0.8701, 1.5983, 18\n",
      "   - new personal best for particle 4, 0.9798, params: 17, 0.5824, 1.5172, 4\n",
      "   - new personal best for particle 5, 0.9825, params: 6, 0.7372, 0.2704, 72\n",
      "   - new personal best for particle 6, 0.9827, params: 8, 0.6173, 1.3636, 39\n",
      "   - new personal best for particle 7, 0.3176, params: 4, 0.0612, 1.3413, 37\n",
      "   - new personal best for particle 8, 0.9820, params: 3, 0.3643, 0.8772, 257\n",
      "   - new personal best for particle 9, 0.9840, params: 7, 0.6354, 1.1637, 60\n",
      "   - new personal best for particle 10, 0.9834, params: 6, 0.3387, 0.6344, 84\n",
      "   - new personal best for particle 11, 0.9833, params: 6, 0.8212, 1.6759, 82\n",
      "   - new personal best for particle 12, 0.9829, params: 6, 0.9768, 1.4785, 44\n",
      "   - new personal best for particle 13, 0.9830, params: 14, 0.2968, 0.6360, 16\n",
      "   - new personal best for particle 14, 0.9833, params: 6, 0.5670, 1.0465, 27\n",
      "0.984713 -- new global best by particle: 15, eval: 15, params: 4, 0.2784, 1.6847, 296\n",
      "   - new personal best for particle 15, 0.9847, params: 4, 0.2784, 1.6847, 296\n",
      "> on epoch 0 out of 4\n",
      "   - new personal best for particle 3, 0.9825, params: 8, 0.6590, 1.3857, 37\n",
      "   - new personal best for particle 4, 0.9802, params: 15, 0.4569, 1.3000, 6\n",
      "   - new personal best for particle 5, 0.9839, params: 6, 0.4426, 0.5036, 154\n",
      "   - new personal best for particle 6, 0.9842, params: 8, 0.5780, 1.2745, 58\n",
      "   - new personal best for particle 7, 0.9839, params: 5, 0.0766, 1.1479, 434\n",
      "0.984875 -- new global best by particle: 8, eval: 24, params: 4, 0.2377, 1.0089, 203\n",
      "   - new personal best for particle 8, 0.9849, params: 4, 0.2377, 1.0089, 203\n",
      "   - new personal best for particle 9, 0.9848, params: 7, 0.5544, 1.0995, 49\n",
      "0.984975 -- new global best by particle: 10, eval: 26, params: 6, 0.3535, 0.6931, 76\n",
      "   - new personal best for particle 10, 0.9850, params: 6, 0.3535, 0.6931, 76\n",
      "   - new personal best for particle 12, 0.9838, params: 6, 0.6812, 1.2121, 83\n",
      "   - new personal best for particle 13, 0.9844, params: 13, 0.2332, 0.6530, 18\n",
      "   - new personal best for particle 14, 0.9847, params: 7, 0.3664, 0.9336, 154\n",
      "> on epoch 1 out of 4\n",
      "   - new personal best for particle 0, 0.9827, params: 11, 0.6834, 1.7059, 15\n",
      "0.985187 -- new global best by particle: 1, eval: 33, params: 6, 0.1151, 1.2306, 264\n",
      "   - new personal best for particle 1, 0.9852, params: 6, 0.1151, 1.2306, 264\n",
      "   - new personal best for particle 2, 0.9800, params: 17, 0.8689, 0.1112, 6\n",
      "   - new personal best for particle 3, 0.9848, params: 7, 0.5272, 1.4704, 88\n",
      "   - new personal best for particle 4, 0.9837, params: 12, 0.4067, 1.3839, 16\n",
      "   - new personal best for particle 5, 0.9850, params: 5, 0.3636, 0.9781, 163\n",
      "   - new personal best for particle 7, 0.9843, params: 5, 0.1482, 1.3266, 313\n",
      "   - new personal best for particle 10, 0.9851, params: 6, 0.3542, 0.6960, 56\n",
      "   - new personal best for particle 11, 0.9833, params: 6, 0.7703, 1.5805, 62\n",
      "   - new personal best for particle 12, 0.9849, params: 6, 0.5573, 1.0260, 95\n",
      "> on epoch 2 out of 4\n",
      "   - new personal best for particle 6, 0.9844, params: 7, 0.4772, 1.3065, 89\n",
      "0.985213 -- new global best by particle: 9, eval: 57, params: 6, 0.3931, 1.1097, 105\n",
      "   - new personal best for particle 9, 0.9852, params: 6, 0.3931, 1.1097, 105\n",
      "   - new personal best for particle 11, 0.9837, params: 6, 0.7644, 1.5770, 108\n",
      "   - new personal best for particle 14, 0.9847, params: 7, 0.2706, 0.9857, 79\n",
      "> on epoch 3 out of 4\n",
      "\n",
      "\n",
      " best accuracy: 0.985213, by particle: 9 on eval: 57 \n",
      " best parameters: 6, 0.3931, 1.1097, 105, \n",
      " elpased time: 30.31 seconds\n"
     ]
    }
   ],
   "source": [
    "mode = {'allowAsyncUpdates': False, 'randomSearch': False }\n",
    "particleHistory, globalBest, elapsedTime = run_hpo ( client, mode, nParticles, nEpochs, paramRanges, \n",
    "                                                     trainData_cDF, trainLabels_cDF, testData_cDF, testLabels_cDF, \n",
    "                                                     wMomentum = .05, wIndividual = .25, wBest = .45, wExplore = 0,\n",
    "                                                     plotFlag = False, \n",
    "                                                     retainPredictionsFlag = True )"
   ]
  },
  {
   "cell_type": "code",
   "execution_count": 34,
   "metadata": {},
   "outputs": [
    {
     "data": {
      "image/png": "[encoded data removed]",
      "text/plain": [
       "<Figure size 1080x360 with 1 Axes>"
      ]
     },
     "metadata": {
      "needs_background": "light"
     },
     "output_type": "display_data"
    }
   ],
   "source": [
    "sortedBarHeightsDF = swarm.plot_eval_distribution ( particleHistory,  globalBest['particleID'] );\n"
   ]
  },
  {
   "cell_type": "code",
   "execution_count": 35,
   "metadata": {},
   "outputs": [
    {
     "data": {
      "application/vnd.jupyter.widget-view+json": {
       "model_id": "d67056374c59430f94e24050804a2a56",
       "version_major": 2,
       "version_minor": 0
      },
      "text/plain": [
       "VBox(children=(Figure(animation=200.0, camera=PerspectiveCamera(fov=46.0, position=(0.0, 0.0, 2.0), quaternion…"
      ]
     },
     "metadata": {},
     "output_type": "display_data"
    }
   ],
   "source": [
    "swarm.viz_particle_movement( particleHistory )"
   ]
  },
  {
   "cell_type": "markdown",
   "metadata": {},
   "source": [
    "## Launch **Asynchronous** Particle Swarm\n",
    "> i.e., particles update their location in hyper-parameter space as soon as their previous evaluation is complete\n",
    "\n",
    "> note it is possible that particles will query a stale version of the global best, but in practice this is inconsequential given the performance gain"
   ]
  },
  {
   "cell_type": "code",
   "execution_count": 36,
   "metadata": {},
   "outputs": [
    {
     "name": "stdout",
     "output_type": "stream",
     "text": [
      "0.983413 -- new global best by particle: 10, eval: 0, params: 6, 0.3387, 0.6344, 84\n",
      "   - new personal best for particle 10, 0.9834, params: 6, 0.3387, 0.6344, 84\n",
      "   - new personal best for particle 8, 0.9820, params: 3, 0.3643, 0.8772, 257\n",
      "   - new personal best for particle 3, 0.9825, params: 8, 0.8701, 1.5983, 18\n",
      "   - new personal best for particle 12, 0.9829, params: 6, 0.9768, 1.4785, 44\n",
      "0.984713 -- new global best by particle: 15, eval: 4, params: 4, 0.2784, 1.6847, 296\n",
      "   - new personal best for particle 15, 0.9847, params: 4, 0.2784, 1.6847, 296\n",
      "   - new personal best for particle 10, 0.9846, params: 6, 0.3561, 0.6901, 98\n",
      "   - new personal best for particle 8, 0.9843, params: 4, 0.3602, 0.8691, 194\n",
      "   - new personal best for particle 2, 0.9784, params: 17, 0.9257, 0.1743, 4\n",
      "   - new personal best for particle 12, 0.9846, params: 5, 0.6072, 1.2939, 62\n",
      "0.984925 -- new global best by particle: 8, eval: 12, params: 4, 0.3243, 1.2241, 182\n",
      "   - new personal best for particle 8, 0.9849, params: 4, 0.3243, 1.2241, 182\n",
      "   - new personal best for particle 5, 0.9825, params: 6, 0.7372, 0.2704, 72\n",
      "   - new personal best for particle 4, 0.9798, params: 17, 0.5824, 1.5172, 4\n",
      "   - new personal best for particle 3, 0.9833, params: 8, 0.7486, 1.2834, 33\n",
      "   - new personal best for particle 2, 0.9788, params: 17, 0.8753, 0.0959, 2\n",
      "   - new personal best for particle 12, 0.9848, params: 5, 0.4007, 1.3122, 223\n",
      "   - new personal best for particle 5, 0.9849, params: 5, 0.5471, 0.6090, 242\n",
      "0.985113 -- new global best by particle: 8, eval: 37, params: 4, 0.3243, 1.2241, 259\n",
      "   - new personal best for particle 8, 0.9851, params: 4, 0.3243, 1.2241, 259\n",
      "   - new personal best for particle 4, 0.9811, params: 14, 0.5226, 1.3662, 12\n",
      "   - new personal best for particle 4, 0.9832, params: 11, 0.4708, 1.3237, 21\n",
      "0.985450 -- new global best by particle: 12, eval: 53, params: 5, 0.3410, 1.2431, 237\n",
      "   - new personal best for particle 12, 0.9855, params: 5, 0.3410, 1.2431, 237\n",
      "   - new personal best for particle 4, 0.9839, params: 9, 0.4321, 1.2971, 32\n",
      "   - new personal best for particle 3, 0.9839, params: 6, 0.4957, 1.2489, 156\n",
      "   - new personal best for particle 4, 0.9841, params: 7, 0.3960, 1.2756, 47\n",
      "   - new personal best for particle 3, 0.9845, params: 6, 0.4161, 1.2461, 85\n",
      "\n",
      "\n",
      " best accuracy: 0.98545, by particle: 12 on eval: 53 \n",
      " best parameters: 5, 0.3410, 1.2431, 237, \n",
      " elpased time: 18.96 seconds\n"
     ]
    }
   ],
   "source": [
    "mode = {'allowAsyncUpdates': True, 'randomSearch': False }\n",
    "particleHistoryAsync, globalBestAsync, elapsedTime = run_hpo ( client, mode, nParticles, nEpochs, paramRanges, \n",
    "                                                     trainData_cDF, trainLabels_cDF, testData_cDF, testLabels_cDF, \n",
    "                                                     wMomentum = .05, wIndividual = .25, wBest = .45, wExplore = 0,\n",
    "                                                     plotFlag = False, \n",
    "                                                     retainPredictionsFlag = True )"
   ]
  },
  {
   "cell_type": "code",
   "execution_count": 37,
   "metadata": {},
   "outputs": [
    {
     "data": {
      "image/png": "[encoded data removed]",
      "text/plain": [
       "<Figure size 1080x360 with 1 Axes>"
      ]
     },
     "metadata": {
      "needs_background": "light"
     },
     "output_type": "display_data"
    }
   ],
   "source": [
    "sortedBarHeightsDF = swarm.plot_eval_distribution ( particleHistoryAsync,  globalBestAsync['particleID'] );"
   ]
  },
  {
   "cell_type": "code",
   "execution_count": 38,
   "metadata": {},
   "outputs": [
    {
     "data": {
      "application/vnd.jupyter.widget-view+json": {
       "model_id": "b7454d98e2294ccc88f31c75a18f1200",
       "version_major": 2,
       "version_minor": 0
      },
      "text/plain": [
       "VBox(children=(Figure(animation=200.0, camera=PerspectiveCamera(fov=46.0, position=(0.0, 0.0, 2.0), quaternion…"
      ]
     },
     "metadata": {},
     "output_type": "display_data"
    }
   ],
   "source": [
    "swarm.viz_particle_movement( particleHistoryAsync )"
   ]
  },
  {
   "cell_type": "markdown",
   "metadata": {},
   "source": [
    "## Launch Baseline -- **Asynchronous Random Search**"
   ]
  },
  {
   "cell_type": "code",
   "execution_count": null,
   "metadata": {},
   "outputs": [
    {
     "name": "stdout",
     "output_type": "stream",
     "text": [
      "0.983262 -- new global best by particle: 11, eval: 0, params: 6, 0.8212, 1.6759, 82\n",
      "random-search-mode : skipping updates to personal best\n",
      "random-search-update: params [7.         0.43381578 0.3616491 ] velos: [ 6.66624312 -0.80154919 -1.39752778]\n",
      "random-search-mode : skipping updates to personal best\n",
      "random-search-update: params [12.          0.49509534  1.66382272] velos: [-6.84212084 -0.11385613  0.33328695]\n",
      "0.984012 -- new global best by particle: 9, eval: 2, params: 7, 0.6354, 1.1637, 60\n",
      "random-search-mode : skipping updates to personal best\n",
      "random-search-update: params [1.30000000e+01 4.25303403e-01 7.08119463e-04] velos: [ 9.81177327 -0.04221845  1.42546818]\n",
      "0.984725 -- new global best by particle: 11, eval: 3, params: 7, 0.4338, 0.3616, 32\n",
      "random-search-mode : skipping updates to personal best\n",
      "random-search-update: params [7.         0.43381578 0.3616491 ] velos: [ 6.66624312 -0.80154919 -1.39752778]\n",
      "random-search-mode : skipping updates to personal best\n",
      "random-search-update: params [5.         0.05380177 1.96789854] velos: [-6.98925054 -0.36465853  0.03607865]\n",
      "random-search-mode : skipping updates to personal best\n",
      "random-search-update: params [1.30000000e+01 4.25303403e-01 7.08119463e-04] velos: [ 9.81177327 -0.04221845  1.42546818]\n",
      "random-search-mode : skipping updates to personal best\n",
      "random-search-update: params [6.         0.39970177 1.55150581] velos: [-14.00753223   0.56072723   0.6224724 ]\n",
      "random-search-mode : skipping updates to personal best\n",
      "random-search-update: params [6.         0.74489584 0.71862168] velos: [-13.43693245  -0.27871933   0.43695352]\n",
      "random-search-mode : skipping updates to personal best\n",
      "random-search-update: params [7.         0.43381578 0.3616491 ] velos: [ 6.66624312 -0.80154919 -1.39752778]\n",
      "random-search-mode : skipping updates to personal best\n",
      "random-search-update: params [18.          0.52456149  0.61934453] velos: [-12.26631446   0.51213518   1.4327149 ]\n",
      "random-search-mode : skipping updates to personal best\n",
      "random-search-update: params [6.         0.74489584 0.71862168] velos: [-13.43693245  -0.27871933   0.43695352]\n",
      "random-search-mode : skipping updates to personal best\n",
      "random-search-update: params [5.         0.05380177 1.96789854] velos: [-6.98925054 -0.36465853  0.03607865]\n",
      "random-search-mode : skipping updates to personal best\n",
      "random-search-update: params [12.          0.49509534  1.66382272] velos: [-6.84212084 -0.11385613  0.33328695]\n",
      "random-search-mode : skipping updates to personal best\n",
      "random-search-update: params [6.         0.74489584 0.71862168] velos: [-13.43693245  -0.27871933   0.43695352]\n",
      "random-search-mode : skipping updates to personal best\n",
      "random-search-update: params [7.         0.43381578 0.3616491 ] velos: [ 6.66624312 -0.80154919 -1.39752778]\n",
      "random-search-mode : skipping updates to personal best\n",
      "random-search-update: params [6.         0.74489584 0.71862168] velos: [-13.43693245  -0.27871933   0.43695352]\n",
      "random-search-mode : skipping updates to personal best\n",
      "random-search-update: params [12.          0.49509534  1.66382272] velos: [-6.84212084 -0.11385613  0.33328695]\n",
      "random-search-mode : skipping updates to personal best\n",
      "random-search-update: params [7.         0.43381578 0.3616491 ] velos: [ 6.66624312 -0.80154919 -1.39752778]\n",
      "random-search-mode : skipping updates to personal best\n",
      "random-search-update: params [8.         0.24979405 0.62615387] velos: [4.58434601 0.51563558 1.74894943]\n",
      "random-search-mode : skipping updates to personal best\n",
      "random-search-update: params [3.         0.52881304 1.39998238] velos: [0.2430894  0.79177784 0.85718841]\n",
      "random-search-mode : skipping updates to personal best\n",
      "random-search-update: params [1.30000000e+01 4.25303403e-01 7.08119463e-04] velos: [ 9.81177327 -0.04221845  1.42546818]\n",
      "random-search-mode : skipping updates to personal best\n",
      "random-search-update: params [6.         0.39970177 1.55150581] velos: [-14.00753223   0.56072723   0.6224724 ]\n",
      "random-search-mode : skipping updates to personal best\n",
      "random-search-update: params [7.         0.43381578 0.3616491 ] velos: [ 6.66624312 -0.80154919 -1.39752778]\n",
      "random-search-mode : skipping updates to personal best\n",
      "random-search-update: params [8.         0.24979405 0.62615387] velos: [4.58434601 0.51563558 1.74894943]\n",
      "random-search-mode : skipping updates to personal best\n",
      "random-search-update: params [6.         0.39970177 1.55150581] velos: [-14.00753223   0.56072723   0.6224724 ]\n",
      "random-search-mode : skipping updates to personal best\n",
      "random-search-update: params [12.          0.49509534  1.66382272] velos: [-6.84212084 -0.11385613  0.33328695]\n",
      "random-search-mode : skipping updates to personal best\n",
      "random-search-update: params [4.         0.41908967 0.1681193 ] velos: [-9.56900503 -0.50329387 -0.61800544]\n",
      "random-search-mode : skipping updates to personal best\n",
      "random-search-update: params [18.          0.52456149  0.61934453] velos: [-12.26631446   0.51213518   1.4327149 ]\n",
      "random-search-mode : skipping updates to personal best\n",
      "random-search-update: params [5.         0.05380177 1.96789854] velos: [-6.98925054 -0.36465853  0.03607865]\n",
      "random-search-mode : skipping updates to personal best\n",
      "random-search-update: params [7.         0.43381578 0.3616491 ] velos: [ 6.66624312 -0.80154919 -1.39752778]\n",
      "random-search-mode : skipping updates to personal best\n",
      "random-search-update: params [6.         0.95140159 1.67961159] velos: [8.54841697 0.24177713 1.1613207 ]\n",
      "random-search-mode : skipping updates to personal best\n",
      "random-search-update: params [1.30000000e+01 4.25303403e-01 7.08119463e-04] velos: [ 9.81177327 -0.04221845  1.42546818]\n",
      "random-search-mode : skipping updates to personal best\n",
      "random-search-update: params [3.         0.52881304 1.39998238] velos: [0.2430894  0.79177784 0.85718841]\n",
      "random-search-mode : skipping updates to personal best\n",
      "random-search-update: params [6.         0.74489584 0.71862168] velos: [-13.43693245  -0.27871933   0.43695352]\n",
      "random-search-mode : skipping updates to personal best\n",
      "random-search-update: params [10.          0.90976099  0.74412681] velos: [11.95975513  0.64621549  1.91303893]\n",
      "random-search-mode : skipping updates to personal best\n",
      "random-search-update: params [10.          0.90976099  0.74412681] velos: [11.95975513  0.64621549  1.91303893]\n",
      "random-search-mode : skipping updates to personal best\n",
      "random-search-update: params [1.30000000e+01 4.25303403e-01 7.08119463e-04] velos: [ 9.81177327 -0.04221845  1.42546818]\n",
      "random-search-mode : skipping updates to personal best\n",
      "random-search-update: params [6.         0.74489584 0.71862168] velos: [-13.43693245  -0.27871933   0.43695352]\n",
      "random-search-mode : skipping updates to personal best\n",
      "random-search-update: params [6.         0.95140159 1.67961159] velos: [8.54841697 0.24177713 1.1613207 ]\n",
      "random-search-mode : skipping updates to personal best\n",
      "random-search-update: params [19.          0.88822256  1.35938408] velos: [-14.75721626   0.85845704   0.17710327]\n",
      "random-search-mode : skipping updates to personal best\n",
      "random-search-update: params [9.         0.11305857 0.29009233] velos: [4.89627896 0.40965054 0.34485419]\n",
      "random-search-mode : skipping updates to personal best\n",
      "random-search-update: params [4.         0.41908967 0.1681193 ] velos: [-9.56900503 -0.50329387 -0.61800544]\n",
      "random-search-mode : skipping updates to personal best\n",
      "random-search-update: params [4.         0.83211614 1.40201811] velos: [ 7.56634893  0.46765708 -1.22674759]\n",
      "random-search-mode : skipping updates to personal best\n",
      "random-search-update: params [17.          0.07209385  0.04098313] velos: [-2.98511107  0.2963872   0.57053687]\n",
      "random-search-mode : skipping updates to personal best\n",
      "random-search-update: params [1.30000000e+01 4.25303403e-01 7.08119463e-04] velos: [ 9.81177327 -0.04221845  1.42546818]\n",
      "random-search-mode : skipping updates to personal best\n",
      "random-search-update: params [4.         0.41908967 0.1681193 ] velos: [-9.56900503 -0.50329387 -0.61800544]\n",
      "random-search-mode : skipping updates to personal best\n",
      "random-search-update: params [6.         0.74489584 0.71862168] velos: [-13.43693245  -0.27871933   0.43695352]\n",
      "0.985237 -- new global best by particle: 2, eval: 47, params: 9, 0.1131, 0.2901, 125\n",
      "random-search-mode : skipping updates to personal best\n",
      "random-search-update: params [9.         0.11305857 0.29009233] velos: [4.89627896 0.40965054 0.34485419]\n",
      "random-search-mode : skipping updates to personal best\n",
      "random-search-update: params [4.         0.83211614 1.40201811] velos: [ 7.56634893  0.46765708 -1.22674759]\n",
      "random-search-mode : skipping updates to personal best\n",
      "random-search-update: params [19.          0.88822256  1.35938408] velos: [-14.75721626   0.85845704   0.17710327]\n",
      "random-search-mode : skipping updates to personal best\n",
      "random-search-update: params [6.         0.95140159 1.67961159] velos: [8.54841697 0.24177713 1.1613207 ]\n",
      "random-search-mode : skipping updates to personal best\n",
      "random-search-update: params [1.30000000e+01 4.25303403e-01 7.08119463e-04] velos: [ 9.81177327 -0.04221845  1.42546818]\n",
      "random-search-mode : skipping updates to personal best\n",
      "random-search-update: params [6.         0.74489584 0.71862168] velos: [-13.43693245  -0.27871933   0.43695352]\n",
      "random-search-mode : skipping updates to personal best\n",
      "random-search-update: params [9.         0.11305857 0.29009233] velos: [4.89627896 0.40965054 0.34485419]\n",
      "random-search-mode : skipping updates to personal best\n",
      "random-search-update: params [4.         0.83211614 1.40201811] velos: [ 7.56634893  0.46765708 -1.22674759]\n",
      "random-search-mode : skipping updates to personal best\n",
      "random-search-update: params [1.30000000e+01 4.25303403e-01 7.08119463e-04] velos: [ 9.81177327 -0.04221845  1.42546818]\n",
      "random-search-mode : skipping updates to personal best\n",
      "random-search-update: params [9.         0.11305857 0.29009233] velos: [4.89627896 0.40965054 0.34485419]\n",
      "random-search-mode : skipping updates to personal best\n",
      "random-search-update: params [6.         0.74489584 0.71862168] velos: [-13.43693245  -0.27871933   0.43695352]\n",
      "random-search-mode : skipping updates to personal best\n",
      "random-search-update: params [19.          0.88822256  1.35938408] velos: [-14.75721626   0.85845704   0.17710327]\n",
      "random-search-mode : skipping updates to personal best\n",
      "random-search-update: params [4.         0.83211614 1.40201811] velos: [ 7.56634893  0.46765708 -1.22674759]\n",
      "random-search-mode : skipping updates to personal best\n",
      "random-search-update: params [6.         0.95140159 1.67961159] velos: [8.54841697 0.24177713 1.1613207 ]\n"
     ]
    }
   ],
   "source": [
    "mode = {'allowAsyncUpdates': True, 'randomSearch': True }\n",
    "particleHistoryBaseline, globalBestBaseline, _ = run_hpo ( client, mode, nParticles, nEpochs, paramRanges, \n",
    "                                                           trainData_cDF, trainLabels_cDF, testData_cDF, testLabels_cDF, \n",
    "                                                           wMomentum = .05, wIndividual = .25, wBest = .45, wExplore = 0, \n",
    "                                                           plotFlag = False, \n",
    "                                                           retainPredictionsFlag = True )"
   ]
  },
  {
   "cell_type": "code",
   "execution_count": null,
   "metadata": {},
   "outputs": [],
   "source": [
    "sortedBarHeightsDF = swarm.plot_eval_distribution ( particleHistoryBaseline,  globalBestBaseline['particleID'] );"
   ]
  },
  {
   "cell_type": "code",
   "execution_count": null,
   "metadata": {},
   "outputs": [],
   "source": [
    "swarm.viz_particle_movement( particleHistoryBaseline )"
   ]
  },
  {
   "cell_type": "code",
   "execution_count": null,
   "metadata": {},
   "outputs": [],
   "source": []
  }
 ],
 "metadata": {
  "kernelspec": {
   "display_name": "Python 3",
   "language": "python",
   "name": "python3"
  },
  "language_info": {
   "codemirror_mode": {
    "name": "ipython",
    "version": 3
   },
   "file_extension": ".py",
   "mimetype": "text/x-python",
   "name": "python",
   "nbconvert_exporter": "python",
   "pygments_lexer": "ipython3",
   "version": "3.6.7"
  }
 },
 "nbformat": 4,
 "nbformat_minor": 4
}
