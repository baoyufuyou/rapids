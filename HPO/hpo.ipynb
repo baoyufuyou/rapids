{
 "cells": [
  {
   "cell_type": "markdown",
   "metadata": {},
   "source": [
    "# <center>Scaling XGBoost Hyper-Parameter Optimization</center>"
   ]
  },
  {
   "cell_type": "markdown",
   "metadata": {},
   "source": [
    "<img src=\"images/swarm.png\" width=\"450\"/>"
   ]
  },
  {
   "cell_type": "markdown",
   "metadata": {},
   "source": [
    "# Motivation:"
   ]
  },
  {
   "cell_type": "markdown",
   "metadata": {},
   "source": [
    "After applying domain knowledge, intuition, and experimentation to carve out the space of all possible models, data scientists often run a final search over promising models to reach highest performance before deploying a model to production. \n",
    "\n",
    "This search is known as **hyper-parameter optimization (HPO)** since it searches over the parameters that are fixed during training. \n",
    "> [Hyper-parameters]( https://en.wikipedia.org/wiki/Hyperparameter_(machine_learning) ) either define the *architecture of the model* or the *settings of the learning algorithm.* \n",
    "\n",
    "HPO is an NP hard problem (i.e., no fast solution is known), and a naiive solution would be to search over the all possible parameters (e.g., grid search) but this is a pure exploration strategy and is in practice outdone by search strategies that balance exploration and exploitation (i.e. can leverage the knowledge from the search so far to inform where to look next). \n",
    "\n",
    "In this notebook we demonstrate the power of GPUs to accelerate HPO while also providing a learning aid for scaling concepts.\n",
    "\n",
    "We leverage a simple yet powerful form of a search strategy called **Particle Swarm Optimization ( [PSO](https://en.wikipedia.org/wiki/Particle_swarm_optimization) )**. The idea of this approach is to randomly initialize particles in the search space and have them move around in a way that enables collaborative exploration and exploitation. A unique strength of particle swarms is their interpretability when combined with visualization of the particle trajectories (up to 4 hyper dimensions can be explored reliably this way encoded as 3D particle position position and 1D size). This interpretability is perhaps unique among other popular HPO tools [see [HyperBand](https://arxiv.org/abs/1603.06560), [BOHB](https://arxiv.org/abs/1807.01774) ] and can help build a data scientist's confidence in the best regions of the search space as well as provide hints for when the search region should be expanded (more in <a href='#particle-swarm'>Section 3.</a>)"
   ]
  },
  {
   "cell_type": "markdown",
   "metadata": {},
   "source": [
    "# Table of Contents: \n",
    "\n",
    "1. [Multiple dataset ingestion](#dataset): synthetic, public [ airline, fashion-MNIST], BYOData ]\n",
    "   * pre-process and visualize \n",
    "\n",
    "\n",
    "2. [Defining HPO Search Parameters + Ranges](#hyper-params)\n",
    "   * within XGBoost model family\n",
    "\n",
    "\n",
    "3. [Choice of Particle Swarm Strategy](#particle-swarm)\n",
    "   - acceleration through approximation [ sync vs async swarms ]\n",
    "   \n",
    "\n",
    "4. [Definition of Dask Cluster](#define-cluster)\n",
    "   * Scale-up on CPUs [ single node ] LocalCluster\n",
    "   * Scale-up on GPUs [ single node ] LocalCUDACluster\n",
    "   * Scale-out on GPUs [ multi-node ] KubeCluster\n",
    "\n",
    "\n",
    "5. [Runing an HPO Experiment](#run-hpo)\n",
    "   - interpretability though swarm visualization   \n",
    "   - profiling via interactive dashboards    \n",
    "\n",
    "\n",
    "6. [Accelerated Model Inference](#accelerated-inference)\n",
    "\n",
    "\n",
    "7. [Saving Workflow/Experiment](#save-experiment)\n",
    "\n"
   ]
  },
  {
   "cell_type": "markdown",
   "metadata": {},
   "source": [
    "# Library Imports:"
   ]
  },
  {
   "cell_type": "code",
   "execution_count": 1,
   "metadata": {},
   "outputs": [],
   "source": [
    "# RAPIDS.ai libraries\n",
    "import cudf\n",
    "import cuml\n",
    "import xgboost\n",
    "\n",
    "# visualization libraries\n",
    "import ipyvolume as ipv\n",
    "import matplotlib.pyplot as plt\n",
    "\n",
    "# common scientific / data analysis libraries\n",
    "import numpy as np\n",
    "import pandas as pd"
   ]
  },
  {
   "cell_type": "code",
   "execution_count": 2,
   "metadata": {},
   "outputs": [],
   "source": [
    "# library imports for this HPO notebook\n",
    "import data_utils\n",
    "import swarm\n",
    "import visualization as viz\n",
    "\n",
    "# reload library modules/code without a kernel restart\n",
    "import importlib; importlib.reload( swarm ); importlib.reload( data_utils ); importlib.reload( viz);\n",
    "import warnings; warnings.filterwarnings('ignore')"
   ]
  },
  {
   "cell_type": "markdown",
   "metadata": {},
   "source": [
    "# [ Optional ] Load Saved Experiment\n",
    "To start a new experiment set `savedExperimentFilename = None`\n",
    "\n",
    "Otherwise set its value to the path of a previously saved experiment [ yaml format ]."
   ]
  },
  {
   "cell_type": "code",
   "execution_count": 3,
   "metadata": {},
   "outputs": [
    {
     "name": "stdout",
     "output_type": "stream",
     "text": [
      "starting new experiment\n"
     ]
    }
   ],
   "source": [
    "savedExperimentFilename = None # 'experiment.yaml'\n",
    "exp, loadingSavedExperiment = data_utils.load_saved_experiment ( savedExperimentFilename )"
   ]
  },
  {
   "cell_type": "markdown",
   "metadata": {},
   "source": [
    "If you loaded an existing experiment you should jump straight to defining the cluster on which HPO will run. Compute clusters need to be rebuilt between experiments.\n",
    "> <a href='#define-cluster'>Jump to Define Compute Cluster</a>"
   ]
  },
  {
   "cell_type": "markdown",
   "metadata": {},
   "source": [
    "<a name='dataset'></a>\n",
    "# PART 1 - Dataset Ingestion / Generation"
   ]
  },
  {
   "cell_type": "markdown",
   "metadata": {},
   "source": [
    "-------"
   ]
  },
  {
   "cell_type": "markdown",
   "metadata": {},
   "source": [
    "<center><a href='images/datasets.png'><img src=\"images/datasets.png\" width=\"800\"/></a></center>"
   ]
  },
  {
   "cell_type": "markdown",
   "metadata": {},
   "source": [
    "## 1.1 - Ingest Real or Generate Synthetic Dataset\n",
    "In this notebook you can try different hyper-parameter search methods using synthetic or real data."
   ]
  },
  {
   "cell_type": "code",
   "execution_count": 4,
   "metadata": {},
   "outputs": [],
   "source": [
    "datasetConfig = {  \n",
    "    'datasetName'      : 'synthetic-swirl', #synthetic-helix', 'fashion-mnist', 'airline'\n",
    "    'nSamples'         : 2000000,\n",
    "    'localSaveDir'     : './data/',\n",
    "    'datasetObject'    : None\n",
    "}    "
   ]
  },
  {
   "cell_type": "markdown",
   "metadata": {},
   "source": [
    "### Additional parameters are available for synthetic data"
   ]
  },
  {
   "cell_type": "code",
   "execution_count": 5,
   "metadata": {},
   "outputs": [],
   "source": [
    "    if 'synthetic' in datasetConfig['datasetName']:\n",
    "        coilType = datasetConfig['datasetName'].split('-')[1]\n",
    "        syntheticDetails = {\n",
    "            'coilType'            : coilType,\n",
    "            'coilDensity'         : 18 if coilType == 'swirl' else 9,\n",
    "            'coil1StDev'          : .3,\n",
    "            'coil2StDev'          : .3,\n",
    "            'nGuidePointsPerCoil' : 1000,\n",
    "            'shuffleFlag'         : True,\n",
    "            'randomSeed'          : 0,\n",
    "        }\n",
    "        datasetConfig.update(syntheticDetails)\n",
    "\n",
    "        # warmup - JIT compile data generation GPU kernels\n",
    "        warmupConfig = datasetConfig.copy();\n",
    "        warmupConfig['nSamples'] = 2\n",
    "        data_utils.Dataset ( warmupConfig )     "
   ]
  },
  {
   "cell_type": "markdown",
   "metadata": {},
   "source": [
    "## 1.2 -  Build/Load Dataset"
   ]
  },
  {
   "cell_type": "code",
   "execution_count": 6,
   "metadata": {},
   "outputs": [
    {
     "name": "stdout",
     "output_type": "stream",
     "text": [
      "CPU times: user 27 ms, sys: 9.61 ms, total: 36.6 ms\n",
      "Wall time: 36.7 ms\n"
     ]
    }
   ],
   "source": [
    "%%time\n",
    "datasetConfig['datasetObject'] = data_utils.Dataset ( datasetConfig ) \n",
    "dataset = datasetConfig['datasetObject'] # create easy alias"
   ]
  },
  {
   "cell_type": "code",
   "execution_count": 7,
   "metadata": {},
   "outputs": [
    {
     "data": {
      "text/plain": [
       "(2000000, 3)"
      ]
     },
     "execution_count": 7,
     "metadata": {},
     "output_type": "execute_result"
    }
   ],
   "source": [
    "dataset.data.shape"
   ]
  },
  {
   "cell_type": "markdown",
   "metadata": {},
   "source": [
    "## 1.3 - Data Transformations"
   ]
  },
  {
   "cell_type": "markdown",
   "metadata": {},
   "source": [
    "> **Splitting**: As is typical in machine learning workflows we need to split the dataset into a **train-set** and **test-set**. The test-set is unseen during training and model performance on the test-set is an indicator of how well our model(s) can generalize to future data [ also unseen during training ].\n",
    "\n",
    "> **Scaling**: We can also apply standard scaling to each feature column of the dataset to ensure the data is numerically centered and ready for ingestion by an upstream model.\n",
    "**Note**: This is an inplace operation which changes the value of the argument dataframe passed in without returning a value.\n"
   ]
  },
  {
   "cell_type": "code",
   "execution_count": 8,
   "metadata": {},
   "outputs": [],
   "source": [
    "dataTransformsConfig =  { \n",
    "    'standardScaling'   : True,\n",
    "    'percentTrainSplit' : .75,\n",
    "    'shuffleAtSplit'    : True,\n",
    "    'randomSeed'        : 0\n",
    "}"
   ]
  },
  {
   "cell_type": "markdown",
   "metadata": {},
   "source": [
    "> **Synthetic Splits**:  In the case of synthetic data, we use test with a distribution different than that of the train set in order to increase the difficulty of the problem and make it a challenge worthy of HPO. Specifically, we carve out the middle of the dataset along one of the synthetic dimensions [ x ], and assign these points to the test-set."
   ]
  },
  {
   "cell_type": "code",
   "execution_count": 9,
   "metadata": {},
   "outputs": [],
   "source": [
    "if 'synthetic' in datasetConfig['datasetName'] :    \n",
    "    dataTransformsConfig['percentTrainSplit'] = .75 if datasetConfig['coilType'] == 'swirl' else .885\n",
    "    dataTransformsConfig['samplesToSwap']     = int( dataset.data.shape[0] * .002 )\n",
    "    assert ( dataset.data.shape[0] == datasetConfig['nSamples'])"
   ]
  },
  {
   "cell_type": "markdown",
   "metadata": {},
   "source": [
    "## 1.3.1 - Apply Data Transforms"
   ]
  },
  {
   "cell_type": "code",
   "execution_count": 10,
   "metadata": {},
   "outputs": [
    {
     "name": "stdout",
     "output_type": "stream",
     "text": [
      "CPU times: user 427 µs, sys: 6.09 ms, total: 6.52 ms\n",
      "Wall time: 4.97 ms\n"
     ]
    }
   ],
   "source": [
    "%%time\n",
    "# fill missing values\n",
    "missingIndicator = 0\n",
    "dataset.data = dataset.data.fillna( missingIndicator )"
   ]
  },
  {
   "cell_type": "code",
   "execution_count": 11,
   "metadata": {},
   "outputs": [
    {
     "name": "stdout",
     "output_type": "stream",
     "text": [
      "splitting synthetic dataset into train-set 75.0% and test-set 25.0%\n",
      "> assigning middle span of data to test-set\n",
      "> swapping 4000 samples between train-set and test-set\n",
      "CPU times: user 220 ms, sys: 31.2 ms, total: 251 ms\n",
      "Wall time: 256 ms\n"
     ]
    }
   ],
   "source": [
    "%%time\n",
    "if 'synthetic' not in datasetConfig['datasetName']:\n",
    "    \n",
    "    trainData, testData, \\\n",
    "    trainLabels, testLabels = cuml.train_test_split( dataset.data,  dataset.labels, \n",
    "                                                     train_size = dataTransformsConfig['percentTrainSplit'] )    \n",
    "else:\n",
    "    trainData, testData, \\\n",
    "    trainLabels, testLabels = data_utils.split_synthetic ( dataset.data, dataset.labels, \n",
    "                                                           percentTrain = dataTransformsConfig['percentTrainSplit'], \n",
    "                                                           samplesToSwap = dataTransformsConfig['samplesToSwap'] )\n",
    "\n",
    "dataset.assign_dataset_splits ( trainData, testData, trainLabels, testLabels )"
   ]
  },
  {
   "cell_type": "code",
   "execution_count": 12,
   "metadata": {},
   "outputs": [
    {
     "name": "stdout",
     "output_type": "stream",
     "text": [
      "applying [inplace] standard scaling to train-set data\n",
      "applying [inplace] standard scaling to test-set data\n",
      "CPU times: user 15.2 ms, sys: 743 µs, total: 16 ms\n",
      "Wall time: 14.6 ms\n"
     ]
    }
   ],
   "source": [
    "%%time\n",
    "# apply standard scaling inplace to train-set and test-set\n",
    "trainMeans, trainSTDevs, _ = data_utils.scale_dataframe_inplace ( dataset.trainData, label='train-set', datasetObject = dataset )\n",
    "_,_,_ = data_utils.scale_dataframe_inplace ( dataset.testData, trainMeans, trainSTDevs, label='test-set', datasetObject = dataset )"
   ]
  },
  {
   "cell_type": "markdown",
   "metadata": {},
   "source": [
    "## 1.4 - Visualize in 3D [ Embed ]"
   ]
  },
  {
   "cell_type": "code",
   "execution_count": 13,
   "metadata": {},
   "outputs": [],
   "source": [
    "embeddingOptions = {\n",
    "    'PCA'  : { 'method': 'PCA', 'sampleLimit': 200000 },\n",
    "    'UMAP' : { 'method': 'UMAP', 'sampleLimit': 15000 },    \n",
    "}"
   ]
  },
  {
   "cell_type": "code",
   "execution_count": 14,
   "metadata": {},
   "outputs": [],
   "source": [
    "vizConfig = {\n",
    "    'maxSamplesToPlot' : 200000,\n",
    "    'embedding'        : embeddingOptions['UMAP']\n",
    "}    "
   ]
  },
  {
   "cell_type": "code",
   "execution_count": 15,
   "metadata": {},
   "outputs": [
    {
     "name": "stdout",
     "output_type": "stream",
     "text": [
      "shuffling and decimating - train-set ... test-set ...\n",
      "computing feature distributions in 0.58 seconds\n",
      "elapsed time : 0.8727445602416992\n"
     ]
    },
    {
     "data": {
      "application/vnd.jupyter.widget-view+json": {
       "model_id": "0015447c52964d968b4de97cacfe2efc",
       "version_major": 2,
       "version_minor": 0
      },
      "text/plain": [
       "Tab(children=(VBox(children=(Figure(camera=PerspectiveCamera(fov=46.0, position=(0.0, 0.0, 2.0), quaternion=(0…"
      ]
     },
     "metadata": {},
     "output_type": "display_data"
    }
   ],
   "source": [
    "viz.plot_data_train_vs_test( dataset, vizConfig )"
   ]
  },
  {
   "cell_type": "markdown",
   "metadata": {},
   "source": [
    "<a name='hyper-params'></a>\n",
    "# PART 2 - Defining HPO Search Parameters + Ranges"
   ]
  },
  {
   "cell_type": "markdown",
   "metadata": {},
   "source": [
    "-------"
   ]
  },
  {
   "cell_type": "markdown",
   "metadata": {},
   "source": [
    "## 2.1 - Explore XGBoost Hyper-Parameters \n",
    "Can you beat HPO? "
   ]
  },
  {
   "cell_type": "code",
   "execution_count": 16,
   "metadata": {},
   "outputs": [],
   "source": [
    "# flexible parameters -- read more @ https://xgboost.readthedocs.io/en/latest/parameter.html\n",
    "\n",
    "manualXGBoostParams = { \n",
    "    'max_depth': 6,                     # default = 6             :: maximum depth of a tree\n",
    "    'num_boost_round': 100,              # default = XXX           :: number of trees        \n",
    "    'learning_rate': 0.3,               # default = 0.3           :: step size shrinkage between rounds, prevents overfitting\n",
    "    'gamma': 0.,                        # default = 0             :: minimum loss reduction required to make a leaf node split, prevents overfitting\n",
    "    'lambda': 1.,                       # default = 1             :: L2 regularizaiton term on weights, prevents overfitting\n",
    "    'alpha': 0.,                        # default = 0             :: L1 regularization term on weights, prevents overfitting\n",
    "    'tree_method': 'gpu_hist',          # default = 'gpu_hist'    :: tree construction algorithm\n",
    "    'random_state' : 0 \n",
    "}\n",
    "# note: we'll inherit objective function [ & num_class ] from the dataset"
   ]
  },
  {
   "cell_type": "code",
   "execution_count": 17,
   "metadata": {},
   "outputs": [
    {
     "name": "stdout",
     "output_type": "stream",
     "text": [
      "train accuracy : 0.9324 in 0.6821 seconds\n",
      "test  accuracy : 0.8019 in 0.0093 seconds\n"
     ]
    }
   ],
   "source": [
    "trainedGPUModel, trainTimeGPU, inferenceTimeGPU = swarm.evaluate_manual_params( dataset, manualXGBoostParams )"
   ]
  },
  {
   "cell_type": "markdown",
   "metadata": {},
   "source": [
    "### 2.2 - [OPTIONAL] Diving Deeper into XGBoost"
   ]
  },
  {
   "cell_type": "markdown",
   "metadata": {},
   "source": [
    "Comparison vs XGBoost CPU training & inference"
   ]
  },
  {
   "cell_type": "code",
   "execution_count": 18,
   "metadata": {},
   "outputs": [],
   "source": [
    "runCPUComparison = False\n",
    "if runCPUComparison:\n",
    "    trainedCPUModel, trainTimeCPU, inferenceTimeCPU = swarm.evaluate_manual_params_CPU ( dataset, manualXGBoostParams, nCPUWorkers = 4 )\n",
    "    print( f' train speedup     : {trainTimeCPU / trainTimeGPU:0.2f} ' )\n",
    "    print( f' inference speedup : {inferenceTimeCPU / inferenceTimeGPU:0.2f} ' )"
   ]
  },
  {
   "cell_type": "markdown",
   "metadata": {},
   "source": [
    "Feature Importance Plots"
   ]
  },
  {
   "cell_type": "code",
   "execution_count": 19,
   "metadata": {},
   "outputs": [
    {
     "name": "stdout",
     "output_type": "stream",
     "text": [
      "CPU times: user 68.8 ms, sys: 131 µs, total: 68.9 ms\n",
      "Wall time: 65.9 ms\n"
     ]
    },
    {
     "data": {
      "image/png": "[encoded data removed]",
      "text/plain": [
       "<Figure size 720x504 with 1 Axes>"
      ]
     },
     "metadata": {
      "needs_background": "light"
     },
     "output_type": "display_data"
    }
   ],
   "source": [
    "%%time\n",
    "plotFeatureImportance = True\n",
    "if plotFeatureImportance: \n",
    "    viz.plot_feature_importance( trainedGPUModel, importance_type='gain' )"
   ]
  },
  {
   "cell_type": "markdown",
   "metadata": {},
   "source": [
    "Plot Decision Trees using GraphViz"
   ]
  },
  {
   "cell_type": "code",
   "execution_count": 20,
   "metadata": {},
   "outputs": [
    {
     "name": "stdout",
     "output_type": "stream",
     "text": [
      "CPU times: user 7 µs, sys: 0 ns, total: 7 µs\n",
      "Wall time: 11.7 µs\n"
     ]
    }
   ],
   "source": [
    "%%time\n",
    "modelDetailPlots = False\n",
    "if modelDetailPlots: \n",
    "    viz.plot_first_N_trees( trainedGPUModel, nTrees = 2 )"
   ]
  },
  {
   "cell_type": "markdown",
   "metadata": {},
   "source": [
    "## 2.3 - Setting HPO Parameters and Search Ranges"
   ]
  },
  {
   "cell_type": "code",
   "execution_count": 21,
   "metadata": {},
   "outputs": [],
   "source": [
    "modelConfig = {\n",
    "    'name'                  : 'XGBoost',    \n",
    "                              # parameter        low    high    dtype \n",
    "    'tunableParam1'         : ['max_depth',      2,     15,    'int'   ],\n",
    "    'tunableParam2'         : ['learning_rate',  .001,  2,     'float' ],\n",
    "    'tunableParam3'         : ['gamma',          0.,    3.,    'float' ],\n",
    "\n",
    "    'nTrees-ceiling'        : 2000, # see note below\n",
    "    'early-stopping-rounds' : 250,  # see note below\n",
    "    'randomSeed'            : 0,    \n",
    "}"
   ]
  },
  {
   "cell_type": "markdown",
   "metadata": {},
   "source": [
    "> **Note**: number of trees will be allowed to freely range between 0-2000 with an early stopping settting of 250"
   ]
  },
  {
   "cell_type": "markdown",
   "metadata": {},
   "source": [
    "<a name='particle-swarm'></a>\n",
    "# PART 3 - Choice of Particle Swarm Strategy"
   ]
  },
  {
   "cell_type": "markdown",
   "metadata": {},
   "source": [
    "-------"
   ]
  },
  {
   "cell_type": "markdown",
   "metadata": {},
   "source": [
    "## 3.1 - Define Particle Swarm\n",
    "\n",
    ">\"In computational science, particle swarm optimization (PSO) is a method that optimizes a problem by iteratively trying to improve a candidate solution with regard to a given measure of quality. It solves a problem by having a population of candidate solutions, here dubbed particles, and moving these particles around in the search-space according to simple mathematical formulae over the particle's position and velocity. Each particle's movement is influenced by its local best known position, but is also guided toward the best known positions in the search-space, which are updated as better positions are found by other particles. This is expected to move the swarm toward the best solutions.\" - [Wikipedia Article](https://en.wikipedia.org/wiki/Particle_swarm_optimization)\n",
    "\n",
    "<img src='images/particle_logic.png' width='500px'>\n",
    "<center><a href='https://en.wikipedia.org/wiki/Particle_swarm_optimization#Algorithm'>Particle Update Logic</a></center>   "
   ]
  },
  {
   "cell_type": "markdown",
   "metadata": {},
   "source": [
    "## 3.2 - Blocking and Non-Blocking PSO Variants [ Sync vs Async ]\n",
    "In a Synchronous Swarm **all particles wait for their peers to complete an update round** before deciding on the global best location in parameter space. \n",
    "> [Synchronous Swarm Video](https://drive.google.com/file/d/1emzCcxYM5C5ofCpFLgJ1qvBeKmiiTLCt/view?usp=sharing) \n",
    "\n",
    "Conversley in an Asynchronous Swarm particles update and read (a possibly stale value of) the global best without **without waiting** for their peers.\n",
    "> [Asynchronous Swarm Video](https://drive.google.com/file/d/1GnbxiQAIMsT5qUiIRUGWwMLfMudNp0wX/view?usp=sharing)\n",
    "\n",
    "As shown in the video links and in the figures below ( Sync on the left, Async on the right ), these concepts can be illustrated using dask task stream plots which are integrated into the RAPIDS runtime containers in the form of [jupyterlab-NVDashboard](https://github.com/rapidsai/jupyterlab-nvdashboard). \n",
    "\n",
    "In these plots GPU workers are shown as rows on the y-axis, and time is shown on the x-axis. The task rectangles shown in blue represent a sequence of particle evaluations tasks assigned/completed by each worker (per-row). Note that the task rectangles have varying length to indicate how long the particle evalutation needed to complete given its unique hyper-parameter settings. "
   ]
  },
  {
   "cell_type": "markdown",
   "metadata": {},
   "source": [
    "> Note: A good compromise between speed and convergence is to do an initial warmup round of Synchronization to allow every random particle to get at least one full evaluation before switching into fully Asynchronous mode."
   ]
  },
  {
   "cell_type": "markdown",
   "metadata": {},
   "source": [
    "<img src='images/sync_vs_async.png' width='800px'>\n",
    "<a name='hpo-params'></a>"
   ]
  },
  {
   "cell_type": "code",
   "execution_count": 22,
   "metadata": {},
   "outputs": [],
   "source": [
    "HPOConfig = { \n",
    "    'strategy'        : 'async', # sync # async # async-random\n",
    "    'nParticles'      : 16,\n",
    "    'nEpochs'         : 10,\n",
    "    'asyncWarmupFlag' : True,\n",
    "    'randomSeed'      : 0\n",
    "}"
   ]
  },
  {
   "cell_type": "markdown",
   "metadata": {},
   "source": [
    "<a name='define-cluster'></a>\n",
    "# PART 4 - Choice of Compute Cluster"
   ]
  },
  {
   "cell_type": "markdown",
   "metadata": {},
   "source": [
    "-------"
   ]
  },
  {
   "cell_type": "markdown",
   "metadata": {},
   "source": [
    "## <center> Scaling Compute with Kubernetes and Dask</center>"
   ]
  },
  {
   "cell_type": "markdown",
   "metadata": {},
   "source": [
    "<img src='images/scaling.png' width='1000px'>"
   ]
  },
  {
   "cell_type": "markdown",
   "metadata": {},
   "source": [
    "## 4.1 - Compute Cluster Selection"
   ]
  },
  {
   "cell_type": "code",
   "execution_count": 23,
   "metadata": {},
   "outputs": [],
   "source": [
    "from dask.distributed import Client, LocalCluster # nWorkers = nCPU cores on a single node \n",
    "from dask_cuda import LocalCUDACluster            # nWorkers = nGPUs on a single node \n",
    "from dask_kubernetes import KubeCluster           # nWorkers = nGPUs across multiple node "
   ]
  },
  {
   "cell_type": "markdown",
   "metadata": {},
   "source": [
    "At this point the user has a choice of the following compute and scaling strategies \n",
    "   * Scale-up on CPUs [ single node ] LocalCluster\n",
    "   * Scale-up on GPUs [ single node ] LocalCUDACluster\n",
    "   * Scale-out on GPUs [ multi-node ] KubeCluster \n",
    "   \n",
    "For multi-node scaling [ KubeCluster] requires that the notebooks is running on a Kubeflow Notebook Server on top of a Kubernetes cluster. See DeepOps installation instructions in the README.md."
   ]
  },
  {
   "cell_type": "code",
   "execution_count": 24,
   "metadata": {},
   "outputs": [],
   "source": [
    "computeConfig = {\n",
    "    'clusterType'   : 'KubeCluster',  # [ LocalCluster ] or [ LocalCUDACluster] or [ KubeCluster ]\n",
    "    'nWorkers'      : 4,\n",
    "    'clientObject'  : None\n",
    "}"
   ]
  },
  {
   "cell_type": "markdown",
   "metadata": {},
   "source": [
    "## 4.2 - Cluster and Client Creation"
   ]
  },
  {
   "cell_type": "code",
   "execution_count": 25,
   "metadata": {},
   "outputs": [
    {
     "name": "stdout",
     "output_type": "stream",
     "text": [
      "successfully detected kubernetes controller @ ['10.233.62.135']\n",
      "k8s+dask workers will run pod spec defined in [ k8s_dask_worker.yaml ]\n",
      "\n",
      "# k8s_dask_worker.yml\n",
      "kind: Pod\n",
      "metadata:\n",
      "  labels:\n",
      "    foo: bar\n",
      "spec:\n",
      "  restartPolicy: Never\n",
      "  containers:\n",
      "  - image: menev/hpo-rapids:0.1-0.11 # ericharper/rapids-dask-hpo:latest\n",
      "    imagePullPolicy: IfNotPresent\n",
      "    args: [dask-worker,  --nthreads, '1', --no-bokeh, --memory-limit, 6GB, --no-bokeh, --death-timeout, '60']\n",
      "    name: dask\n",
      "    resources:\n",
      "      limits:\n",
      "        cpu: \"2\"\n",
      "        memory: 6G\n",
      "        nvidia.com/gpu: 1\n",
      "      requests:\n",
      "        cpu: \"2\"\n",
      "        memory: 6G\n",
      "        nvidia.com/gpu: 1\n"
     ]
    }
   ],
   "source": [
    "if computeConfig['clusterType'] == 'KubeCluster':\n",
    "    kubeIP = !echo $KUBEFLOW_CONTROLLER_SERVICE_HOST\n",
    "    if kubeIP[0] == '':\n",
    "        assert(\"Kubernetes cluster not found! [ launch notebook from a Kubeflow Notebook Server ]\")\n",
    "        workerSpecFilename = None\n",
    "    else:\n",
    "        workerSpecFilename = 'k8s_dask_worker.yaml'\n",
    "        print(f'successfully detected kubernetes controller @ {kubeIP}')\n",
    "        print(f'k8s+dask workers will run pod spec defined in [ {workerSpecFilename} ]')\n",
    "        swarm.build_worker_spec( workerSpecFilename )\n",
    "        !cat $workerSpecFilename"
   ]
  },
  {
   "cell_type": "code",
   "execution_count": 26,
   "metadata": {},
   "outputs": [
    {
     "name": "stderr",
     "output_type": "stream",
     "text": [
      "distributed.scheduler - INFO - Clear task state\n",
      "distributed.scheduler - INFO -   Scheduler at: tcp://10.233.117.172:44087\n",
      "distributed.scheduler - INFO -   dashboard at:                     :8787\n"
     ]
    }
   ],
   "source": [
    "if computeConfig['clusterType'] == 'LocalCluster': # single-node multi-CPU\n",
    "    cluster = LocalCluster( ip = '', n_workers = computeConfig['nWorkers'])  \n",
    "    \n",
    "elif computeConfig['clusterType'] == 'LocalCUDACluster': # single-node multi-GPU \n",
    "    cluster = LocalCUDACluster( ip = '', n_workers = computeConfig['nWorkers'])\n",
    "      \n",
    "elif computeConfig['clusterType'] == 'KubeCluster': # multi-node multi-GPU\n",
    "    cluster = KubeCluster.from_yaml( workerSpecFilename )"
   ]
  },
  {
   "cell_type": "code",
   "execution_count": 27,
   "metadata": {},
   "outputs": [
    {
     "data": {
      "application/vnd.jupyter.widget-view+json": {
       "model_id": "5f760a18e4624fe9a2b1e4faf377d65a",
       "version_major": 2,
       "version_minor": 0
      },
      "text/plain": [
       "VBox(children=(HTML(value='<h2>KubeCluster</h2>'), HBox(children=(HTML(value='\\n<div>\\n  <style scoped>\\n    .…"
      ]
     },
     "metadata": {},
     "output_type": "display_data"
    }
   ],
   "source": [
    "cluster"
   ]
  },
  {
   "cell_type": "code",
   "execution_count": 29,
   "metadata": {},
   "outputs": [
    {
     "data": {
      "text/plain": [
       "{0: <Pod Worker: status=running>,\n",
       " 1: <Pod Worker: status=running>,\n",
       " 2: <Pod Worker: status=running>,\n",
       " 3: <Pod Worker: status=running>}"
      ]
     },
     "execution_count": 29,
     "metadata": {},
     "output_type": "execute_result"
    }
   ],
   "source": [
    "cluster.workers"
   ]
  },
  {
   "cell_type": "code",
   "execution_count": 30,
   "metadata": {},
   "outputs": [],
   "source": [
    "assert( cluster.workers ), 'To proceed you must have at least one Dask Worker!'"
   ]
  },
  {
   "cell_type": "code",
   "execution_count": 31,
   "metadata": {},
   "outputs": [
    {
     "name": "stderr",
     "output_type": "stream",
     "text": [
      "distributed.scheduler - INFO - Receive client connection: Client-f07bb91e-22a2-11ea-86cc-8e06126e2312\n",
      "distributed.core - INFO - Starting established connection\n"
     ]
    }
   ],
   "source": [
    "computeConfig['clientObject'] = Client( cluster, asynchronous = True)"
   ]
  },
  {
   "cell_type": "markdown",
   "metadata": {},
   "source": [
    "<a name='run-hpo'></a>\n",
    "# PART 5 - Run HPO Experiment"
   ]
  },
  {
   "cell_type": "markdown",
   "metadata": {},
   "source": [
    "-------"
   ]
  },
  {
   "cell_type": "markdown",
   "metadata": {},
   "source": [
    "## 5.1 - Experiment Summary"
   ]
  },
  {
   "cell_type": "code",
   "execution_count": 32,
   "metadata": {},
   "outputs": [],
   "source": [
    "if not loadingSavedExperiment:\n",
    "    exp = { 'datasetConfig' : datasetConfig, \n",
    "            'dataTransformsConfig' : dataTransformsConfig,       \n",
    "            'vizConfig' : vizConfig,\n",
    "            'modelConfig' : modelConfig,\n",
    "            'HPOConfig' : HPOConfig,\n",
    "            'computeConfig' : computeConfig }\n",
    "else:\n",
    "    exp['datasetConfig'] = datasetConfig \n",
    "    exp['computeConfig'] = computeConfig"
   ]
  },
  {
   "cell_type": "code",
   "execution_count": 33,
   "metadata": {},
   "outputs": [
    {
     "data": {
      "text/plain": [
       "{'datasetConfig': {'datasetName': 'synthetic-swirl',\n",
       "  'nSamples': 2000000,\n",
       "  'localSaveDir': './data/',\n",
       "  'datasetObject': <data_utils.Dataset at 0x7f08b1a5f828>,\n",
       "  'coilType': 'swirl',\n",
       "  'coilDensity': 18,\n",
       "  'coil1StDev': 0.3,\n",
       "  'coil2StDev': 0.3,\n",
       "  'nGuidePointsPerCoil': 1000,\n",
       "  'shuffleFlag': True,\n",
       "  'randomSeed': 0},\n",
       " 'dataTransformsConfig': {'standardScaling': True,\n",
       "  'percentTrainSplit': 0.75,\n",
       "  'shuffleAtSplit': True,\n",
       "  'randomSeed': 0,\n",
       "  'samplesToSwap': 4000},\n",
       " 'vizConfig': {'maxSamplesToPlot': 200000,\n",
       "  'embedding': {'method': 'UMAP', 'sampleLimit': 15000}},\n",
       " 'modelConfig': {'name': 'XGBoost',\n",
       "  'tunableParam1': ['max_depth', 2, 15, 'int'],\n",
       "  'tunableParam2': ['learning_rate', 0.001, 2, 'float'],\n",
       "  'tunableParam3': ['gamma', 0.0, 3.0, 'float'],\n",
       "  'nTrees-ceiling': 2000,\n",
       "  'early-stopping-rounds': 250,\n",
       "  'randomSeed': 0},\n",
       " 'HPOConfig': {'strategy': 'async',\n",
       "  'nParticles': 16,\n",
       "  'nEpochs': 10,\n",
       "  'asyncWarmupFlag': True,\n",
       "  'randomSeed': 0},\n",
       " 'computeConfig': {'clusterType': 'KubeCluster',\n",
       "  'nWorkers': 4,\n",
       "  'clientObject': <Client: 'tcp://10.233.117.172:44087' processes=4 threads=4, memory=24.00 GB>}}"
      ]
     },
     "execution_count": 33,
     "metadata": {},
     "output_type": "execute_result"
    }
   ],
   "source": [
    "exp"
   ]
  },
  {
   "cell_type": "markdown",
   "metadata": {},
   "source": [
    "## 5.2 - Initialize Swarm with Experiment Settings"
   ]
  },
  {
   "cell_type": "markdown",
   "metadata": {},
   "source": [
    "<a href='#hpo-params'>Review/Edit HPO Params</a>"
   ]
  },
  {
   "cell_type": "code",
   "execution_count": 34,
   "metadata": {},
   "outputs": [
    {
     "name": "stdout",
     "output_type": "stream",
     "text": [
      "! initializing AsyncSwarm, with 16 particles, and 10 epochs\n"
     ]
    }
   ],
   "source": [
    "if HPOConfig['strategy'] == 'sync':\n",
    "    expSwarm = swarm.SyncSwarm( exp )\n",
    "    \n",
    "elif HPOConfig['strategy'] == 'async':\n",
    "    expSwarm = swarm.AsyncSwarm( exp )    \n",
    "    \n",
    "elif HPOConfig['strategy'] == 'async-random':\n",
    "    expSwarm = swarm.RandomSearchAsync( exp )"
   ]
  },
  {
   "cell_type": "markdown",
   "metadata": {},
   "source": [
    "## 5.3 - <font color='red'>Run Swarm Experiment</font>"
   ]
  },
  {
   "cell_type": "code",
   "execution_count": 35,
   "metadata": {},
   "outputs": [
    {
     "name": "stdout",
     "output_type": "stream",
     "text": [
      "sync warmup\n",
      "scattering data to GPU workers...done scatter\n",
      "  + persisting scattered data...done persist\n",
      "\n",
      "   pID |      max_depth,  learning_rate,          gamma\n",
      "     0 |              2,           0.00,           0.00 \n",
      "     1 |              7,           1.87,           3.00 \n",
      "     2 |             10,           1.86,           1.45 \n",
      "     3 |             12,           1.68,           1.71 \n",
      "     4 |             12,           0.35,           1.83 \n",
      "     5 |              5,           1.66,           2.94 \n",
      "     6 |             12,           0.42,           1.11 \n",
      "     7 |              6,           0.88,           2.93 \n",
      "     8 |              5,           0.48,           2.45 \n",
      "     9 |             14,           0.99,           0.43 \n",
      "    10 |             11,           0.99,           2.50 \n",
      "    11 |             11,           1.33,           2.78 \n",
      "    12 |             13,           1.75,           2.17 \n",
      "    13 |              4,           1.72,           0.54 \n",
      "    14 |             13,           1.32,           0.45 \n",
      "    15 |             15,           2.00,           3.00 \n",
      "\n",
      "new best 0.50003 found by particle 0 on eval 0\n",
      "new best 0.92999 found by particle 1 on eval 1\n",
      "new best 0.93286 found by particle 2 on eval 2\n",
      "new best 0.93341 found by particle 3 on eval 3\n",
      "new best 0.95198 found by particle 4 on eval 4\n",
      "> sync epoch 0 of 1\n",
      "sync warmup complete\n",
      "\n",
      "continuing with async search\n",
      "> async epoch 2 of 10\n",
      "> async epoch 3 of 10\n",
      "> async epoch 4 of 10\n",
      "new best 0.95282 found by particle 4 on eval 70\n",
      "> async epoch 5 of 10\n",
      "> async epoch 6 of 10\n",
      "new best 0.95317 found by particle 7 on eval 105\n",
      "> async epoch 7 of 10\n",
      "> async epoch 8 of 10\n",
      "> async epoch 9 of 10\n",
      "> async epoch 10 of 10\n",
      "search completed...\n",
      "\n",
      "\n",
      "       accuracy : 0.95317\n",
      "   elapsed time : 138.444 seconds\n",
      "\n",
      "      parameter | opt. value\n",
      "----------------------------------\n",
      "      max_depth : 11\n",
      "  learning_rate : 0.484\n",
      "          gamma : 2.053\n",
      "         nTrees : 101\n"
     ]
    }
   ],
   "source": [
    "expSwarm.run_search()"
   ]
  },
  {
   "cell_type": "markdown",
   "metadata": {},
   "source": [
    "## 5.1 - Visualize Swarm"
   ]
  },
  {
   "cell_type": "code",
   "execution_count": 36,
   "metadata": {},
   "outputs": [
    {
     "data": {
      "image/png": "[encoded data removed]",
      "text/plain": [
       "<Figure size 1080x504 with 1 Axes>"
      ]
     },
     "metadata": {
      "needs_background": "light"
     },
     "output_type": "display_data"
    }
   ],
   "source": [
    "viz.plot_particle_evals( expSwarm )"
   ]
  },
  {
   "cell_type": "code",
   "execution_count": 37,
   "metadata": {},
   "outputs": [
    {
     "data": {
      "image/png": "[encoded data removed]",
      "text/plain": [
       "<Figure size 1080x504 with 1 Axes>"
      ]
     },
     "metadata": {
      "needs_background": "light"
     },
     "output_type": "display_data"
    }
   ],
   "source": [
    "viz.plot_boosting_rounds_histogram( expSwarm )"
   ]
  },
  {
   "cell_type": "code",
   "execution_count": 38,
   "metadata": {},
   "outputs": [
    {
     "data": {
      "application/vnd.jupyter.widget-view+json": {
       "model_id": "400194bfa14849b7bf6176dc760fb6ad",
       "version_major": 2,
       "version_minor": 0
      },
      "text/plain": [
       "Tab(children=(VBox(children=(Figure(camera=PerspectiveCamera(fov=46.0, position=(0.0, 0.0, 2.0), quaternion=(0…"
      ]
     },
     "metadata": {},
     "output_type": "display_data"
    }
   ],
   "source": [
    "viz.viz_top_particles( expSwarm )\n",
    "# viz.viz_particle_trails(expSwarm, topN = 1) # for non-tabbed results"
   ]
  },
  {
   "cell_type": "code",
   "execution_count": 39,
   "metadata": {},
   "outputs": [
    {
     "data": {
      "application/vnd.jupyter.widget-view+json": {
       "model_id": "0090609da6d844e7b1f5f0c23bbbbc0d",
       "version_major": 2,
       "version_minor": 0
      },
      "text/plain": [
       "VBox(children=(VBox(children=(Figure(animation=400.0, camera=PerspectiveCamera(fov=46.0, position=(0.0, 0.0, 2…"
      ]
     },
     "metadata": {},
     "output_type": "display_data"
    }
   ],
   "source": [
    "viz.viz_swarm( expSwarm, expSwarm.paramRanges)"
   ]
  },
  {
   "cell_type": "markdown",
   "metadata": {},
   "source": [
    "# 6 - Accelerated Inference<a name='accelerated-inference'></a>"
   ]
  },
  {
   "cell_type": "markdown",
   "metadata": {},
   "source": [
    "-------"
   ]
  },
  {
   "cell_type": "code",
   "execution_count": null,
   "metadata": {},
   "outputs": [],
   "source": [
    "inferenceConfig = {\n",
    "    'accelerateInference' : True\n",
    "}\n",
    "# TODO add FIL"
   ]
  },
  {
   "cell_type": "markdown",
   "metadata": {},
   "source": [
    "# 7 - Save experiment"
   ]
  },
  {
   "cell_type": "markdown",
   "metadata": {},
   "source": [
    "-------"
   ]
  },
  {
   "cell_type": "code",
   "execution_count": null,
   "metadata": {},
   "outputs": [],
   "source": [
    "import yaml"
   ]
  },
  {
   "cell_type": "code",
   "execution_count": null,
   "metadata": {},
   "outputs": [],
   "source": [
    "with open('experiment.yaml', 'w') as outfile:\n",
    "    exp['datasetConfig']['datasetObject'] = None # update with parquet write\n",
    "    exp['computeConfig']['clientObject'] = None\n",
    "    yaml.dump(exp, outfile)"
   ]
  },
  {
   "cell_type": "code",
   "execution_count": null,
   "metadata": {},
   "outputs": [],
   "source": [
    "!cat experiment.yaml"
   ]
  },
  {
   "cell_type": "markdown",
   "metadata": {},
   "source": [
    "# Summary"
   ]
  },
  {
   "cell_type": "markdown",
   "metadata": {},
   "source": [
    "-------"
   ]
  },
  {
   "cell_type": "markdown",
   "metadata": {},
   "source": [
    "## Scale Up Results [ DGX-2 ]"
   ]
  },
  {
   "cell_type": "markdown",
   "metadata": {},
   "source": [
    "<img src='images/synthetic_async.png' width = 1000px></img>"
   ]
  },
  {
   "cell_type": "markdown",
   "metadata": {},
   "source": [
    "# Future Work / Extensions"
   ]
  },
  {
   "cell_type": "markdown",
   "metadata": {},
   "source": [
    "larger than single GPU memory datasets - dask_cudf + [ dask_xgboost or xgboost.dask ]"
   ]
  },
  {
   "cell_type": "markdown",
   "metadata": {},
   "source": [
    "# References"
   ]
  }
 ],
 "metadata": {
  "kernelspec": {
   "display_name": "Python 3",
   "language": "python",
   "name": "python3"
  },
  "language_info": {
   "codemirror_mode": {
    "name": "ipython",
    "version": 3
   },
   "file_extension": ".py",
   "mimetype": "text/x-python",
   "name": "python",
   "nbconvert_exporter": "python",
   "pygments_lexer": "ipython3",
   "version": "3.6.7"
  }
 },
 "nbformat": 4,
 "nbformat_minor": 4
}
