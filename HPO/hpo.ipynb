{
 "cells": [
  {
   "cell_type": "markdown",
   "metadata": {},
   "source": [
    "# <center>Scaling XGBoost Hyper-Parameter Optimization</center>"
   ]
  },
  {
   "cell_type": "markdown",
   "metadata": {},
   "source": [
    "<img src=\"images/swarm.png\" width=\"450\"/>"
   ]
  },
  {
   "cell_type": "markdown",
   "metadata": {},
   "source": [
    "# Motivation:"
   ]
  },
  {
   "cell_type": "markdown",
   "metadata": {},
   "source": [
    "After applying domain knowledge, intuition, and experimentation to carve out the space of all possible models, data scientists often run a final search over promising models to reach highest performance before deploying a model to production. \n",
    "\n",
    "This search is known as **hyper-parameter optimization (HPO)** since it searches over the parameters that are fixed during training. \n",
    "> [Hyper-parameters](https://en.wikipedia.org/wiki/Hyperparameter_(machine_learning)) either define the *architecture of the model* or the *settings of the learning algorithm.* \n",
    "\n",
    "HPO is an NP hard problem (i.e., no fast solution is known), and a naiive solution would be to search over the all possible parameters (e.g., grid search) but this is a pure exploration strategy and is in practice outdone by search strategies that balance exploration and exploitation (i.e. can leverage the knowledge from the search so far to inform where to look next). \n",
    "\n",
    "In this notebook we demonstrate the power of GPUs to accelerate HPO while also providing a learning aid for scaling concepts.\n",
    "\n",
    "We leverage a simple yet powerful form of a search strategy called **Particle Swarm Optimization ( [PSO](https://en.wikipedia.org/wiki/Particle_swarm_optimization) )**. The idea of this approach is to randomly initialize particles in the search space and have them move around in a way that enables collaborative exploration and exploitation. A unique strength of particle swarms is their interpretability when combined with visualization of the particle trajectories (up to 4 hyper dimensions can be explored reliably this way encoded as 3D particle position position and 1D size). This interpretability is perhaps unique among other popular HPO tools [see [HyperBand](https://arxiv.org/abs/1603.06560), [BOHB](https://arxiv.org/abs/1807.01774) ] and can help build a data scientist's confidence in the best regions of the search space as well as provide hints for when the search region should be expanded (more in <a href='#particle-swarm'>Section 3.</a>)"
   ]
  },
  {
   "cell_type": "markdown",
   "metadata": {},
   "source": [
    "# Table of Contents: \n",
    "\n",
    "1. [Multiple dataset ingestion](#dataset): synthetic, public [ airline, fashion-MNIST], BYOData ]\n",
    "   * pre-process and visualize \n",
    "\n",
    "\n",
    "2. [Defining HPO Search Parameters + Ranges](#hyper-params)\n",
    "   * within XGBoost model family\n",
    "\n",
    "\n",
    "3. [Choice of Particle Swarm Strategy](#particle-swarm)\n",
    "   - acceleration through approximation [ synch vs async swarms ]\n",
    "   \n",
    "\n",
    "4. [Definition of Dask Cluster](#define-cluster)\n",
    "   * Scale-up on CPUs [ single node ] LocalCluster\n",
    "   * Scale-up on GPUs [ single node ] LocalCUDACluster\n",
    "   * Scale-out on GPUs [ multi-node ] KubeCluster\n",
    "\n",
    "5. [Runing an HPO Experiment](#run-hpo)\n",
    "   - interpretability though swarm visualization   \n",
    "   - profiling via interactive dashboards    \n",
    "\n",
    "\n",
    "6. [Accelerated Model Inference](#accelerated-inference)\n",
    "\n",
    "\n",
    "7. [Saving Workflow/Experiment](#save-experiment)\n",
    "\n"
   ]
  },
  {
   "cell_type": "markdown",
   "metadata": {},
   "source": [
    "# Library Imports:"
   ]
  },
  {
   "cell_type": "code",
   "execution_count": 1,
   "metadata": {},
   "outputs": [],
   "source": [
    "# RAPIDS.ai libraries\n",
    "import cudf\n",
    "import cuml\n",
    "import xgboost\n",
    "\n",
    "# visualization libraries\n",
    "import ipyvolume as ipv\n",
    "import matplotlib.pyplot as plt\n",
    "\n",
    "# common scientific / data analysis libraries\n",
    "import numpy as np\n",
    "import pandas as pd"
   ]
  },
  {
   "cell_type": "code",
   "execution_count": 2,
   "metadata": {},
   "outputs": [],
   "source": [
    "# library imports for this HPO notebook\n",
    "import data_utils\n",
    "import swarm\n",
    "import visualization as viz\n",
    "\n",
    "# reload library modules/code without a kernel restart\n",
    "import importlib; importlib.reload( swarm ); importlib.reload( data_utils ); importlib.reload( viz);\n",
    "import warnings; warnings.filterwarnings('ignore')"
   ]
  },
  {
   "cell_type": "markdown",
   "metadata": {},
   "source": [
    "# [ Optional ] Load Saved Experiment\n",
    "To start a new experiment set `savedExperimentFilename = None`\n",
    "\n",
    "Otherwise set its value to the path of a previously saved experiment [ yaml format ]."
   ]
  },
  {
   "cell_type": "code",
   "execution_count": 3,
   "metadata": {},
   "outputs": [
    {
     "name": "stdout",
     "output_type": "stream",
     "text": [
      "starting new experiment\n"
     ]
    }
   ],
   "source": [
    "savedExperimentFilename = None # 'experiment.yaml'\n",
    "exp, loadingSavedExperiment = data_utils.load_saved_experiment ( savedExperimentFilename )"
   ]
  },
  {
   "cell_type": "markdown",
   "metadata": {},
   "source": [
    "If you loaded an existing experiment you should jump straight to defining the cluster on which HPO will run. Compute clusters need to be rebuilt between experiments.\n",
    "> <a href='#define-cluster'>Jump to Define Compute Cluster</a>"
   ]
  },
  {
   "cell_type": "markdown",
   "metadata": {},
   "source": [
    "<a name='dataset'></a>\n",
    "# PART 1 - Dataset Ingestion / Generation"
   ]
  },
  {
   "cell_type": "markdown",
   "metadata": {},
   "source": [
    "-------"
   ]
  },
  {
   "cell_type": "markdown",
   "metadata": {},
   "source": [
    "<center><a href='images/datasets.png'><img src=\"images/datasets.png\" width=\"800\"/></a></center>"
   ]
  },
  {
   "cell_type": "markdown",
   "metadata": {},
   "source": [
    "## 1.1 - Ingest Real or Generate Synthetic Dataset\n",
    "In this notebook you can try different hyper-parameter search methods using synthetic or real data."
   ]
  },
  {
   "cell_type": "code",
   "execution_count": 4,
   "metadata": {},
   "outputs": [],
   "source": [
    "datasetConfig = {  \n",
    "    'datasetName'      : 'synthetic-swirl', #synthetic-helix', 'fashion-mnist', 'airline'\n",
    "    'nSamples'         : 2000000,\n",
    "    'localSaveDir'     : './data/',\n",
    "    'datasetObject'    : None\n",
    "}    "
   ]
  },
  {
   "cell_type": "markdown",
   "metadata": {},
   "source": [
    "### Additional parameters are available for synthetic data"
   ]
  },
  {
   "cell_type": "code",
   "execution_count": 5,
   "metadata": {},
   "outputs": [],
   "source": [
    "    if 'synthetic' in datasetConfig['datasetName']:\n",
    "        coilType = datasetConfig['datasetName'].split('-')[1]\n",
    "        syntheticDetails = {\n",
    "            'coilType'            : coilType,\n",
    "            'coilDensity'         : 18 if coilType == 'swirl' else 9,\n",
    "            'coil1StDev'          : .3,\n",
    "            'coil2StDev'          : .3,\n",
    "            'nGuidePointsPerCoil' : 1000,\n",
    "            'shuffleFlag'         : True,\n",
    "            'randomSeed'          : 0,\n",
    "        }\n",
    "        datasetConfig.update(syntheticDetails)\n",
    "\n",
    "        # warmup - JIT compile data generation GPU kernels\n",
    "        warmupConfig = datasetConfig.copy();\n",
    "        warmupConfig['nSamples'] = 2\n",
    "        data_utils.Dataset ( warmupConfig )     "
   ]
  },
  {
   "cell_type": "markdown",
   "metadata": {},
   "source": [
    "## 1.2 -  Build/Load Dataset"
   ]
  },
  {
   "cell_type": "code",
   "execution_count": 6,
   "metadata": {},
   "outputs": [
    {
     "name": "stdout",
     "output_type": "stream",
     "text": [
      "CPU times: user 33.4 ms, sys: 4.76 ms, total: 38.1 ms\n",
      "Wall time: 36.8 ms\n"
     ]
    }
   ],
   "source": [
    "%%time\n",
    "datasetConfig['datasetObject'] = data_utils.Dataset ( datasetConfig ) \n",
    "dataset = datasetConfig['datasetObject'] # create easy alias"
   ]
  },
  {
   "cell_type": "code",
   "execution_count": 7,
   "metadata": {},
   "outputs": [
    {
     "data": {
      "text/plain": [
       "(2000000, 3)"
      ]
     },
     "execution_count": 7,
     "metadata": {},
     "output_type": "execute_result"
    }
   ],
   "source": [
    "dataset.data.shape"
   ]
  },
  {
   "cell_type": "markdown",
   "metadata": {},
   "source": [
    "## 1.3 - Data Transformations"
   ]
  },
  {
   "cell_type": "markdown",
   "metadata": {},
   "source": [
    "> **Splitting**: As is typical in machine learning workflows we need to split the dataset into a **train-set** and **test-set**. The test-set is unseen during training and model performance on the test-set is an indicator of how well our model(s) can generalize to future data [ also unseen during training ].\n",
    "\n",
    "> **Scaling**: We can also apply standard scaling to each feature column of the dataset to ensure the data is numerically centered and ready for ingestion by an upstream model.\n",
    "**Note**: This is an inplace operation which changes the value of the argument dataframe passed in without returning a value.\n"
   ]
  },
  {
   "cell_type": "code",
   "execution_count": 8,
   "metadata": {},
   "outputs": [],
   "source": [
    "dataTransformsConfig =  { \n",
    "    'standardScaling'   : True,\n",
    "    'percentTrainSplit' : .75,\n",
    "    'shuffleAtSplit'    : True,\n",
    "    'randomSeed'        : 0\n",
    "}"
   ]
  },
  {
   "cell_type": "markdown",
   "metadata": {},
   "source": [
    "> **Synthetic Splits**:  In the case of synthetic data, we use test with a distribution different than that of the train set in order to increase the difficulty of the problem and make it a challenge worthy of HPO. Specifically, we carve out the middle of the dataset along one of the synthetic dimensions [ x ], and assign these points to the test-set."
   ]
  },
  {
   "cell_type": "code",
   "execution_count": 9,
   "metadata": {},
   "outputs": [],
   "source": [
    "if 'synthetic' in datasetConfig['datasetName'] :    \n",
    "    dataTransformsConfig['percentTrainSplit'] = .75 if datasetConfig['coilType'] == 'swirl' else .885\n",
    "    dataTransformsConfig['samplesToSwap']     = int( dataset.data.shape[0] * .002 )\n",
    "    assert ( dataset.data.shape[0] == datasetConfig['nSamples'])"
   ]
  },
  {
   "cell_type": "markdown",
   "metadata": {},
   "source": [
    "## 1.3.1 - Apply Data Transforms"
   ]
  },
  {
   "cell_type": "code",
   "execution_count": 10,
   "metadata": {},
   "outputs": [
    {
     "name": "stdout",
     "output_type": "stream",
     "text": [
      "CPU times: user 1.66 ms, sys: 4.84 ms, total: 6.5 ms\n",
      "Wall time: 5.27 ms\n"
     ]
    }
   ],
   "source": [
    "%%time\n",
    "# fill missing values\n",
    "missingIndicator = 0\n",
    "dataset.data = dataset.data.fillna( missingIndicator )"
   ]
  },
  {
   "cell_type": "code",
   "execution_count": 11,
   "metadata": {},
   "outputs": [
    {
     "name": "stdout",
     "output_type": "stream",
     "text": [
      "splitting synthetic dataset into train-set 75.0% and test-set 25.0%\n",
      "> assigning middle span of data to test-set\n",
      "> swapping 4000 samples between train-set and test-set\n",
      "CPU times: user 246 ms, sys: 41 ms, total: 287 ms\n",
      "Wall time: 288 ms\n"
     ]
    }
   ],
   "source": [
    "%%time\n",
    "if 'synthetic' not in datasetConfig['datasetName']:\n",
    "    \n",
    "    trainData, testData, \\\n",
    "    trainLabels, testLabels = cuml.train_test_split( dataset.data,  dataset.labels, \n",
    "                                                     train_size = dataTransformsConfig['percentTrainSplit'] )    \n",
    "else:\n",
    "    trainData, testData, \\\n",
    "    trainLabels, testLabels = data_utils.split_synthetic ( dataset.data, dataset.labels, \n",
    "                                                           percentTrain = dataTransformsConfig['percentTrainSplit'], \n",
    "                                                           samplesToSwap = dataTransformsConfig['samplesToSwap'] )\n",
    "\n",
    "dataset.assign_dataset_splits ( trainData, testData, trainLabels, testLabels )"
   ]
  },
  {
   "cell_type": "code",
   "execution_count": 12,
   "metadata": {},
   "outputs": [
    {
     "name": "stdout",
     "output_type": "stream",
     "text": [
      "applying [inplace] standard scaling to train-set data\n",
      "applying [inplace] standard scaling to test-set data\n",
      "CPU times: user 13.5 ms, sys: 4.78 ms, total: 18.3 ms\n",
      "Wall time: 16.1 ms\n"
     ]
    }
   ],
   "source": [
    "%%time\n",
    "# apply standard scaling inplace to train-set and test-set\n",
    "trainMeans, trainSTDevs, _ = data_utils.scale_dataframe_inplace ( dataset.trainData, label='train-set', datasetObject = dataset )\n",
    "_,_,_ = data_utils.scale_dataframe_inplace ( dataset.testData, trainMeans, trainSTDevs, label='test-set', datasetObject = dataset )"
   ]
  },
  {
   "cell_type": "markdown",
   "metadata": {},
   "source": [
    "## 1.4 - Visualize in 3D [ Embed ]"
   ]
  },
  {
   "cell_type": "code",
   "execution_count": 13,
   "metadata": {},
   "outputs": [],
   "source": [
    "embeddingOptions = {\n",
    "    'PCA'  : { 'method': 'PCA', 'sampleLimit': 200000 },\n",
    "    'UMAP' : { 'method': 'UMAP', 'sampleLimit': 15000 },    \n",
    "}"
   ]
  },
  {
   "cell_type": "code",
   "execution_count": 14,
   "metadata": {},
   "outputs": [],
   "source": [
    "vizConfig = {\n",
    "    'maxSamplesToPlot' : 200000,\n",
    "    'embedding'        : embeddingOptions['UMAP']\n",
    "}    "
   ]
  },
  {
   "cell_type": "code",
   "execution_count": 15,
   "metadata": {},
   "outputs": [
    {
     "name": "stdout",
     "output_type": "stream",
     "text": [
      "shuffling and decimating - train-set ... test-set ...\n",
      "computing feature distributions in 0.71 seconds\n",
      "elapsed time : 1.0570144653320312\n"
     ]
    },
    {
     "data": {
      "application/vnd.jupyter.widget-view+json": {
       "model_id": "0b4a00357b95404e8414fd8ed1fd73f6",
       "version_major": 2,
       "version_minor": 0
      },
      "text/plain": [
       "Tab(children=(VBox(children=(Figure(camera=PerspectiveCamera(fov=46.0, position=(0.0, 0.0, 2.0), quaternion=(0…"
      ]
     },
     "metadata": {},
     "output_type": "display_data"
    }
   ],
   "source": [
    "viz.plot_data_train_vs_test( dataset, vizConfig )"
   ]
  },
  {
   "cell_type": "markdown",
   "metadata": {},
   "source": [
    "<a name='hyper-params'></a>\n",
    "# PART 2 - Defining HPO Search Parameters + Ranges"
   ]
  },
  {
   "cell_type": "markdown",
   "metadata": {},
   "source": [
    "-------"
   ]
  },
  {
   "cell_type": "markdown",
   "metadata": {},
   "source": [
    "## 2.1 - Explore XGBoost Hyper-Parameters \n",
    "Can you beat HPO? "
   ]
  },
  {
   "cell_type": "code",
   "execution_count": 16,
   "metadata": {},
   "outputs": [],
   "source": [
    "# flexible parameters -- read more @ https://xgboost.readthedocs.io/en/latest/parameter.html\n",
    "\n",
    "manualXGBoostParams = { \n",
    "    'max_depth': 6,                     # default = 6             :: maximum depth of a tree\n",
    "    'num_boost_round': 100,              # default = XXX           :: number of trees        \n",
    "    'learning_rate': 0.3,               # default = 0.3           :: step size shrinkage between rounds, prevents overfitting\n",
    "    'gamma': 0.,                        # default = 0             :: minimum loss reduction required to make a leaf node split, prevents overfitting\n",
    "    'lambda': 1.,                       # default = 1             :: L2 regularizaiton term on weights, prevents overfitting\n",
    "    'alpha': 0.,                        # default = 0             :: L1 regularization term on weights, prevents overfitting\n",
    "    'tree_method': 'gpu_hist',          # default = 'gpu_hist'    :: tree construction algorithm\n",
    "    'random_state' : 0 \n",
    "}\n",
    "# note: we'll inherit objective function [ & num_class ] from the dataset"
   ]
  },
  {
   "cell_type": "code",
   "execution_count": 17,
   "metadata": {},
   "outputs": [
    {
     "name": "stdout",
     "output_type": "stream",
     "text": [
      "train accuracy : 0.9328 in 0.7311 seconds\n",
      "test  accuracy : 0.7964 in 0.0119 seconds\n"
     ]
    }
   ],
   "source": [
    "trainedGPUModel, trainTimeGPU, inferenceTimeGPU = swarm.evaluate_manual_params( dataset, manualXGBoostParams )"
   ]
  },
  {
   "cell_type": "markdown",
   "metadata": {},
   "source": [
    "### 2.2 - [OPTIONAL] Diving Deeper into XGBoost"
   ]
  },
  {
   "cell_type": "markdown",
   "metadata": {},
   "source": [
    "Comparison vs XGBoost CPU training & inference"
   ]
  },
  {
   "cell_type": "code",
   "execution_count": 18,
   "metadata": {},
   "outputs": [],
   "source": [
    "runCPUComparison = False\n",
    "if runCPUComparison:\n",
    "    trainedCPUModel, trainTimeCPU, inferenceTimeCPU = swarm.evaluate_manual_params_CPU ( dataset, manualXGBoostParams, nCPUWorkers = 4 )\n",
    "    print( f' train speedup     : {trainTimeCPU / trainTimeGPU:0.2f} ' )\n",
    "    print( f' inference speedup : {inferenceTimeCPU / inferenceTimeGPU:0.2f} ' )"
   ]
  },
  {
   "cell_type": "markdown",
   "metadata": {},
   "source": [
    "Feature Importance Plots"
   ]
  },
  {
   "cell_type": "code",
   "execution_count": 19,
   "metadata": {},
   "outputs": [
    {
     "name": "stdout",
     "output_type": "stream",
     "text": [
      "CPU times: user 5 µs, sys: 2 µs, total: 7 µs\n",
      "Wall time: 13.4 µs\n"
     ]
    }
   ],
   "source": [
    "%%time\n",
    "plotFeatureImportance = False\n",
    "if plotFeatureImportance: \n",
    "    viz.plot_feature_importance( trainedGPUModel, importance_type='gain' )"
   ]
  },
  {
   "cell_type": "markdown",
   "metadata": {},
   "source": [
    "Plot Decision Trees using GraphViz"
   ]
  },
  {
   "cell_type": "code",
   "execution_count": 20,
   "metadata": {},
   "outputs": [
    {
     "name": "stdout",
     "output_type": "stream",
     "text": [
      "CPU times: user 4 µs, sys: 2 µs, total: 6 µs\n",
      "Wall time: 12.9 µs\n"
     ]
    }
   ],
   "source": [
    "%%time\n",
    "modelDetailPlots = False\n",
    "if modelDetailPlots: \n",
    "    viz.plot_first_N_trees( trainedGPUModel, nTrees = 2 )"
   ]
  },
  {
   "cell_type": "markdown",
   "metadata": {},
   "source": [
    "## 2.3 - Setting HPO Parameters and Search Ranges"
   ]
  },
  {
   "cell_type": "code",
   "execution_count": 21,
   "metadata": {},
   "outputs": [],
   "source": [
    "modelConfig = {\n",
    "    'name'                  : 'XGBoost',    \n",
    "                              # parameter        low    high    dtype \n",
    "    'tunableParam1'         : ['max_depth',      2,     15,    'int'   ],\n",
    "    'tunableParam2'         : ['learning_rate',  .001,  2,     'float' ],\n",
    "    'tunableParam3'         : ['gamma',          0.,    3.,    'float' ],\n",
    "\n",
    "    'nTrees-ceiling'        : 2000, # see note below\n",
    "    'early-stopping-rounds' : 250,  # see note below\n",
    "    'randomSeed'            : 0,    \n",
    "}"
   ]
  },
  {
   "cell_type": "markdown",
   "metadata": {},
   "source": [
    "> **Note**: number of trees will be allowed to freely range between 0-2000 with an early stopping settting of 250"
   ]
  },
  {
   "cell_type": "markdown",
   "metadata": {},
   "source": [
    "<a name='particle-swarm'></a>\n",
    "# PART 3 - Choice of Particle Swarm Strategy"
   ]
  },
  {
   "cell_type": "markdown",
   "metadata": {},
   "source": [
    "-------"
   ]
  },
  {
   "cell_type": "markdown",
   "metadata": {},
   "source": [
    "## 3.1 - Define Particle Swarm\n",
    "\n",
    ">\"In computational science, particle swarm optimization (PSO) is a method that optimizes a problem by iteratively trying to improve a candidate solution with regard to a given measure of quality. It solves a problem by having a population of candidate solutions, here dubbed particles, and moving these particles around in the search-space according to simple mathematical formulae over the particle's position and velocity. Each particle's movement is influenced by its local best known position, but is also guided toward the best known positions in the search-space, which are updated as better positions are found by other particles. This is expected to move the swarm toward the best solutions.\" - [Wikipedia Article](https://en.wikipedia.org/wiki/Particle_swarm_optimization)\n",
    "\n",
    "<center><img src='images/particle_logic.png' width='500px'> </center>\n",
    "<center><a href='https://en.wikipedia.org/wiki/Particle_swarm_optimization#Algorithm'>Particle Update Logic</a></center>   "
   ]
  },
  {
   "cell_type": "markdown",
   "metadata": {},
   "source": [
    "## 3.2 - Blocking and Non-Blocking PSO Variants [ Sync vs Async ]\n",
    "In a Synchronous Swarm **all particles wait for their peers to complete an update round** before deciding on the global best location in parameter space. \n",
    "> [Synchronous Swarm Video](https://drive.google.com/file/d/1emzCcxYM5C5ofCpFLgJ1qvBeKmiiTLCt/view?usp=sharing) \n",
    "\n",
    "Conversley in an Asynchronous Swarm particles update and read (a possibly stale value of) the global best without **without waiting** for their peers.\n",
    "> [Asynchronous Swarm Video](https://drive.google.com/file/d/1GnbxiQAIMsT5qUiIRUGWwMLfMudNp0wX/view?usp=sharing)\n",
    "\n",
    "As shown in the video links and in the figures below ( Sync on the left, Async on the right ), these concepts can be illustrated using dask task stream plots which are integrated into the RAPIDS runtime containers in the form of [jupyterlab-NVDashboard](https://github.com/rapidsai/jupyterlab-nvdashboard). \n",
    "\n",
    "In these plots GPU workers are shown as rows on the y-axis, and time is shown on the x-axis. The task rectangles shown in blue represent a sequence of particle evaluations tasks assigned/completed by each worker (per-row). Note that the task rectangles have varying length to indicate how long the particle evalutation needed to complete given its unique hyper-parameter settings. "
   ]
  },
  {
   "cell_type": "markdown",
   "metadata": {},
   "source": [
    "> Note: A good compromise between speed and convergence is to do an initial warmup round of Synchronization to allow every random particle to get at least one full evaluation before switching into fully Asynchronous mode."
   ]
  },
  {
   "cell_type": "markdown",
   "metadata": {},
   "source": [
    "<center><img src='images/sync_vs_async.png' width='800px'></center>"
   ]
  },
  {
   "cell_type": "code",
   "execution_count": 22,
   "metadata": {},
   "outputs": [],
   "source": [
    "HPOConfig = { \n",
    "    'strategy'        : 'sync', # sync # async # async-random\n",
    "    'nParticles'      : 16,\n",
    "    'nEpochs'         : 3,\n",
    "    'asyncWarmupFlag' : False,\n",
    "    'randomSeed'      : 0\n",
    "}"
   ]
  },
  {
   "cell_type": "markdown",
   "metadata": {},
   "source": [
    "<a name='define-cluster'></a>\n",
    "# PART 4 - Choice of Compute Cluster"
   ]
  },
  {
   "cell_type": "markdown",
   "metadata": {},
   "source": [
    "-------"
   ]
  },
  {
   "cell_type": "markdown",
   "metadata": {},
   "source": [
    "## <center> Scaling Compute with Kubernetes and Dask</center>"
   ]
  },
  {
   "cell_type": "markdown",
   "metadata": {},
   "source": [
    "<center><img src='images/scaling.png' width='1000px'></center>"
   ]
  },
  {
   "cell_type": "markdown",
   "metadata": {},
   "source": [
    "## 4.1 - Compute Cluster Selection"
   ]
  },
  {
   "cell_type": "code",
   "execution_count": 23,
   "metadata": {},
   "outputs": [],
   "source": [
    "from dask.distributed import Client, LocalCluster # nWorkers = nCPU cores on a single node \n",
    "from dask_cuda import LocalCUDACluster            # nWorkers = nGPUs on a single node \n",
    "from dask_kubernetes import KubeCluster           # nWorkers = nGPUs across multiple node "
   ]
  },
  {
   "cell_type": "markdown",
   "metadata": {},
   "source": [
    "At this point the user has a choice of the following compute and scaling strategies \n",
    "   * Scale-up on CPUs [ single node ] LocalCluster\n",
    "   * Scale-up on GPUs [ single node ] LocalCUDACluster\n",
    "   * Scale-out on GPUs [ multi-node ] KubeCluster \n",
    "   \n",
    "For multi-node scaling [ KubeCluster] requires that the notebooks is running on a Kubeflow Notebook Server on top of a Kubernetes cluster. See DeepOps installation instructions in the README.md."
   ]
  },
  {
   "cell_type": "code",
   "execution_count": 24,
   "metadata": {},
   "outputs": [],
   "source": [
    "computeConfig = {\n",
    "    'clusterType'   : 'LocalCUDACluster',  # [ LocalCluster ] or [ LocalCUDACluster] or [ KubeCluster ]\n",
    "    'nWorkers'      : 4,\n",
    "    'clientObject'  : None\n",
    "}"
   ]
  },
  {
   "cell_type": "markdown",
   "metadata": {},
   "source": [
    "## 4.2 - Cluster and Client Creation"
   ]
  },
  {
   "cell_type": "code",
   "execution_count": 25,
   "metadata": {},
   "outputs": [],
   "source": [
    "if computeConfig['clusterType'] == 'KubeCluster':\n",
    "    kubeIP = !echo $KUBEFLOW_CONTROLLER_SERVICE_HOST\n",
    "    if kubeIP[0] == '':\n",
    "        assert(\"Kubernetes cluster not found! [ launch notebook from a Kubeflow Notebook Server ]\")\n",
    "        workerSpecFilename = None\n",
    "    else:\n",
    "        workerSpecFilename = 'k8s_dask_worker.yaml'\n",
    "        print(f'successfully detected kubernetes controller @ {kubeIP}')\n",
    "        print(f'k8s+dask workers will run pod spec defined in [ {workerSpecFilename} ]')\n",
    "        swarm.build_worker_spec( workerSpecFilename )\n",
    "        !cat $workerSpecFilename"
   ]
  },
  {
   "cell_type": "code",
   "execution_count": 26,
   "metadata": {},
   "outputs": [],
   "source": [
    "if computeConfig['clusterType'] == 'LocalCluster': # single-node multi-CPU\n",
    "    cluster = LocalCluster( ip = '', n_workers = computeConfig['nWorkers'])  \n",
    "    \n",
    "elif computeConfig['clusterType'] == 'LocalCUDACluster': # single-node multi-GPU \n",
    "    cluster = LocalCUDACluster( ip = '', n_workers = computeConfig['nWorkers'])\n",
    "      \n",
    "elif computeConfig['clusterType'] == 'KubeCluster': # multi-node multi-GPU\n",
    "    cluster = KubeCluster.from_yaml( workerSpecFilename )"
   ]
  },
  {
   "cell_type": "code",
   "execution_count": 27,
   "metadata": {},
   "outputs": [
    {
     "data": {
      "application/vnd.jupyter.widget-view+json": {
       "model_id": "b30bd66bd80f41cdbce59e6aa22e8cc6",
       "version_major": 2,
       "version_minor": 0
      },
      "text/plain": [
       "VBox(children=(HTML(value='<h2>LocalCUDACluster</h2>'), HBox(children=(HTML(value='\\n<div>\\n  <style scoped>\\n…"
      ]
     },
     "metadata": {},
     "output_type": "display_data"
    }
   ],
   "source": [
    "cluster"
   ]
  },
  {
   "cell_type": "code",
   "execution_count": 28,
   "metadata": {},
   "outputs": [],
   "source": [
    "computeConfig['clientObject'] = Client( cluster, asynchronous = True)"
   ]
  },
  {
   "cell_type": "markdown",
   "metadata": {},
   "source": [
    "<a name='run-hpo'></a>\n",
    "# PART 5 - Run HPO Experiment"
   ]
  },
  {
   "cell_type": "markdown",
   "metadata": {},
   "source": [
    "-------"
   ]
  },
  {
   "cell_type": "markdown",
   "metadata": {},
   "source": [
    "## 5.1 - Experiment Summary"
   ]
  },
  {
   "cell_type": "code",
   "execution_count": 29,
   "metadata": {},
   "outputs": [],
   "source": [
    "if not loadingSavedExperiment:\n",
    "    exp = { 'datasetConfig' : datasetConfig, \n",
    "            'dataTransformsConfig' : dataTransformsConfig,       \n",
    "            'vizConfig' : vizConfig,\n",
    "            'modelConfig' : modelConfig,\n",
    "            'HPOConfig' : HPOConfig,\n",
    "            'computeConfig' : computeConfig }\n",
    "else:\n",
    "    exp['computeConfig'] = computeConfig"
   ]
  },
  {
   "cell_type": "code",
   "execution_count": 30,
   "metadata": {},
   "outputs": [
    {
     "data": {
      "text/plain": [
       "{'datasetConfig': {'datasetName': 'synthetic-swirl',\n",
       "  'nSamples': 2000000,\n",
       "  'localSaveDir': './data/',\n",
       "  'datasetObject': <data_utils.Dataset at 0x7fcaee5055f8>,\n",
       "  'coilType': 'swirl',\n",
       "  'coilDensity': 18,\n",
       "  'coil1StDev': 0.3,\n",
       "  'coil2StDev': 0.3,\n",
       "  'nGuidePointsPerCoil': 1000,\n",
       "  'shuffleFlag': True,\n",
       "  'randomSeed': 0},\n",
       " 'dataTransformsConfig': {'standardScaling': True,\n",
       "  'percentTrainSplit': 0.75,\n",
       "  'shuffleAtSplit': True,\n",
       "  'randomSeed': 0,\n",
       "  'samplesToSwap': 4000},\n",
       " 'vizConfig': {'maxSamplesToPlot': 200000,\n",
       "  'embedding': {'method': 'UMAP', 'sampleLimit': 15000}},\n",
       " 'modelConfig': {'name': 'XGBoost',\n",
       "  'tunableParam1': ['max_depth', 2, 15, 'int'],\n",
       "  'tunableParam2': ['learning_rate', 0.001, 2, 'float'],\n",
       "  'tunableParam3': ['gamma', 0.0, 3.0, 'float'],\n",
       "  'nTrees-ceiling': 2000,\n",
       "  'early-stopping-rounds': 250,\n",
       "  'randomSeed': 0},\n",
       " 'HPOConfig': {'strategy': 'sync',\n",
       "  'nParticles': 16,\n",
       "  'nEpochs': 3,\n",
       "  'asyncWarmupFlag': False,\n",
       "  'randomSeed': 0},\n",
       " 'computeConfig': {'clusterType': 'LocalCUDACluster',\n",
       "  'nWorkers': 4,\n",
       "  'clientObject': <Client: 'tcp://172.17.0.2:32989' processes=4 threads=4, memory=270.39 GB>}}"
      ]
     },
     "execution_count": 30,
     "metadata": {},
     "output_type": "execute_result"
    }
   ],
   "source": [
    "exp"
   ]
  },
  {
   "cell_type": "markdown",
   "metadata": {},
   "source": [
    "## 5.2 - Initialize Swarm with Experiment Settings"
   ]
  },
  {
   "cell_type": "code",
   "execution_count": 31,
   "metadata": {},
   "outputs": [
    {
     "name": "stdout",
     "output_type": "stream",
     "text": [
      "! initializing SyncSwarm, with 16 particles, and 3 epochs\n"
     ]
    }
   ],
   "source": [
    "if HPOConfig['strategy'] == 'sync':\n",
    "    expSwarm = swarm.SyncSwarm( exp )\n",
    "    \n",
    "elif HPOConfig['strategy'] == 'async':\n",
    "    expSwarm = swarm.AsyncSwarm( exp )    \n",
    "    \n",
    "elif HPOConfig['strategy'] == 'async-random':\n",
    "    expSwarm = swarm.RandomSearchAsync( exp )"
   ]
  },
  {
   "cell_type": "markdown",
   "metadata": {},
   "source": [
    "## 5.3 - Run Swarm Experiment"
   ]
  },
  {
   "cell_type": "code",
   "execution_count": 32,
   "metadata": {},
   "outputs": [
    {
     "name": "stdout",
     "output_type": "stream",
     "text": [
      "scattering data to GPU workers...  + persisting scattered data...done persist\n",
      "\n",
      "   pID |      max_depth,  learning_rate,          gamma\n",
      "     0 |              2,           0.00,           0.00 \n",
      "     1 |              7,           1.87,           3.00 \n",
      "     2 |             10,           1.86,           1.45 \n",
      "     3 |             12,           1.68,           1.71 \n",
      "     4 |             12,           0.35,           1.83 \n",
      "     5 |              5,           1.66,           2.94 \n",
      "     6 |             12,           0.42,           1.11 \n",
      "     7 |              6,           0.88,           2.93 \n",
      "     8 |              5,           0.48,           2.45 \n",
      "     9 |             14,           0.99,           0.43 \n",
      "    10 |             11,           0.99,           2.50 \n",
      "    11 |             11,           1.33,           2.78 \n",
      "    12 |             13,           1.75,           2.17 \n",
      "    13 |              4,           1.72,           0.54 \n",
      "    14 |             13,           1.32,           0.45 \n",
      "    15 |             15,           2.00,           3.00 \n",
      "\n",
      "new best 0.49999 found by particle 0 on eval 0\n",
      "new best 0.93294 found by particle 1 on eval 1\n",
      "new best 0.93300 found by particle 2 on eval 2\n",
      "new best 0.93703 found by particle 3 on eval 3\n",
      "new best 0.95016 found by particle 4 on eval 4\n",
      "> sync epoch 0 of 3\n",
      "new best 0.95250 found by particle 6 on eval 22\n",
      "> sync epoch 1 of 3\n",
      "new best 0.95374 found by particle 6 on eval 38\n",
      "> sync epoch 2 of 3\n",
      "search completed...\n",
      "\n",
      "\n",
      "       accuracy : 0.95374\n",
      "   elapsed time : 49.033 seconds\n",
      "\n",
      "      parameter | opt. value\n",
      "----------------------------------\n",
      "      max_depth : 13\n",
      "  learning_rate : 0.201\n",
      "          gamma : 1.693\n",
      "         nTrees : 106\n"
     ]
    }
   ],
   "source": [
    "expSwarm.run_search()"
   ]
  },
  {
   "cell_type": "markdown",
   "metadata": {},
   "source": [
    "## 5.1 - Visualize Swarm"
   ]
  },
  {
   "cell_type": "code",
   "execution_count": 33,
   "metadata": {},
   "outputs": [
    {
     "data": {
      "image/png": "[encoded data removed]",
      "text/plain": [
       "<Figure size 1080x504 with 1 Axes>"
      ]
     },
     "metadata": {
      "needs_background": "light"
     },
     "output_type": "display_data"
    }
   ],
   "source": [
    "viz.plot_particle_evals( expSwarm )"
   ]
  },
  {
   "cell_type": "code",
   "execution_count": 34,
   "metadata": {},
   "outputs": [
    {
     "data": {
      "image/png": "[encoded data removed]",
      "text/plain": [
       "<Figure size 1080x504 with 1 Axes>"
      ]
     },
     "metadata": {
      "needs_background": "light"
     },
     "output_type": "display_data"
    }
   ],
   "source": [
    "viz.plot_boosting_rounds_histogram( expSwarm )"
   ]
  },
  {
   "cell_type": "code",
   "execution_count": 35,
   "metadata": {},
   "outputs": [
    {
     "data": {
      "application/vnd.jupyter.widget-view+json": {
       "model_id": "95696707e6bc45018133366de6a0f98b",
       "version_major": 2,
       "version_minor": 0
      },
      "text/plain": [
       "Tab(children=(VBox(children=(Figure(camera=PerspectiveCamera(fov=46.0, position=(0.0, 0.0, 2.0), quaternion=(0…"
      ]
     },
     "metadata": {},
     "output_type": "display_data"
    }
   ],
   "source": [
    "viz.viz_top_particles( expSwarm )\n",
    "# viz.viz_particle_trails(expSwarm, topN = 1) # for non-tabbed results"
   ]
  },
  {
   "cell_type": "code",
   "execution_count": 36,
   "metadata": {},
   "outputs": [
    {
     "data": {
      "application/vnd.jupyter.widget-view+json": {
       "model_id": "baae3f9238c54331b71e6dadb52c080b",
       "version_major": 2,
       "version_minor": 0
      },
      "text/plain": [
       "VBox(children=(VBox(children=(Figure(animation=400.0, camera=PerspectiveCamera(fov=46.0, position=(0.0, 0.0, 2…"
      ]
     },
     "metadata": {},
     "output_type": "display_data"
    }
   ],
   "source": [
    "viz.viz_swarm( expSwarm, expSwarm.paramRanges)"
   ]
  },
  {
   "cell_type": "markdown",
   "metadata": {},
   "source": [
    "# 6 - Accelerated Inference<a name='accelerated-inference'></a>"
   ]
  },
  {
   "cell_type": "markdown",
   "metadata": {},
   "source": [
    "-------"
   ]
  },
  {
   "cell_type": "code",
   "execution_count": 37,
   "metadata": {},
   "outputs": [],
   "source": [
    "inferenceConfig = {\n",
    "    'accelerateInference' : True\n",
    "}\n",
    "# TODO add FIL"
   ]
  },
  {
   "cell_type": "markdown",
   "metadata": {},
   "source": [
    "# 7 - Save experiment"
   ]
  },
  {
   "cell_type": "markdown",
   "metadata": {},
   "source": [
    "-------"
   ]
  },
  {
   "cell_type": "code",
   "execution_count": 38,
   "metadata": {},
   "outputs": [],
   "source": [
    "import yaml\n",
    "expCopy = exp.copy()"
   ]
  },
  {
   "cell_type": "code",
   "execution_count": 39,
   "metadata": {},
   "outputs": [],
   "source": [
    "with open('experiment.yaml', 'w') as outfile:\n",
    "    expCopy['datasetConfig']['datasetObject'] = None # update with parquet write\n",
    "    expCopy['computeConfig']['clientObject'] = None\n",
    "    yaml.dump(expCopy, outfile)"
   ]
  },
  {
   "cell_type": "code",
   "execution_count": 40,
   "metadata": {},
   "outputs": [
    {
     "name": "stdout",
     "output_type": "stream",
     "text": [
      "HPOConfig:\n",
      "  asyncWarmupFlag: false\n",
      "  nEpochs: 3\n",
      "  nParticles: 16\n",
      "  randomSeed: 0\n",
      "  strategy: sync\n",
      "computeConfig:\n",
      "  clientObject: null\n",
      "  clusterType: LocalCUDACluster\n",
      "  nWorkers: 4\n",
      "dataTransformsConfig:\n",
      "  percentTrainSplit: 0.75\n",
      "  randomSeed: 0\n",
      "  samplesToSwap: 4000\n",
      "  shuffleAtSplit: true\n",
      "  standardScaling: true\n",
      "datasetConfig:\n",
      "  coil1StDev: 0.3\n",
      "  coil2StDev: 0.3\n",
      "  coilDensity: 18\n",
      "  coilType: swirl\n",
      "  datasetName: synthetic-swirl\n",
      "  datasetObject: null\n",
      "  localSaveDir: ./data/\n",
      "  nGuidePointsPerCoil: 1000\n",
      "  nSamples: 2000000\n",
      "  randomSeed: 0\n",
      "  shuffleFlag: true\n",
      "modelConfig:\n",
      "  early-stopping-rounds: 250\n",
      "  nTrees-ceiling: 2000\n",
      "  name: XGBoost\n",
      "  randomSeed: 0\n",
      "  tunableParam1:\n",
      "  - max_depth\n",
      "  - 2\n",
      "  - 15\n",
      "  - int\n",
      "  tunableParam2:\n",
      "  - learning_rate\n",
      "  - 0.001\n",
      "  - 2\n",
      "  - float\n",
      "  tunableParam3:\n",
      "  - gamma\n",
      "  - 0.0\n",
      "  - 3.0\n",
      "  - float\n",
      "vizConfig:\n",
      "  embedding:\n",
      "    method: UMAP\n",
      "    sampleLimit: 15000\n",
      "  maxSamplesToPlot: 200000\n"
     ]
    }
   ],
   "source": [
    "!cat experiment.yaml"
   ]
  },
  {
   "cell_type": "markdown",
   "metadata": {},
   "source": [
    "# Summary"
   ]
  },
  {
   "cell_type": "markdown",
   "metadata": {},
   "source": [
    "-------"
   ]
  },
  {
   "cell_type": "markdown",
   "metadata": {},
   "source": [
    "## Scale Up Results [ DGX-2 ]"
   ]
  },
  {
   "cell_type": "markdown",
   "metadata": {},
   "source": [
    "<img src='images/synthetic_async.png' width = 500px></img>"
   ]
  },
  {
   "cell_type": "markdown",
   "metadata": {},
   "source": [
    "# Future Work / Extensions"
   ]
  },
  {
   "cell_type": "markdown",
   "metadata": {},
   "source": [
    "larger than single GPU memory datasets - dask_cudf + [ dask_xgboost or xgboost.dask ]"
   ]
  },
  {
   "cell_type": "markdown",
   "metadata": {},
   "source": [
    "# References"
   ]
  }
 ],
 "metadata": {
  "kernelspec": {
   "display_name": "Python 3",
   "language": "python",
   "name": "python3"
  },
  "language_info": {
   "codemirror_mode": {
    "name": "ipython",
    "version": 3
   },
   "file_extension": ".py",
   "mimetype": "text/x-python",
   "name": "python",
   "nbconvert_exporter": "python",
   "pygments_lexer": "ipython3",
   "version": "3.6.7"
  }
 },
 "nbformat": 4,
 "nbformat_minor": 4
}
