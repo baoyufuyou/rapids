{
 "cells": [
  {
   "cell_type": "markdown",
   "metadata": {},
   "source": [
    "![rapids motivation](images/rapids_motivation.png)"
   ]
  },
  {
   "cell_type": "markdown",
   "metadata": {},
   "source": [
    "![notebook choices](images/choices.png)\n"
   ]
  },
  {
   "cell_type": "markdown",
   "metadata": {},
   "source": [
    "# Table of Contents"
   ]
  },
  {
   "cell_type": "markdown",
   "metadata": {},
   "source": [
    "1. [ Generate a classification dataset on GPU ](#data-gen) (e.g., double helix, unwinding helix/whirl )\n",
    "\n",
    "2. [ ETL - process/prepare data for model training ](#ETL) (e.g., scale, split, augment )\n",
    "   > controllably breaking IID : non-identically distributed train and test data\n",
    "    \n",
    "3. [ Single model training ](#single-model)\n",
    "   > CPUs vs 1 GPU\n",
    "  - TODO summarize : accuracy (model predictions & errors viz), wall clocks, cleanup\n",
    "  \n",
    "4. [ Define HPO Strategy ](#define-hpo)\n",
    "\n",
    "5. [ Scaling up within a node using Dask ](#scale-up-single-node-hpo)\n",
    "   > LocalCUDACluster \n",
    "      \n",
    "6. [ Scaling out across nodes with Dask + Kubernetes ](#scale-out-multi-node-hpo)\n",
    "   > kubernetes (+kubeflow)\n",
    "   \n",
    "   > from dask_kubernetes import KubeCluster\n",
    "   "
   ]
  },
  {
   "cell_type": "code",
   "execution_count": 1,
   "metadata": {},
   "outputs": [
    {
     "data": {
      "text/plain": [
       "<module 'swarm' from '/workspace/code_repos/rapids/HPO/swarm.py'>"
      ]
     },
     "execution_count": 1,
     "metadata": {},
     "output_type": "execute_result"
    }
   ],
   "source": [
    "import numpy as np; import numpy.matlib\n",
    "\n",
    "import ipyvolume as ipv\n",
    "\n",
    "import matplotlib.pyplot as plt\n",
    "from mpl_toolkits.mplot3d import Axes3D\n",
    "\n",
    "# algos, datasets\n",
    "import xgboost; from xgboost import plot_tree\n",
    "from sklearn import datasets; from sklearn.metrics import confusion_matrix, accuracy_score\n",
    "\n",
    "import cupy\n",
    "import cudf\n",
    "import pandas as pd\n",
    "\n",
    "import time; from time import sleep\n",
    "import copy\n",
    "\n",
    "import data_utils # load datasets (or generate data) on the gpu\n",
    "\n",
    "import swarm # particle swarm implementation\n",
    "\n",
    "import swarm\n",
    "''' NOTE: anytime changes are made to swarm.py you can either:\n",
    "      1. refresh/reload via the code below, OR\n",
    "      2. restart the kernel '''\n",
    "import importlib; importlib.reload(swarm)"
   ]
  },
  {
   "cell_type": "markdown",
   "metadata": {},
   "source": [
    "# Loading Popular ML Datasets"
   ]
  },
  {
   "cell_type": "markdown",
   "metadata": {},
   "source": [
    "Instead of generating synthetic datasets we can download some of popular ML datasets. The block of code below will automatically:\n",
    "- download the dataset, \n",
    "- prepare the dataset for training (train/test split),\n",
    "- convert the Pandas dataframe tu cuDF\n",
    "\n",
    "| Name                                                                           | Rows   | Columns | Task           |\n",
    "|--------------------------------------------------------------------------------|--------|---------|----------------|\n",
    "| [airline](http://kt.ijs.si/elena_ikonomovska/data.html)                        | 115M   | 13      | Binary Classification |\n",
    "| [higgs](https://archive.ics.uci.edu/ml/datasets/HIGGS)                         | 11M    | 28      | Binary Classification |\n",
    "\n",
    "**Note** : You can choose the number of rows of the dataset you want to import. Smaller number of rows is recomended for testing purposes. \n",
    "\n"
   ]
  },
  {
   "cell_type": "code",
   "execution_count": 2,
   "metadata": {},
   "outputs": [],
   "source": [
    "dataset= \"synthetic\" # choose: \"higgs\" or \"airline\" for real dataset, \"synthetic\" for data generation\n",
    "num_rows = 10000 # \"higgs\" max : 11M  ; \"airline\" max: 115M ; \"synthetic\" N/A\n"
   ]
  },
  {
   "cell_type": "code",
   "execution_count": 3,
   "metadata": {},
   "outputs": [],
   "source": [
    "## if running sythnetic dataset this block of code will be ignored\n",
    "\n",
    "if dataset ==\"higgs\":\n",
    "    df = data_utils.prepare_higgs(\"data/\", num_rows)\n",
    "elif dataset == \"airline\":\n",
    "    df = data_utils.prepare_airline(\"data/\", num_rows)\n",
    "else:\n",
    "    pass\n",
    "\n",
    "if dataset == \"higgs\" or dataset == \"airline\":\n",
    "    trainData_cDF = cudf.DataFrame.from_pandas(df.X_train)\n",
    "    testData_cDF = cudf.DataFrame.from_pandas(df.X_test)\n",
    "    trainLabels_cDF = cudf.DataFrame.from_pandas(df.y_train.to_frame())\n",
    "    testLabels_cDF = cudf.DataFrame.from_pandas(df.y_test.to_frame())\n",
    "    "
   ]
  },
  {
   "cell_type": "markdown",
   "metadata": {},
   "source": [
    "<a id = 'data-gen'></a>\n",
    "# 1. Data Generation\n",
    "-----\n"
   ]
  },
  {
   "cell_type": "markdown",
   "metadata": {},
   "source": [
    "We will generate data shapes [coordinate lists] and hand them to the GPU. The GPU will randomly build 3D blobs [ cupy.random.normal ] around each coordinate point to create a much larger, noisier, and more realistic dataset."
   ]
  },
  {
   "cell_type": "markdown",
   "metadata": {},
   "source": [
    "Using this concept we offer the following dataset variations:\n",
    "1. Helix - two entwined coils, inspired by DNA casing\n",
    "2. Whirl - an increasingly unwinding Helix "
   ]
  },
  {
   "cell_type": "markdown",
   "metadata": {},
   "source": [
    "# Helix and Whirl Datasets"
   ]
  },
  {
   "cell_type": "code",
   "execution_count": 4,
   "metadata": {},
   "outputs": [],
   "source": [
    "nBlobPoints = 1000\n",
    "nCoordinates = 400\n",
    "\n",
    "sdevScales = [ .3, .3, .3]\n",
    "noiseScale = 1/10.\n",
    "\n",
    "coilDensity = 12\n",
    "trainTestOverlap = .15"
   ]
  },
  {
   "cell_type": "code",
   "execution_count": 5,
   "metadata": {},
   "outputs": [
    {
     "name": "stdout",
     "output_type": "stream",
     "text": [
      "generating blobs; # points = 400000\n",
      "generating blobs; # points = 400000\n",
      "time to generate data on GPU = 3.9756219387054443\n",
      "\t plotting data - stride = 8 \n"
     ]
    },
    {
     "data": {
      "application/vnd.jupyter.widget-view+json": {
       "model_id": "ce81ef7f0b674abb9041c759f7a2ac2b",
       "version_major": 2,
       "version_minor": 0
      },
      "text/plain": [
       "VBox(children=(Figure(camera=PerspectiveCamera(fov=46.0, position=(0.0, 0.0, 2.0), quaternion=(0.0, 0.0, 0.0, …"
      ]
     },
     "metadata": {},
     "output_type": "display_data"
    }
   ],
   "source": [
    "data, labels, t_gen = data_utils.gen_blob_coils( coilType='whirl', shuffleFlag = False, \n",
    "                                                 nBlobPoints = nBlobPoints,  \n",
    "                                                 nCoordinates = nCoordinates, \n",
    "                                                 sdevScales = sdevScales, \n",
    "                                                 noiseScale = noiseScale, \n",
    "                                                 coilDensity = coilDensity )"
   ]
  },
  {
   "cell_type": "code",
   "execution_count": 6,
   "metadata": {},
   "outputs": [
    {
     "name": "stdout",
     "output_type": "stream",
     "text": [
      "generating blobs; # points = 400000\n",
      "generating blobs; # points = 400000\n",
      "time to generate data on GPU = 0.31670451164245605\n",
      "\t plotting data - stride = 8 \n"
     ]
    },
    {
     "data": {
      "application/vnd.jupyter.widget-view+json": {
       "model_id": "860b083df109436685f58da04b247423",
       "version_major": 2,
       "version_minor": 0
      },
      "text/plain": [
       "VBox(children=(Figure(camera=PerspectiveCamera(fov=46.0, position=(0.0, 0.0, 2.0), quaternion=(0.0, 0.0, 0.0, …"
      ]
     },
     "metadata": {},
     "output_type": "display_data"
    }
   ],
   "source": [
    "data, labels, t_gen = data_utils.gen_blob_coils( coilType='helix', shuffleFlag = False, \n",
    "                                                 nBlobPoints = nBlobPoints,  \n",
    "                                                 nCoordinates = nCoordinates, \n",
    "                                                 sdevScales = sdevScales, \n",
    "                                                 noiseScale = noiseScale, \n",
    "                                                 coilDensity = coilDensity )"
   ]
  },
  {
   "cell_type": "markdown",
   "metadata": {},
   "source": [
    "<a id = 'ETL'></a>\n",
    "# 2. ETL\n",
    "-----"
   ]
  },
  {
   "cell_type": "code",
   "execution_count": 7,
   "metadata": {},
   "outputs": [],
   "source": [
    "expLog = {}"
   ]
  },
  {
   "cell_type": "markdown",
   "metadata": {},
   "source": [
    "## Standard Scaler [ Normalize ]"
   ]
  },
  {
   "cell_type": "code",
   "execution_count": 8,
   "metadata": {},
   "outputs": [],
   "source": [
    "def scale_dataframe_inplace ( targetDF, trainMeans = {}, trainSTDevs = {} ):    \n",
    "    print('rescaling data')\n",
    "    sT = time.time()\n",
    "    for iCol in targetDF.columns:\n",
    "        \n",
    "        # omit scaling label column\n",
    "        if iCol == targetDF.columns[-1] == 'label': continue\n",
    "            \n",
    "        # compute means and standard deviations for each column [ should skip for test data ]\n",
    "        if iCol not in trainMeans.keys() and iCol not in trainSTDevs.keys():            \n",
    "            trainMeans[iCol] = targetDF[iCol].mean()\n",
    "            trainSTDevs[iCol] = targetDF[iCol].std()\n",
    "            \n",
    "        # apply scaling to each column\n",
    "        targetDF[iCol] = ( targetDF[iCol] - trainMeans[iCol] ) / ( trainSTDevs[iCol] + 1e-10 )\n",
    "        \n",
    "    return trainMeans, trainSTDevs, time.time() - sT"
   ]
  },
  {
   "cell_type": "markdown",
   "metadata": {},
   "source": [
    "### **CPU** split & scale"
   ]
  },
  {
   "cell_type": "code",
   "execution_count": 9,
   "metadata": {},
   "outputs": [
    {
     "name": "stdout",
     "output_type": "stream",
     "text": [
      "splitting data into training and test set\n",
      "rescaling data\n",
      "rescaling data\n",
      " + adding log entry [ CPU_split_train_test     :   0.06619 s ]\n",
      " + adding log entry [ CPU_scale_train_data     :   0.08330 s ]\n",
      " + adding log entry [ CPU_scale_test_data      :   0.05176 s ]\n"
     ]
    }
   ],
   "source": [
    "# split\n",
    "trainData_pDF, trainLabels_pDF, testData_pDF, testLabels_pDF, t_split_CPU = data_utils.split_train_test_nfolds ( data.to_pandas(), labels.to_pandas(), trainTestOverlap = trainTestOverlap )\n",
    "\n",
    "# apply standard scaling\n",
    "trainMeans_CPU, trainSTDevs_CPU, t_scaleTrain_CPU = scale_dataframe_inplace ( trainData_pDF )\n",
    "_,_, t_scaleTest_CPU = scale_dataframe_inplace ( testData_pDF, trainMeans_CPU, trainSTDevs_CPU )    \n",
    "\n",
    "expLog = swarm.update_log( expLog, [['CPU_split_train_test', t_split_CPU],\n",
    "                                 ['CPU_scale_train_data', t_scaleTrain_CPU], \n",
    "                                 ['CPU_scale_test_data', t_scaleTest_CPU]] )"
   ]
  },
  {
   "cell_type": "markdown",
   "metadata": {},
   "source": [
    "### **GPU** split & scale"
   ]
  },
  {
   "cell_type": "code",
   "execution_count": 10,
   "metadata": {},
   "outputs": [
    {
     "name": "stdout",
     "output_type": "stream",
     "text": [
      "splitting data into training and test set\n",
      "rescaling data\n",
      "rescaling data\n",
      " + adding log entry [ GPU_split_train_test     :   0.62428 s ]\n",
      " + adding log entry [ GPU_scale_train_data     :   0.37631 s ]\n",
      " + adding log entry [ GPU_scale_test_data      :   0.00474 s ]\n"
     ]
    }
   ],
   "source": [
    "# split\n",
    "trainData_cDF, trainLabels_cDF, testData_cDF, testLabels_cDF, t_split = data_utils.split_train_test_nfolds ( data, labels, trainTestOverlap = trainTestOverlap )\n",
    "\n",
    "# apply standard scaling\n",
    "trainMeans, trainSTDevs, t_scaleTrain = scale_dataframe_inplace ( trainData_cDF )\n",
    "_,_, t_scaleTest = scale_dataframe_inplace ( testData_cDF, trainMeans, trainSTDevs )    \n",
    "\n",
    "expLog = swarm.update_log( expLog, [['GPU_split_train_test', t_split],\n",
    "                                 ['GPU_scale_train_data', t_scaleTrain],\n",
    "                                 ['GPU_scale_test_data', t_scaleTest]] ); "
   ]
  },
  {
   "cell_type": "markdown",
   "metadata": {},
   "source": [
    "# Set up Dask"
   ]
  },
  {
   "cell_type": "code",
   "execution_count": 11,
   "metadata": {},
   "outputs": [],
   "source": [
    "import dask\n",
    "from dask import delayed\n",
    "from dask_cuda import LocalCUDACluster\n",
    "from dask_kubernetes import KubeCluster\n",
    "from dask.distributed import Client\n",
    "from dask.distributed import as_completed\n",
    "from dask.distributed import worker"
   ]
  },
  {
   "cell_type": "code",
   "execution_count": 12,
   "metadata": {},
   "outputs": [],
   "source": [
    "cluster = LocalCUDACluster(ip='', n_workers = 4)"
   ]
  },
  {
   "cell_type": "code",
   "execution_count": 13,
   "metadata": {},
   "outputs": [],
   "source": [
    "client = Client(cluster, asynchronous=True)"
   ]
  },
  {
   "cell_type": "markdown",
   "metadata": {},
   "source": [
    "<a id = 'define-hpo'></a>\n",
    "# 4. Define HPO Strategy\n",
    "-----"
   ]
  },
  {
   "cell_type": "markdown",
   "metadata": {},
   "source": [
    "### Particle Swarm : \n",
    "> Particles are randomly initialized, and change their position in hyper-parameter space using three terms \n",
    "1. momentum\n",
    "2. personal best \n",
    "3. global best"
   ]
  },
  {
   "cell_type": "markdown",
   "metadata": {},
   "source": [
    "## Particle Evaluation Logic \n",
    "> (i.e., Train & Eval using Changing Parameter Sets )"
   ]
  },
  {
   "cell_type": "code",
   "execution_count": 14,
   "metadata": {},
   "outputs": [],
   "source": [
    "def evaluate_particle ( particle, dataFutures, earlyStoppingRounds, retainPredictionsFlag ):    \n",
    "\n",
    "    # fixed parameters\n",
    "    paramsGPU = { 'objective': 'binary:hinge',\n",
    "                  'tree_method': 'gpu_hist',\n",
    "                  'n_gpus': 1,\n",
    "                  'random_state': 0 }\n",
    "\n",
    "    # TODO: loop over paramRanges instead of hard code\n",
    "    paramsGPU['max_depth'] = int( particle['params'][0] )\n",
    "    paramsGPU['learning_rate'] = particle['params'][1]\n",
    "    paramsGPU['gamma'] = particle['params'][2]\n",
    "    paramsGPU['num_boost_rounds'] = 1000\n",
    "\n",
    "    startTime = time.time()\n",
    "\n",
    "    trainDMatrix = xgboost.DMatrix( data = dataFutures['trainData'], label = dataFutures['trainLabels'] )\n",
    "    testDMatrix = xgboost.DMatrix( data = dataFutures['testData'], label = dataFutures['testLabels'] )\n",
    "\n",
    "    trainedModelGPU = xgboost.train( dtrain = trainDMatrix, evals = [(testDMatrix, 'test')], \n",
    "                                     params = paramsGPU,\n",
    "                                     num_boost_round = paramsGPU['num_boost_rounds'],\n",
    "                                     early_stopping_rounds = earlyStoppingRounds,\n",
    "                                     verbose_eval = False )\n",
    "        \n",
    "    predictionsGPU = trainedModelGPU.predict( testDMatrix ).astype(int)\n",
    "            \n",
    "    elapsedTime = time.time() - startTime\n",
    "\n",
    "    particle['nTrees'] = trainedModelGPU.best_iteration\n",
    "    particle['trainAccuracy'] = 1 - float( trainedModelGPU.eval(trainDMatrix, iteration = 50).split(':')[1] )\n",
    "    particle['testAccuracy'] = 1 - float( trainedModelGPU.eval(testDMatrix, iteration = 50).split(':')[1] )    \n",
    "    \n",
    "    if not retainPredictionsFlag: \n",
    "        predictionsGPU = None\n",
    "    \n",
    "    particle['predictions'] = predictionsGPU\n",
    "    \n",
    "    return particle, elapsedTime"
   ]
  },
  {
   "cell_type": "markdown",
   "metadata": {},
   "source": [
    "## Particle Update Logic \n",
    "https://en.wikipedia.org/wiki/Particle_swarm_optimization"
   ]
  },
  {
   "cell_type": "code",
   "execution_count": 15,
   "metadata": {},
   "outputs": [],
   "source": [
    "def update_particle( particle, paramRanges, globalBestParams, personalBestParams, \n",
    "                     wMomentum, wIndividual, wSocial, wExplore, randomSearchMode = False, randomSeed = None ):\n",
    "\n",
    "    #if randomSeed is not None:\n",
    "    #    np.random.seed(randomSeed)    \n",
    "    \n",
    "    # baseline to compare swarm update versus random search\n",
    "    if randomSearchMode:        \n",
    "        \n",
    "        sampledParams, sampledVelocities = swarm.sample_params( paramRanges )\n",
    "        #print(f'random-search-update: params {sampledParams} velos: {sampledVelocities}')\n",
    "        #newParticleParams = rl.enforce_param_bounds_inline ( sampledParams, paramRanges )        \n",
    "        return sampledParams, sampledVelocities\n",
    "        \n",
    "    # computing update terms for PSO (ref: https://en.wikipedia.org/wiki/Particle_swarm_optimization )\n",
    "    inertiaInfluence = particle['velocities'].copy()\n",
    "    socialInfluence = ( globalBestParams - particle['params'] )\n",
    "    individualInfluence = ( personalBestParams - particle['params'] )\n",
    "    \n",
    "    newParticleVelocities =    wMomentum    *  inertiaInfluence \\\n",
    "                             + wIndividual  *  individualInfluence  * np.random.random()   \\\n",
    "                             + wSocial      *  socialInfluence      * np.random.random()\n",
    "    \n",
    "    # paramSamples = sample_params(paramRanges)\n",
    "    # exploreInfluence = sExplore * ( np.array([paramSamples[0], paramSamples[1], paramSamples[2]]) )\n",
    "\n",
    "    newParticleParams = particle['params'].copy() + newParticleVelocities\n",
    "    newParticleParams = swarm.enforce_param_bounds_inline ( newParticleParams, paramRanges )\n",
    "            \n",
    "    return newParticleParams, newParticleVelocities"
   ]
  },
  {
   "cell_type": "markdown",
   "metadata": {},
   "source": [
    "## HPO Run Loop"
   ]
  },
  {
   "cell_type": "code",
   "execution_count": 25,
   "metadata": {},
   "outputs": [],
   "source": [
    "def run_hpo ( client, mode, nParticles, nEpochs, paramRanges, trainData_cDF, trainLabels_cDF, testData_cDF, testLabels_cDF,\n",
    "              wMomentum = .05, wIndividual = .35, wBest = .25, wExplore = .15, earlyStoppingRounds = 50,\n",
    "              terminationAccuracy = np.Inf, \n",
    "              randomSeed = 0, \n",
    "              plotFlag = True,\n",
    "              retainPredictionsFlag = False ):\n",
    "    \n",
    "    startTime = time.time()\n",
    "    \n",
    "    # ----------------------------\n",
    "    # scatter data to all workers\n",
    "    # ----------------------------\n",
    "    if client is not None:\n",
    "        scatteredData_future = client.scatter( [ trainData_cDF, trainLabels_cDF, testData_cDF, testLabels_cDF], broadcast = True )\n",
    "        \n",
    "    dataFutures = { 'trainData'   : scatteredData_future[0], 'trainLabels' : scatteredData_future[1], \n",
    "                    'testData'    : scatteredData_future[2], 'testLabels'  : scatteredData_future[3] }\n",
    "    \n",
    "    # ----------------------------\n",
    "    # initialize HPO strategy \n",
    "    # ----------------------------        \n",
    "    def initialize_particle_futures ( nParticles, paramRanges, randomSeed, plotFlag ) :\n",
    "        initialParticleParams, initialParticleVelocities, globalBest, particleColors = swarm.initialize_particle_swarm ( nParticles, paramRanges, randomSeed, plotFlag )\n",
    "        # create particle futures using the initialization positions and velocities    \n",
    "        delayedEvalParticles = []\n",
    "        for iParticle in range(nParticles):\n",
    "            particle = { 'ID': iParticle, 'params': initialParticleParams[iParticle], 'velocities': initialParticleVelocities[iParticle], 'predictions': None }        \n",
    "            delayedEvalParticles.append( delayed ( evaluate_particle )( particle.copy(), dataFutures, earlyStoppingRounds, retainPredictionsFlag ))\n",
    "        return delayedEvalParticles, initialParticleParams, globalBest, particleColors\n",
    "        \n",
    "    # ------------------------------------------------\n",
    "    # shared logic for particle evaluation and updates\n",
    "    # ------------------------------------------------\n",
    "    def eval_and_update ( particleFuture, delayedEvalParticles, particleHistory, paramRanges, globalBest, randomSearchMode, nEvaluations ):\n",
    "        # convert particle future to concrete result and collect returned values\n",
    "        particle, elapsedTime = particleFuture.result()\n",
    "\n",
    "        # update hpo strategy meta-parameters -- i.e. swarm global best and particle personal best\n",
    "        particleHistory, globalBest = swarm.update_bests ( particleHistory, particle, globalBest, nEvaluations, mode['randomSearch'] )\n",
    "\n",
    "        # update history with this particle's latest contribution/eval\n",
    "        particleHistory = swarm.update_history_dictionary ( particleHistory, particle, nEvaluations )\n",
    "\n",
    "        # update particle\n",
    "        if randomSearchMode:\n",
    "            personalBestParams = None\n",
    "        else:\n",
    "            personalBestParams = particleHistory[particle['ID']]['personalBestParams']\n",
    "            \n",
    "        particle['params'], particle['velocities'] = update_particle ( particle, paramRanges,\n",
    "                                                                       globalBest['params'], personalBestParams,\n",
    "                                                                       wMomentum, wIndividual, wBest, wExplore,\n",
    "                                                                       randomSearchMode = randomSearchMode, \n",
    "                                                                       randomSeed = particle['ID'] ) # repeatability\n",
    "        return particle.copy(), particleHistory, globalBest\n",
    "\n",
    "    \n",
    "    nEvaluations = 0\n",
    "    particleHistory = {}\n",
    "    \n",
    "    if mode['allowAsyncUpdates'] != True:\n",
    "        # ----------------------------\n",
    "        # synchronous particle swarm\n",
    "        # ----------------------------\n",
    "        delayedEvalParticles, initialParticleParams, globalBest, particleColors = initialize_particle_futures ( nParticles, paramRanges, randomSeed, plotFlag )\n",
    "        futureEvalParticles = client.compute( delayedEvalParticles )\n",
    "        \n",
    "        for iEpoch in range (0, nEpochs ):    \n",
    "            futureEvalParticles = client.compute( delayedEvalParticles )\n",
    "            delayedEvalParticles = []\n",
    "            for particleFuture in futureEvalParticles:\n",
    "                newParticle, particleHistory, globalBest = eval_and_update ( particleFuture, delayedEvalParticles, particleHistory, paramRanges, globalBest, mode['randomSearch'], nEvaluations )\n",
    "\n",
    "                # termination conditions \n",
    "                if globalBest['accuracy'] > terminationAccuracy: break\n",
    "\n",
    "                # append future work for the next instantiation of this particle ( using the freshly updated parameters )\n",
    "                delayedEvalParticles.append( delayed ( evaluate_particle )( newParticle, dataFutures, earlyStoppingRounds, retainPredictionsFlag ))\n",
    "                \n",
    "                nEvaluations += 1\n",
    "            # --- \n",
    "            print(f'> on epoch {iEpoch} out of {nEpochs}') \n",
    "    \n",
    "    else:\n",
    "        # ----------------------------\n",
    "        # asynchronous particle swarm\n",
    "        # ----------------------------\n",
    "        delayedEvalParticles, initialParticleParams, globalBest, particleColors = initialize_particle_futures ( nParticles, paramRanges, randomSeed, plotFlag )\n",
    "        futureEvalParticles = client.compute( delayedEvalParticles )        \n",
    "        particleFutureSeq = as_completed( futureEvalParticles )\n",
    "        \n",
    "        for particleFuture in particleFutureSeq:\n",
    "            newParticle, particleHistory, globalBest = eval_and_update ( particleFuture, delayedEvalParticles, particleHistory, paramRanges, globalBest, mode['randomSearch'], nEvaluations )\n",
    "            # termination conditions \n",
    "            if globalBest['accuracy'] > terminationAccuracy: break\n",
    "            if ( nEvaluations // nParticles ) > nEpochs : break\n",
    "                \n",
    "            # append future work for the next instantiation of this particle ( using the freshly updated parameters )\n",
    "            delayedParticle = delayed ( evaluate_particle )( newParticle, dataFutures, earlyStoppingRounds, retainPredictionsFlag )\n",
    "            # submit this particle future to the client ( returns a future )\n",
    "            futureParticle = client.compute( delayedParticle )\n",
    "            # track its completion via the as_completed iterator \n",
    "            particleFutureSeq.add( futureParticle )\n",
    "            \n",
    "            nEvaluations += 1\n",
    "                              \n",
    "    elapsedTime = time.time() - startTime\n",
    "    \n",
    "    print(f\"\\n\\n best accuracy: {globalBest['accuracy']}, by particle: {globalBest['particleID']} on eval: {globalBest['iEvaluation']} \")\n",
    "    print(f\" best parameters: {swarm.format_params( globalBest['params'], globalBest['nTrees'] )}, \\n elpased time: {elapsedTime:.2f} seconds\")\n",
    "    \n",
    "    return particleHistory, initialParticleParams, globalBest, elapsedTime"
   ]
  },
  {
   "cell_type": "markdown",
   "metadata": {},
   "source": [
    "### Inspect/Edit Library Code [optional]\n",
    "> swarm.import_library_function_in_new_cell ( **function-name** )"
   ]
  },
  {
   "cell_type": "code",
   "execution_count": 26,
   "metadata": {},
   "outputs": [],
   "source": [
    "import inspect"
   ]
  },
  {
   "cell_type": "code",
   "execution_count": 27,
   "metadata": {},
   "outputs": [],
   "source": [
    "sampleImportFlag = False\n",
    "if sampleImportFlag:\n",
    "    swarm.import_library_function_in_new_cell ( [ swarm.sample_params, swarm.initialize_particle_swarm] )"
   ]
  },
  {
   "cell_type": "markdown",
   "metadata": {},
   "source": [
    "-----\n",
    "# **Run HPO**\n"
   ]
  },
  {
   "cell_type": "markdown",
   "metadata": {},
   "source": [
    "## Define the search range of the target parameters"
   ]
  },
  {
   "cell_type": "code",
   "execution_count": 28,
   "metadata": {},
   "outputs": [],
   "source": [
    "paramRanges = { 0: ['max_depth', 3, 20, 'int'],\n",
    "                1: ['learning_rate', .001, 1, 'float'],\n",
    "                2: ['gamma', 0, 2, 'float'] }"
   ]
  },
  {
   "cell_type": "markdown",
   "metadata": {},
   "source": [
    "## Define size of the swarm & duration of search"
   ]
  },
  {
   "cell_type": "code",
   "execution_count": 29,
   "metadata": {},
   "outputs": [],
   "source": [
    "nParticles = 16\n",
    "nEpochs = 10"
   ]
  },
  {
   "cell_type": "markdown",
   "metadata": {},
   "source": [
    "-----\n",
    "## Launch **Synchronous** Particle Swarm\n",
    "> [ i.e., wait for all particles to finish before making any updates ] "
   ]
  },
  {
   "cell_type": "code",
   "execution_count": 30,
   "metadata": {},
   "outputs": [
    {
     "name": "stdout",
     "output_type": "stream",
     "text": [
      "0.979950 -- new global best by particle: 0, eval: 0, params: 15, 0.8444, 1.6945, 2\n",
      "0.984012 -- new global best by particle: 1, eval: 1, params: 7, 0.0577, 0.9553, 295\n",
      "0.984713 -- new global best by particle: 15, eval: 15, params: 4, 0.2784, 1.6847, 296\n",
      "> on epoch 0 out of 10\n",
      "0.985237 -- new global best by particle: 7, eval: 23, params: 5, 0.0772, 1.2119, 242\n",
      "> on epoch 1 out of 10\n",
      "> on epoch 2 out of 10\n",
      "> on epoch 3 out of 10\n",
      "0.985787 -- new global best by particle: 14, eval: 78, params: 6, 0.2364, 1.0852, 158\n",
      "> on epoch 4 out of 10\n",
      "> on epoch 5 out of 10\n",
      "> on epoch 6 out of 10\n",
      "> on epoch 7 out of 10\n",
      "> on epoch 8 out of 10\n",
      "> on epoch 9 out of 10\n",
      "\n",
      "\n",
      " best accuracy: 0.985787, by particle: 14 on eval: 78 \n",
      " best parameters: 6, 0.2364, 1.0852, 158, \n",
      " elpased time: 46.23 seconds\n"
     ]
    }
   ],
   "source": [
    "mode = {'allowAsyncUpdates': False, 'randomSearch': False }\n",
    "particleHistory, initialParticleParams, globalBest, _ = run_hpo ( client, mode, nParticles, nEpochs, paramRanges, \n",
    "                                                                  trainData_cDF, trainLabels_cDF, testData_cDF, testLabels_cDF, \n",
    "                                                                  wMomentum = .05, wIndividual = .25, wBest = .45, wExplore = 0,\n",
    "                                                                  plotFlag = False, \n",
    "                                                                  retainPredictionsFlag = True )"
   ]
  },
  {
   "cell_type": "code",
   "execution_count": 31,
   "metadata": {},
   "outputs": [
    {
     "data": {
      "image/png": "[encoded data removed]",
      "text/plain": [
       "<Figure size 1080x360 with 1 Axes>"
      ]
     },
     "metadata": {
      "needs_background": "light"
     },
     "output_type": "display_data"
    }
   ],
   "source": [
    "sortedBarHeightsDF = swarm.plot_eval_distribution ( particleHistory,  globalBest['particleID'] );\n"
   ]
  },
  {
   "cell_type": "code",
   "execution_count": 32,
   "metadata": {},
   "outputs": [
    {
     "data": {
      "application/vnd.jupyter.widget-view+json": {
       "model_id": "e02444b19a5f43d697d1f55cc0f8f4d1",
       "version_major": 2,
       "version_minor": 0
      },
      "text/plain": [
       "VBox(children=(Figure(animation=200.0, camera=PerspectiveCamera(fov=46.0, position=(0.0, 0.0, 2.0), quaternion…"
      ]
     },
     "metadata": {},
     "output_type": "display_data"
    }
   ],
   "source": [
    "swarm.viz_particle_movement( nParticles, particleHistory, initialParticleParams )"
   ]
  },
  {
   "cell_type": "markdown",
   "metadata": {},
   "source": [
    "## Launch **Asynchronous** Particle Swarm\n",
    "> i.e., particles update their location in hyper-parameter space as soon as their previous evaluation is complete\n",
    "\n",
    "> note it is possible that particles will query a stale version of the global best, but in practice this is inconsequential given the performance gain"
   ]
  },
  {
   "cell_type": "code",
   "execution_count": 33,
   "metadata": {},
   "outputs": [
    {
     "name": "stdout",
     "output_type": "stream",
     "text": [
      "0.982538 -- new global best by particle: 5, eval: 0, params: 6, 0.7372, 0.2704, 72\n",
      "0.982700 -- new global best by particle: 6, eval: 2, params: 8, 0.6173, 1.3636, 39\n",
      "0.983262 -- new global best by particle: 11, eval: 3, params: 6, 0.8212, 1.6759, 82\n",
      "0.983413 -- new global best by particle: 10, eval: 4, params: 6, 0.3387, 0.6344, 84\n",
      "0.984625 -- new global best by particle: 10, eval: 8, params: 6, 0.3561, 0.6901, 98\n",
      "0.985825 -- new global best by particle: 5, eval: 19, params: 5, 0.5275, 0.4543, 77\n",
      "0.985875 -- new global best by particle: 5, eval: 120, params: 5, 0.5275, 0.4543, 145\n",
      "\n",
      "\n",
      " best accuracy: 0.985875, by particle: 5 on eval: 120 \n",
      " best parameters: 5, 0.5275, 0.4543, 145, \n",
      " elpased time: 29.38 seconds\n"
     ]
    }
   ],
   "source": [
    "mode = {'allowAsyncUpdates': True, 'randomSearch': False }\n",
    "particleHistoryAsync, initialParticleParams, globalBestAsync, _ = run_hpo ( client, mode, nParticles, nEpochs, paramRanges, \n",
    "                                                                            trainData_cDF, trainLabels_cDF, testData_cDF, testLabels_cDF, \n",
    "                                                                            wMomentum = .05, wIndividual = .25, wBest = .45, wExplore = 0,\n",
    "                                                                            plotFlag = False, \n",
    "                                                                            retainPredictionsFlag = True )"
   ]
  },
  {
   "cell_type": "code",
   "execution_count": 34,
   "metadata": {},
   "outputs": [
    {
     "data": {
      "image/png": "[encoded data removed]",
      "text/plain": [
       "<Figure size 1080x360 with 1 Axes>"
      ]
     },
     "metadata": {
      "needs_background": "light"
     },
     "output_type": "display_data"
    }
   ],
   "source": [
    "sortedBarHeightsDF = swarm.plot_eval_distribution ( particleHistoryAsync,  globalBestAsync['particleID'] );"
   ]
  },
  {
   "cell_type": "code",
   "execution_count": 35,
   "metadata": {},
   "outputs": [
    {
     "data": {
      "application/vnd.jupyter.widget-view+json": {
       "model_id": "a1797459ea764152babe84dec9ce6653",
       "version_major": 2,
       "version_minor": 0
      },
      "text/plain": [
       "VBox(children=(Figure(animation=200.0, camera=PerspectiveCamera(fov=46.0, position=(0.0, 0.0, 2.0), quaternion…"
      ]
     },
     "metadata": {},
     "output_type": "display_data"
    }
   ],
   "source": [
    "swarm.viz_particle_movement( nParticles, particleHistoryAsync, initialParticleParams )"
   ]
  },
  {
   "cell_type": "markdown",
   "metadata": {},
   "source": [
    "## Launch Baseline -- **Asynchronous Random Search**"
   ]
  },
  {
   "cell_type": "code",
   "execution_count": 36,
   "metadata": {},
   "outputs": [
    {
     "name": "stdout",
     "output_type": "stream",
     "text": [
      "0.982538 -- new global best by particle: 5, eval: 0, params: 6, 0.7372, 0.2704, 72\n",
      "0.984713 -- new global best by particle: 15, eval: 1, params: 4, 0.2784, 1.6847, 296\n",
      "0.984750 -- new global best by particle: 15, eval: 14, params: 10, 0.0574, 1.7620, 219\n",
      "0.984875 -- new global best by particle: 5, eval: 21, params: 6, 0.1545, 1.2925, 208\n",
      "0.985250 -- new global best by particle: 0, eval: 23, params: 6, 0.2416, 0.0329, 78\n",
      "\n",
      "\n",
      " best accuracy: 0.98525, by particle: 0 on eval: 23 \n",
      " best parameters: 6, 0.2416, 0.0329, 78, \n",
      " elpased time: 131.24 seconds\n"
     ]
    }
   ],
   "source": [
    "mode = {'allowAsyncUpdates': True, 'randomSearch': True }\n",
    "particleHistoryBaseline, initialParticleParams, globalBestBaseline, _ = run_hpo ( client, mode, nParticles, nEpochs, paramRanges, \n",
    "                                                                                  trainData_cDF, trainLabels_cDF, testData_cDF, testLabels_cDF, \n",
    "                                                                                  wMomentum = .05, wIndividual = .25, wBest = .45, wExplore = 0, \n",
    "                                                                                  plotFlag = False, \n",
    "                                                                                  retainPredictionsFlag = True )"
   ]
  },
  {
   "cell_type": "code",
   "execution_count": 37,
   "metadata": {},
   "outputs": [
    {
     "data": {
      "image/png": "[encoded data removed]",
      "text/plain": [
       "<Figure size 1080x360 with 1 Axes>"
      ]
     },
     "metadata": {
      "needs_background": "light"
     },
     "output_type": "display_data"
    }
   ],
   "source": [
    "sortedBarHeightsDF = swarm.plot_eval_distribution ( particleHistoryBaseline,  globalBestBaseline['particleID'] );"
   ]
  },
  {
   "cell_type": "code",
   "execution_count": 38,
   "metadata": {},
   "outputs": [
    {
     "data": {
      "application/vnd.jupyter.widget-view+json": {
       "model_id": "e67ce737bc984f59a88319a49150272f",
       "version_major": 2,
       "version_minor": 0
      },
      "text/plain": [
       "VBox(children=(Figure(animation=200.0, camera=PerspectiveCamera(fov=46.0, position=(0.0, 0.0, 2.0), quaternion…"
      ]
     },
     "metadata": {},
     "output_type": "display_data"
    }
   ],
   "source": [
    "swarm.viz_particle_movement( nParticles, particleHistoryBaseline, initialParticleParams )"
   ]
  }
 ],
 "metadata": {
  "kernelspec": {
   "display_name": "Python 3",
   "language": "python",
   "name": "python3"
  },
  "language_info": {
   "codemirror_mode": {
    "name": "ipython",
    "version": 3
   },
   "file_extension": ".py",
   "mimetype": "text/x-python",
   "name": "python",
   "nbconvert_exporter": "python",
   "pygments_lexer": "ipython3",
   "version": "3.6.7"
  }
 },
 "nbformat": 4,
 "nbformat_minor": 4
}
