{
 "cells": [
  {
   "cell_type": "code",
   "execution_count": 1,
   "metadata": {},
   "outputs": [
    {
     "name": "stdout",
     "output_type": "stream",
     "text": [
      "usage: main.py [-h] [--coil_type COIL_TYPE] [--num_blobs NUM_BLOBS]\n",
      "               [--num_coordinates NUM_COORDINATES] [--sdev_scale SDEV_SCALE]\n",
      "               [--noise_scale NOISE_SCALE] [--coil_density COIL_DENSITY]\n",
      "               [--train_test_overlap TRAIN_TEST_OVERLAP]\n",
      "               [--num_timesteps NUM_TIMESTEPS] [--num_particles NUM_PARTICLES]\n",
      "               [--k8s] [--adapt] [--spec SPEC] [--num_gpus NUM_GPUS]\n",
      "               [--min_gpus MIN_GPUS]\n",
      "\n",
      "Perform hyper-parameter optimization using Dask\n",
      "\n",
      "optional arguments:\n",
      "  -h, --help            show this help message and exit\n",
      "  --coil_type COIL_TYPE\n",
      "                        the type of coil to generate the data (default: helix)\n",
      "  --num_blobs NUM_BLOBS\n",
      "                        the number of blobs generated on the GPU (default:\n",
      "                        1000)\n",
      "  --num_coordinates NUM_COORDINATES\n",
      "                        the number of starting locations of each blob\n",
      "                        (default: 400)\n",
      "  --sdev_scale SDEV_SCALE\n",
      "                        standard deviation of normals used to generate data\n",
      "                        (default: 0.3)\n",
      "  --noise_scale NOISE_SCALE\n",
      "                        additional noise (default: 0.1)\n",
      "  --coil_density COIL_DENSITY\n",
      "                        how tight the coils are (default: 12.0)\n",
      "  --train_test_overlap TRAIN_TEST_OVERLAP\n",
      "                        percentage of train and test distribution that\n",
      "                        overlaps (default: 0.05)\n",
      "  --num_timesteps NUM_TIMESTEPS\n",
      "                        the number of timesteps to run HPO (default: 10)\n",
      "  --num_particles NUM_PARTICLES\n",
      "                        the number of particles in the swarm (default: 32)\n",
      "  --k8s                 use a KubeCluster instead of LocalCudaCluster\n",
      "                        (default: False)\n",
      "  --adapt               use adaptive scaling of k8s workers [min_gpus,\n",
      "                        num_gpus] (default: False)\n",
      "  --spec SPEC           the k8s worker_spec yaml file to use (default: None)\n",
      "  --num_gpus NUM_GPUS   the number of workers deployed or maximum workers when\n",
      "                        using K8S adaptive; each worker gets 1 GPU (default:\n",
      "                        1)\n",
      "  --min_gpus MIN_GPUS   the minimum number of workers when using adaptive\n",
      "                        scaling (default: 32)\n"
     ]
    }
   ],
   "source": [
    "!python main.py --help"
   ]
  },
  {
   "cell_type": "code",
   "execution_count": null,
   "metadata": {},
   "outputs": [],
   "source": [
    "!python main.py --num_gpus 4 --num_timesteps 10 --coil_type 'helix'"
   ]
  },
  {
   "cell_type": "code",
   "execution_count": null,
   "metadata": {},
   "outputs": [],
   "source": [
    "!python main.py --k8s --num_gpus 2 \\\n",
    "                --num_timesteps 10 --coil_type 'helix'"
   ]
  },
  {
   "cell_type": "code",
   "execution_count": null,
   "metadata": {},
   "outputs": [],
   "source": [
    "!python main.py --k8s --adapt --num_gpus 4 --min_gpus 1 \\\n",
    "                --num_timesteps 10 --coil_type 'helix'"
   ]
  },
  {
   "cell_type": "code",
   "execution_count": 8,
   "metadata": {},
   "outputs": [],
   "source": [
    "def test_scaling(num_gpu_list=[4, 2, 1], num_blobs=1000, num_timesteps=10, coil_type='helix', k8s=False):\n",
    "    outputs = []\n",
    "    for num_gpus in num_gpu_list:\n",
    "        if k8s:\n",
    "            output = !python main.py --k8s --num_gpus $num_gpus --num_timesteps $num_time_steps --coil_type $coil_type --num_blobs $num_blobs\n",
    "        else:\n",
    "            output = !python main.py --num_gpus $num_gpus --num_timesteps $num_time_steps --coil_type $coil_type --num_blobs $num_blobs  \n",
    "        outputs.append(output)\n",
    "        print(output)\n",
    "    return outputs"
   ]
  },
  {
   "cell_type": "code",
   "execution_count": 9,
   "metadata": {},
   "outputs": [
    {
     "name": "stdout",
     "output_type": "stream",
     "text": [
      "['Launching Local Dask cluster with 4 GPUs', \"<Client: scheduler='tcp://192.168.99.2:43253' processes=4 cores=4>\", \"LocalCUDACluster('tcp://192.168.99.2:43253', workers=4, nthreads=4)\", 'generating blobs; # points = 40000', 'generating blobs; # points = 40000', 'time to generate data on GPU = 3.757863998413086', 'splitting data into training and test set', 'rescaling data', 'rescaling data', '@ hpo timestep : 0, best accuracy is 0.94425', '\\t updating best GLOBAL accuracy', '@ hpo timestep : 1, best accuracy is 0.94075', '@ hpo timestep : 2, best accuracy is 0.93875', '@ hpo timestep : 3, best accuracy is 0.940125', '@ hpo timestep : 4, best accuracy is 0.9405', '@ hpo timestep : 5, best accuracy is 0.931375', '@ hpo timestep : 6, best accuracy is 0.93925', '@ hpo timestep : 7, best accuracy is 0.94425', '@ hpo timestep : 8, best accuracy is 0.94925', '\\t updating best GLOBAL accuracy', '@ hpo timestep : 9, best accuracy is 0.939625', 'highest accuracy               :  0.94925 ', '   @ timestep 8, particle 22 ', '', 'best model tree depth          :  9.0 ', 'best model learning rate       :  0.9640157290051284 ', 'best model regularization      :  1.0 ', 'best model num boosting rounds :  6 ', 'elapsed time : 21.20912218093872']\n",
      "['Launching Local Dask cluster with 2 GPUs', \"<Client: scheduler='tcp://192.168.99.2:36925' processes=2 cores=2>\", \"LocalCUDACluster('tcp://192.168.99.2:36925', workers=2, nthreads=2)\", 'generating blobs; # points = 40000', 'generating blobs; # points = 40000', 'time to generate data on GPU = 1.1114606857299805', 'splitting data into training and test set', 'rescaling data', 'rescaling data', '@ hpo timestep : 0, best accuracy is 0.94425', '\\t updating best GLOBAL accuracy', '@ hpo timestep : 1, best accuracy is 0.94075', '@ hpo timestep : 2, best accuracy is 0.93875', '@ hpo timestep : 3, best accuracy is 0.940125', '@ hpo timestep : 4, best accuracy is 0.9405', '@ hpo timestep : 5, best accuracy is 0.931375', '@ hpo timestep : 6, best accuracy is 0.93925', '@ hpo timestep : 7, best accuracy is 0.94425', '@ hpo timestep : 8, best accuracy is 0.94925', '\\t updating best GLOBAL accuracy', '@ hpo timestep : 9, best accuracy is 0.939625', 'highest accuracy               :  0.94925 ', '   @ timestep 8, particle 22 ', '', 'best model tree depth          :  9.0 ', 'best model learning rate       :  0.9640157290051284 ', 'best model regularization      :  1.0 ', 'best model num boosting rounds :  6 ', 'elapsed time : 37.942598819732666']\n",
      "['Launching Local Dask cluster with 1 GPUs', \"<Client: scheduler='tcp://192.168.99.2:44787' processes=1 cores=1>\", \"LocalCUDACluster('tcp://192.168.99.2:44787', workers=1, nthreads=1)\", 'generating blobs; # points = 40000', 'generating blobs; # points = 40000', 'time to generate data on GPU = 1.1631064414978027', 'splitting data into training and test set', 'rescaling data', 'rescaling data', '@ hpo timestep : 0, best accuracy is 0.94425', '\\t updating best GLOBAL accuracy', '@ hpo timestep : 1, best accuracy is 0.94075', '@ hpo timestep : 2, best accuracy is 0.93875', '@ hpo timestep : 3, best accuracy is 0.940125', '@ hpo timestep : 4, best accuracy is 0.9405', '@ hpo timestep : 5, best accuracy is 0.931375', '@ hpo timestep : 6, best accuracy is 0.93925', '@ hpo timestep : 7, best accuracy is 0.94425', '@ hpo timestep : 8, best accuracy is 0.94925', '\\t updating best GLOBAL accuracy', '@ hpo timestep : 9, best accuracy is 0.939625', 'highest accuracy               :  0.94925 ', '   @ timestep 8, particle 22 ', '', 'best model tree depth          :  9.0 ', 'best model learning rate       :  0.9640157290051284 ', 'best model regularization      :  1.0 ', 'best model num boosting rounds :  6 ', 'elapsed time : 70.5638473033905']\n"
     ]
    }
   ],
   "source": [
    "num_gpu_list = [4, 2, 1]\n",
    "num_blobs = 100\n",
    "num_time_steps = 10\n",
    "coil_type = 'helix'\n",
    "outputs = test_scaling(num_gpu_list, num_blobs, num_time_steps, coil_type)"
   ]
  },
  {
   "cell_type": "code",
   "execution_count": 10,
   "metadata": {},
   "outputs": [
    {
     "data": {
      "text/plain": [
       "[['Launching Local Dask cluster with 4 GPUs',\n",
       "  \"<Client: scheduler='tcp://192.168.99.2:43253' processes=4 cores=4>\",\n",
       "  \"LocalCUDACluster('tcp://192.168.99.2:43253', workers=4, nthreads=4)\",\n",
       "  'generating blobs; # points = 40000',\n",
       "  'generating blobs; # points = 40000',\n",
       "  'time to generate data on GPU = 3.757863998413086',\n",
       "  'splitting data into training and test set',\n",
       "  'rescaling data',\n",
       "  'rescaling data',\n",
       "  '@ hpo timestep : 0, best accuracy is 0.94425',\n",
       "  '\\t updating best GLOBAL accuracy',\n",
       "  '@ hpo timestep : 1, best accuracy is 0.94075',\n",
       "  '@ hpo timestep : 2, best accuracy is 0.93875',\n",
       "  '@ hpo timestep : 3, best accuracy is 0.940125',\n",
       "  '@ hpo timestep : 4, best accuracy is 0.9405',\n",
       "  '@ hpo timestep : 5, best accuracy is 0.931375',\n",
       "  '@ hpo timestep : 6, best accuracy is 0.93925',\n",
       "  '@ hpo timestep : 7, best accuracy is 0.94425',\n",
       "  '@ hpo timestep : 8, best accuracy is 0.94925',\n",
       "  '\\t updating best GLOBAL accuracy',\n",
       "  '@ hpo timestep : 9, best accuracy is 0.939625',\n",
       "  'highest accuracy               :  0.94925 ',\n",
       "  '   @ timestep 8, particle 22 ',\n",
       "  '',\n",
       "  'best model tree depth          :  9.0 ',\n",
       "  'best model learning rate       :  0.9640157290051284 ',\n",
       "  'best model regularization      :  1.0 ',\n",
       "  'best model num boosting rounds :  6 ',\n",
       "  'elapsed time : 21.20912218093872'],\n",
       " ['Launching Local Dask cluster with 2 GPUs',\n",
       "  \"<Client: scheduler='tcp://192.168.99.2:36925' processes=2 cores=2>\",\n",
       "  \"LocalCUDACluster('tcp://192.168.99.2:36925', workers=2, nthreads=2)\",\n",
       "  'generating blobs; # points = 40000',\n",
       "  'generating blobs; # points = 40000',\n",
       "  'time to generate data on GPU = 1.1114606857299805',\n",
       "  'splitting data into training and test set',\n",
       "  'rescaling data',\n",
       "  'rescaling data',\n",
       "  '@ hpo timestep : 0, best accuracy is 0.94425',\n",
       "  '\\t updating best GLOBAL accuracy',\n",
       "  '@ hpo timestep : 1, best accuracy is 0.94075',\n",
       "  '@ hpo timestep : 2, best accuracy is 0.93875',\n",
       "  '@ hpo timestep : 3, best accuracy is 0.940125',\n",
       "  '@ hpo timestep : 4, best accuracy is 0.9405',\n",
       "  '@ hpo timestep : 5, best accuracy is 0.931375',\n",
       "  '@ hpo timestep : 6, best accuracy is 0.93925',\n",
       "  '@ hpo timestep : 7, best accuracy is 0.94425',\n",
       "  '@ hpo timestep : 8, best accuracy is 0.94925',\n",
       "  '\\t updating best GLOBAL accuracy',\n",
       "  '@ hpo timestep : 9, best accuracy is 0.939625',\n",
       "  'highest accuracy               :  0.94925 ',\n",
       "  '   @ timestep 8, particle 22 ',\n",
       "  '',\n",
       "  'best model tree depth          :  9.0 ',\n",
       "  'best model learning rate       :  0.9640157290051284 ',\n",
       "  'best model regularization      :  1.0 ',\n",
       "  'best model num boosting rounds :  6 ',\n",
       "  'elapsed time : 37.942598819732666'],\n",
       " ['Launching Local Dask cluster with 1 GPUs',\n",
       "  \"<Client: scheduler='tcp://192.168.99.2:44787' processes=1 cores=1>\",\n",
       "  \"LocalCUDACluster('tcp://192.168.99.2:44787', workers=1, nthreads=1)\",\n",
       "  'generating blobs; # points = 40000',\n",
       "  'generating blobs; # points = 40000',\n",
       "  'time to generate data on GPU = 1.1631064414978027',\n",
       "  'splitting data into training and test set',\n",
       "  'rescaling data',\n",
       "  'rescaling data',\n",
       "  '@ hpo timestep : 0, best accuracy is 0.94425',\n",
       "  '\\t updating best GLOBAL accuracy',\n",
       "  '@ hpo timestep : 1, best accuracy is 0.94075',\n",
       "  '@ hpo timestep : 2, best accuracy is 0.93875',\n",
       "  '@ hpo timestep : 3, best accuracy is 0.940125',\n",
       "  '@ hpo timestep : 4, best accuracy is 0.9405',\n",
       "  '@ hpo timestep : 5, best accuracy is 0.931375',\n",
       "  '@ hpo timestep : 6, best accuracy is 0.93925',\n",
       "  '@ hpo timestep : 7, best accuracy is 0.94425',\n",
       "  '@ hpo timestep : 8, best accuracy is 0.94925',\n",
       "  '\\t updating best GLOBAL accuracy',\n",
       "  '@ hpo timestep : 9, best accuracy is 0.939625',\n",
       "  'highest accuracy               :  0.94925 ',\n",
       "  '   @ timestep 8, particle 22 ',\n",
       "  '',\n",
       "  'best model tree depth          :  9.0 ',\n",
       "  'best model learning rate       :  0.9640157290051284 ',\n",
       "  'best model regularization      :  1.0 ',\n",
       "  'best model num boosting rounds :  6 ',\n",
       "  'elapsed time : 70.5638473033905']]"
      ]
     },
     "execution_count": 10,
     "metadata": {},
     "output_type": "execute_result"
    }
   ],
   "source": [
    "outputs"
   ]
  },
  {
   "cell_type": "code",
   "execution_count": null,
   "metadata": {},
   "outputs": [],
   "source": []
  }
 ],
 "metadata": {
  "kernelspec": {
   "display_name": "Python 3",
   "language": "python",
   "name": "python3"
  },
  "language_info": {
   "codemirror_mode": {
    "name": "ipython",
    "version": 3
   },
   "file_extension": ".py",
   "mimetype": "text/x-python",
   "name": "python",
   "nbconvert_exporter": "python",
   "pygments_lexer": "ipython3",
   "version": "3.6.7"
  }
 },
 "nbformat": 4,
 "nbformat_minor": 4
}
