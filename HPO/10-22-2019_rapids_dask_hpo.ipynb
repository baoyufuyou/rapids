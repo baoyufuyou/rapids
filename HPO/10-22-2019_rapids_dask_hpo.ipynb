{
 "cells": [
  {
   "cell_type": "markdown",
   "metadata": {},
   "source": [
    "![rapids motivation](images/rapids_motivation.png)"
   ]
  },
  {
   "cell_type": "markdown",
   "metadata": {},
   "source": [
    "\n",
    "# <center>Scaling Hyper-Parameter Optimization with RAPIDS + Dask + [ Kubernetes ]</center>\n",
    "-----"
   ]
  },
  {
   "cell_type": "markdown",
   "metadata": {},
   "source": [
    "<center> In this notebook you can try different hyper-parameter search methods using synthetic or real data. </center>\n",
    " \n",
    "&nbsp;\n",
    "\n",
    "| method name | &nbsp;&nbsp;&nbsp; performance | &nbsp;&nbsp;&nbsp; search duration  |\n",
    "|-----------------------|-----------------|------------------|\n",
    "| random-search         | &nbsp;&nbsp;&nbsp; worst | &nbsp;&nbsp;&nbsp; slow    |\n",
    "| particle-search [1]      | &nbsp;&nbsp;&nbsp; good  | &nbsp;&nbsp;&nbsp; fast    |\n",
    "| async-particle-search | &nbsp;&nbsp;&nbsp; best  | &nbsp;&nbsp;&nbsp; fastest |\n",
    "\n",
    "<center>[1] https://en.wikipedia.org/wiki/Particle_swarm_optimization#Algorithm</center>\n"
   ]
  },
  {
   "cell_type": "markdown",
   "metadata": {},
   "source": [
    "# Table of Contents"
   ]
  },
  {
   "cell_type": "markdown",
   "metadata": {},
   "source": [
    "1. [ Generate a classification dataset on GPU ](#data-load) (e.g., double helix, unwinding helix/whirl )\n",
    "\n",
    "2. [ ETL - process/prepare data for model training ](#ETL) (e.g., scale, split, augment )   \n",
    "    \n",
    "3. [ Define HPO Strategy ](#define-hpo)\n",
    "\n",
    "4. [ Create Compute Cluster ](#compute-cluster)\n",
    "   > LocalCUDACluster or KubeCluster\n",
    "      \n",
    "5. [ Define Seach ](#define-search)\n",
    "\n",
    "6. [ Run Classic Particle Swarm ](#run-classic-PSO)\n",
    "\n",
    "7. [ Run ASYNC Particle Swarm ](#run-async-PSO)\n",
    "\n",
    "8. [ Run Random Search Baseline ](#run-random-search)\n",
    "\n",
    "9. [ Summary ](#summary)"
   ]
  },
  {
   "cell_type": "code",
   "execution_count": 1,
   "metadata": {},
   "outputs": [],
   "source": [
    "import warnings\n",
    "warnings.filterwarnings('ignore')"
   ]
  },
  {
   "cell_type": "code",
   "execution_count": 2,
   "metadata": {},
   "outputs": [],
   "source": [
    "import ipyvolume as ipv\n",
    "import matplotlib.pyplot as plt\n",
    "\n",
    "import numpy as np; import pandas as pd; import cudf\n",
    "import cuml; import xgboost\n",
    "\n",
    "import time; import copy \n",
    "\n",
    "import data_utils               # load datasets (or generate data) on the gpu\n",
    "import swarm                    # particle swarm implementation\n",
    "import visualization as viz     # visualization"
   ]
  },
  {
   "cell_type": "code",
   "execution_count": 3,
   "metadata": {},
   "outputs": [],
   "source": [
    "# reload library modules/code without a kernel restart\n",
    "import importlib; importlib.reload( swarm ); importlib.reload( data_utils ); importlib.reload( viz);"
   ]
  },
  {
   "cell_type": "markdown",
   "metadata": {},
   "source": [
    "<a id = 'data-load'></a>\n",
    "----\n",
    "# 1. Load/Generate Data \n",
    "----"
   ]
  },
  {
   "cell_type": "markdown",
   "metadata": {},
   "source": [
    "This notebook works with a dataset (data + binary labels) that can either be generated or loaded.\n",
    "\n",
    "Note that you are also welcome to bring your own dataset. The available datasets we provide include:\n",
    "\n",
    "| Name                                                      | Default Samples | Max Samples | Columns | Task  |\n",
    "|-----------------------------------------------------------|-----------------|-------------|---------|-------|\n",
    "| **synthetic** helix                                       | 800K            | Inf         | 3       | Binary Classification |\n",
    "| [airline](http://kt.ijs.si/elena_ikonomovska/data.html)   | 25M             | 115M        | 13      | Binary Classification |\n",
    "| [higgs](https://archive.ics.uci.edu/ml/datasets/HIGGS)    | 5M              | 11M         | 28      | Binary Classification |\n",
    "\n",
    "\n",
    "In addition to specifying a dataset, you can also choose the number of samples that will be loaded/generated -- this is helpful to make for a compelling demo in a short amount of time as well as to stay within memory limits.\n",
    "\n"
   ]
  },
  {
   "cell_type": "code",
   "execution_count": 4,
   "metadata": {},
   "outputs": [],
   "source": [
    "datasetName = 'synthetic'\n",
    "nSamples = 1000000"
   ]
  },
  {
   "cell_type": "code",
   "execution_count": 5,
   "metadata": {},
   "outputs": [
    {
     "name": "stdout",
     "output_type": "stream",
     "text": [
      "generating blobs; # points = 500000\n",
      "generating blobs; # points = 500000\n",
      "dataset shape: (1000000, 3)\n",
      " > loaded in 1.6125342845916748 s\n"
     ]
    }
   ],
   "source": [
    "if datasetName == 'synthetic':\n",
    "        \n",
    "    data, labels, elapsedTime  = data_utils.generate_dataset( coilType = 'helix', nSamples = nSamples)\n",
    "\n",
    "elif datasetName == 'higgs':\n",
    "    \n",
    "    nSamplesToLoad = np.min( ( nSamples, 11000000 ))\n",
    "    data, labels, elapsedTime = data_utils.load_higgs_dataset ( 'data/', nSamplesToLoad)\n",
    "    \n",
    "elif datasetName == 'airline':\n",
    "    \n",
    "    nSamplesToLoad = np.min( ( nSamples, 115000000 ))    \n",
    "    data, labels, elapsedTime = data_utils.load_airline_dataset ( 'data/', nSamplesToLoad)\n",
    "\n",
    "print(f'dataset shape: {data.shape}\\n > loaded in {elapsedTime} s')"
   ]
  },
  {
   "cell_type": "markdown",
   "metadata": {},
   "source": [
    "## 1.1) Plot Dataset\n",
    "\n",
    "In the case of the synthetic dataset, the feature dimensionality is 3, so we do no need to do any reduction prior to 3D plotting.\n",
    "\n",
    "For real datasets with many features, we first apply a dimensionality reduction method prior to plotting.\n",
    "\n",
    "In the cells below we demonstrate several approaches to dimensionality reduction available in RAPIDS [ cuml ] :\n",
    "\n",
    "* PCA (linear, unsupervised), \n",
    "* TSNE (non-linear, unsupervised), and \n",
    "* UMAP (non-linear, supervised)"
   ]
  },
  {
   "cell_type": "code",
   "execution_count": 6,
   "metadata": {},
   "outputs": [
    {
     "name": "stdout",
     "output_type": "stream",
     "text": [
      "plotting SYNTHETIC dataset, original shape: (1000000, 3)\n",
      " > plotting subset of 100000 samples -- 10.0% of total, adjust via maxSamplesToPlot \n"
     ]
    },
    {
     "data": {
      "application/vnd.jupyter.widget-view+json": {
       "model_id": "1db47c77002e493db9a8e0313389c815",
       "version_major": 2,
       "version_minor": 0
      },
      "text/plain": [
       "VBox(children=(Figure(camera=PerspectiveCamera(fov=46.0, position=(0.0, 0.0, 2.0), quaternion=(0.0, 0.0, 0.0, …"
      ]
     },
     "metadata": {},
     "output_type": "display_data"
    }
   ],
   "source": [
    "if datasetName == 'synthetic':\n",
    "    viz.plot_data( data, labels, datasetName )\n",
    "else:\n",
    "    viz.plot_data( data, labels, datasetName, dimReductionMethod = 'PCA')"
   ]
  },
  {
   "cell_type": "code",
   "execution_count": 7,
   "metadata": {},
   "outputs": [],
   "source": [
    "if datasetName != 'synthetic':\n",
    "    viz.plot_data( data, labels, datasetName, dimReductionMethod = 'UMAP', maxSamplesForDimReduction = 100000 )"
   ]
  },
  {
   "cell_type": "code",
   "execution_count": 8,
   "metadata": {},
   "outputs": [],
   "source": [
    "if datasetName != 'synthetic':\n",
    "    viz.plot_data( data, labels, datasetName, dimReductionMethod = 'TSNE', maxSamplesForDimReduction = 25000 )"
   ]
  },
  {
   "cell_type": "markdown",
   "metadata": {},
   "source": [
    "<a id = 'ETL'></a>\n",
    "\n",
    "# 2. ETL\n",
    "-----"
   ]
  },
  {
   "cell_type": "markdown",
   "metadata": {},
   "source": [
    "## 2.1) Split Data into Train & Test Sets"
   ]
  },
  {
   "cell_type": "code",
   "execution_count": 9,
   "metadata": {},
   "outputs": [
    {
     "name": "stdout",
     "output_type": "stream",
     "text": [
      "splitting data into training and test set\n"
     ]
    }
   ],
   "source": [
    "if datasetName == 'synthetic':\n",
    "    trainTestOverlap = .022\n",
    "    trainData, trainLabels, testData, testLabels, _ = data_utils.split_train_test_nfolds ( data, labels, trainTestOverlap = trainTestOverlap )\n",
    "else:\n",
    "    trainData, testData, trainLabels, testLabels = cuml.train_test_split( data, labels, shuffle = True )"
   ]
  },
  {
   "cell_type": "markdown",
   "metadata": {},
   "source": [
    "## 2.2) Re-scale / Normalize"
   ]
  },
  {
   "cell_type": "code",
   "execution_count": 10,
   "metadata": {},
   "outputs": [],
   "source": [
    "def scale_dataframe_inplace ( targetDF, trainMeans = {}, trainSTDevs = {} ):    \n",
    "    print('rescaling data')\n",
    "    sT = time.time()\n",
    "    for iCol in targetDF.columns:\n",
    "        \n",
    "        # omit scaling label column\n",
    "        if iCol == targetDF.columns[-1] == 'label': continue\n",
    "            \n",
    "        # compute means and standard deviations for each column [ should skip for test data ]\n",
    "        if iCol not in trainMeans.keys() and iCol not in trainSTDevs.keys():            \n",
    "            trainMeans[iCol] = targetDF[iCol].mean()\n",
    "            trainSTDevs[iCol] = targetDF[iCol].std()\n",
    "            \n",
    "        # apply scaling to each column\n",
    "        targetDF[iCol] = ( targetDF[iCol] - trainMeans[iCol] ) / ( trainSTDevs[iCol] + 1e-10 )\n",
    "        \n",
    "    return trainMeans, trainSTDevs, time.time() - sT"
   ]
  },
  {
   "cell_type": "code",
   "execution_count": 11,
   "metadata": {},
   "outputs": [
    {
     "name": "stdout",
     "output_type": "stream",
     "text": [
      "rescaling data\n",
      "rescaling data\n"
     ]
    }
   ],
   "source": [
    "# apply standard scaling\n",
    "trainMeans, trainSTDevs, t_scaleTrain = scale_dataframe_inplace ( trainData )\n",
    "_,_, t_scaleTest = scale_dataframe_inplace ( testData, trainMeans, trainSTDevs ) "
   ]
  },
  {
   "cell_type": "markdown",
   "metadata": {},
   "source": [
    "## 2.3) Train vs Test Data Comparison"
   ]
  },
  {
   "cell_type": "code",
   "execution_count": 12,
   "metadata": {},
   "outputs": [],
   "source": [
    "# TODO: train vs test data viz\n",
    "# TODO: data_utils.plot_iid_breaking( trainData.to_pandas(), testData.to_pandas() )"
   ]
  },
  {
   "cell_type": "markdown",
   "metadata": {},
   "source": [
    "<a id = 'define-hpo'></a>\n",
    "\n",
    "# 3. Define HPO Strategy\n",
    "-----"
   ]
  },
  {
   "cell_type": "markdown",
   "metadata": {},
   "source": [
    "### Particle Swarm : \n",
    "> Particles are randomly initialized, and change their position in hyper-parameter space using three terms \n",
    "1. momentum\n",
    "2. personal best \n",
    "3. global best\n",
    "<center>    \n",
    "$ velo_{t+1} = velo_t * w_{momentum} + (pos_{personal-best} - pos_{current}) * w_{personal} + (pos_{global-best} - pos_{current}) * w_{global} $\n",
    "   $ pos_{t+1} = pos_{t} + velo_{t+1} $\n",
    "</center>"
   ]
  },
  {
   "cell_type": "markdown",
   "metadata": {},
   "source": [
    "### Particle Evaluation Logic \n",
    "> (i.e., Train & Eval using Changing Parameter Sets )"
   ]
  },
  {
   "cell_type": "code",
   "execution_count": 13,
   "metadata": {},
   "outputs": [],
   "source": [
    "def evaluate_particle ( particle, dataFutures, earlyStoppingRounds, retainPredictionsFlag ):    \n",
    "\n",
    "    # fixed parameters\n",
    "    paramsGPU = { 'objective': 'binary:hinge',\n",
    "                  'tree_method': 'gpu_hist',\n",
    "                  'n_gpus': 1,\n",
    "                  'random_state': 0 }\n",
    "\n",
    "    # TODO: loop over paramRanges instead of hard code\n",
    "    paramsGPU['max_depth'] = int( particle['params'][0] )\n",
    "    paramsGPU['learning_rate'] = particle['params'][1]\n",
    "    paramsGPU['gamma'] = particle['params'][2]\n",
    "    paramsGPU['num_boost_rounds'] = 1000\n",
    "\n",
    "    startTime = time.time()\n",
    "\n",
    "    trainDMatrix = xgboost.DMatrix( data = dataFutures['trainData'], label = dataFutures['trainLabels'] )\n",
    "    testDMatrix = xgboost.DMatrix( data = dataFutures['testData'], label = dataFutures['testLabels'] )\n",
    "\n",
    "    trainedModelGPU = xgboost.train( dtrain = trainDMatrix, evals = [(testDMatrix, 'test')], \n",
    "                                     params = paramsGPU,\n",
    "                                     num_boost_round = paramsGPU['num_boost_rounds'],\n",
    "                                     early_stopping_rounds = earlyStoppingRounds,\n",
    "                                     verbose_eval = False )\n",
    "        \n",
    "    predictionsGPU = trainedModelGPU.predict( testDMatrix ).astype(int)\n",
    "            \n",
    "    elapsedTime = time.time() - startTime\n",
    "\n",
    "    particle['nTrees'] = trainedModelGPU.best_iteration\n",
    "    particle['trainAccuracy'] = 1 - float( trainedModelGPU.eval(trainDMatrix, iteration = 50).split(':')[1] )\n",
    "    particle['testAccuracy'] = 1 - float( trainedModelGPU.eval(testDMatrix, iteration = 50).split(':')[1] )    \n",
    "    \n",
    "    if not retainPredictionsFlag: \n",
    "        predictionsGPU = None\n",
    "    \n",
    "    particle['predictions'] = predictionsGPU\n",
    "    \n",
    "    return particle, elapsedTime"
   ]
  },
  {
   "cell_type": "markdown",
   "metadata": {},
   "source": [
    "### Particle Update Logic \n",
    "https://en.wikipedia.org/wiki/Particle_swarm_optimization"
   ]
  },
  {
   "cell_type": "code",
   "execution_count": 14,
   "metadata": {},
   "outputs": [],
   "source": [
    "def update_particle( particle, paramRanges, globalBestParams, personalBestParams, \n",
    "                     wMomentum, wIndividual, wSocial, wExplore, randomSearchMode = False, randomSeed = None ):\n",
    "    ''' \n",
    "    # TODO: debug dask caching [?] attempting to use a seed produces the same sequence of random samples\n",
    "    if randomSeed is not None:\n",
    "        np.random.seed(randomSeed)    \n",
    "    '''\n",
    "    \n",
    "    # baseline to compare swarm update versus random search\n",
    "    if randomSearchMode:        \n",
    "        sampledParams, sampledVelocities = swarm.sample_params( paramRanges )\n",
    "        return sampledParams, sampledVelocities\n",
    "        \n",
    "    # computing update terms for particle swarm\n",
    "    inertiaInfluence = particle['velocities'].copy()\n",
    "    socialInfluence = ( globalBestParams - particle['params'] )\n",
    "    individualInfluence = ( personalBestParams - particle['params'] )\n",
    "    \n",
    "    newParticleVelocities =    wMomentum    *  inertiaInfluence \\\n",
    "                             + wIndividual  *  individualInfluence  * np.random.random()   \\\n",
    "                             + wSocial      *  socialInfluence      * np.random.random()\n",
    "    \n",
    "    newParticleParams = particle['params'].copy() + newParticleVelocities\n",
    "    newParticleParams = swarm.enforce_param_bounds_inline ( newParticleParams, paramRanges )\n",
    "            \n",
    "    return newParticleParams, newParticleVelocities"
   ]
  },
  {
   "cell_type": "markdown",
   "metadata": {},
   "source": [
    "### HPO Run Loop"
   ]
  },
  {
   "cell_type": "code",
   "execution_count": 15,
   "metadata": {},
   "outputs": [],
   "source": [
    "def run_hpo ( client, mode, paramRanges, trainData_cDF, trainLabels_cDF, testData_cDF, testLabels_cDF,\n",
    "              nParticles, nEpochs,             \n",
    "              wMomentum = .05, wIndividual = .35, wBest = .25, wExplore = .15, earlyStoppingRounds = 50,\n",
    "              terminationAccuracy = np.Inf, \n",
    "              randomSeed = 0, \n",
    "              plotFlag = False,\n",
    "              retainPredictionsFlag = False ):\n",
    "    \n",
    "    startTime = time.time()\n",
    "    \n",
    "    # ----------------------------\n",
    "    # scatter data to all workers\n",
    "    # ----------------------------\n",
    "    if client is not None:\n",
    "        scatteredData_future = client.scatter( [ trainData_cDF, trainLabels_cDF, testData_cDF, testLabels_cDF], broadcast = True )\n",
    "        \n",
    "    dataFutures = { 'trainData'   : scatteredData_future[0], 'trainLabels' : scatteredData_future[1], \n",
    "                    'testData'    : scatteredData_future[2], 'testLabels'  : scatteredData_future[3] }\n",
    "    \n",
    "    # ----------------------------\n",
    "    # initialize HPO strategy \n",
    "    # ----------------------------        \n",
    "    def initialize_particle_futures ( nParticles, paramRanges, randomSeed, plotFlag ) :\n",
    "        initialParticleParams, initialParticleVelocities, globalBest, particleColors = swarm.initialize_particle_swarm ( nParticles, paramRanges, randomSeed, plotFlag )\n",
    "        # create particle futures using the initialization positions and velocities    \n",
    "        delayedEvalParticles = []\n",
    "        for iParticle in range(nParticles):\n",
    "            particle = { 'ID': iParticle, 'params': initialParticleParams[iParticle], 'velocities': initialParticleVelocities[iParticle], 'predictions': None }        \n",
    "            delayedEvalParticles.append( delayed ( evaluate_particle )( particle.copy(), dataFutures, earlyStoppingRounds, retainPredictionsFlag ))\n",
    "        return delayedEvalParticles, initialParticleParams, globalBest, particleColors\n",
    "        \n",
    "    # ------------------------------------------------\n",
    "    # shared logic for particle evaluation and updates\n",
    "    # ------------------------------------------------\n",
    "    def eval_and_update ( particleFuture, delayedEvalParticles, particleHistory, paramRanges, globalBest, randomSearchMode, nEvaluations ):\n",
    "        # convert particle future to concrete result and collect returned values\n",
    "        particle, elapsedTime = particleFuture.result()\n",
    "\n",
    "        # update hpo strategy meta-parameters -- i.e. swarm global best and particle personal best\n",
    "        particleHistory, globalBest = swarm.update_bests ( particleHistory, particle, globalBest, nEvaluations, mode['randomSearch'] )\n",
    "\n",
    "        # update history with this particle's latest contribution/eval\n",
    "        particleHistory = swarm.update_history_dictionary ( particleHistory, particle, nEvaluations )\n",
    "\n",
    "        # update particle\n",
    "        if randomSearchMode:\n",
    "            personalBestParams = None\n",
    "        else:\n",
    "            personalBestParams = particleHistory[particle['ID']]['personalBestParams']\n",
    "            \n",
    "        particle['params'], particle['velocities'] = update_particle ( particle, paramRanges,\n",
    "                                                                       globalBest['params'], personalBestParams,\n",
    "                                                                       wMomentum, wIndividual, wBest, wExplore,\n",
    "                                                                       randomSearchMode = randomSearchMode, \n",
    "                                                                       randomSeed = particle['ID'] ) # repeatability\n",
    "        return particle.copy(), particleHistory, globalBest\n",
    "    \n",
    "    nEvaluations = 0\n",
    "    particleHistory = {}\n",
    "    \n",
    "    if mode['allowAsyncUpdates'] != True:\n",
    "        # ----------------------------\n",
    "        # synchronous particle swarm\n",
    "        # ----------------------------\n",
    "        delayedEvalParticles, initialParticleParams, globalBest, particleColors = initialize_particle_futures ( nParticles, paramRanges, randomSeed, plotFlag )\n",
    "        futureEvalParticles = client.compute( delayedEvalParticles )\n",
    "        \n",
    "        for iEpoch in range (0, nEpochs ):    \n",
    "            futureEvalParticles = client.compute( delayedEvalParticles )\n",
    "            delayedEvalParticles = []\n",
    "            for particleFuture in futureEvalParticles:\n",
    "                newParticle, particleHistory, globalBest = eval_and_update ( particleFuture, delayedEvalParticles, particleHistory, paramRanges, globalBest, mode['randomSearch'], nEvaluations )\n",
    "\n",
    "                # termination conditions \n",
    "                if globalBest['accuracy'] > terminationAccuracy: break\n",
    "\n",
    "                # append future work for the next instantiation of this particle ( using the freshly updated parameters )\n",
    "                delayedEvalParticles.append( delayed ( evaluate_particle )( newParticle, dataFutures, earlyStoppingRounds, retainPredictionsFlag ))\n",
    "                \n",
    "                nEvaluations += 1\n",
    "            # --- \n",
    "            print(f' > on epoch {iEpoch} out of {nEpochs}') \n",
    "    \n",
    "    else:\n",
    "        # ----------------------------\n",
    "        # asynchronous particle swarm\n",
    "        # ----------------------------\n",
    "        delayedEvalParticles, initialParticleParams, globalBest, particleColors = initialize_particle_futures ( nParticles, paramRanges, randomSeed, plotFlag )\n",
    "        futureEvalParticles = client.compute( delayedEvalParticles )        \n",
    "        particleFutureSeq = as_completed( futureEvalParticles )\n",
    "        \n",
    "        for particleFuture in particleFutureSeq:\n",
    "            newParticle, particleHistory, globalBest = eval_and_update ( particleFuture, delayedEvalParticles, particleHistory, paramRanges, globalBest, mode['randomSearch'], nEvaluations )\n",
    "            \n",
    "            # termination conditions \n",
    "            if globalBest['accuracy'] > terminationAccuracy: break\n",
    "            approximateEpoch = nEvaluations // nParticles\n",
    "            if ( approximateEpoch ) > nEpochs : break\n",
    "            \n",
    "            # append future work for the next instantiation of this particle ( using the freshly updated parameters )\n",
    "            delayedParticle = delayed ( evaluate_particle )( newParticle, dataFutures, earlyStoppingRounds, retainPredictionsFlag )\n",
    "            # submit this particle future to the client ( returns a future )\n",
    "            futureParticle = client.compute( delayedParticle )\n",
    "            # track its completion via the as_completed iterator \n",
    "            particleFutureSeq.add( futureParticle )\n",
    "            \n",
    "            nEvaluations += 1\n",
    "            if nEvaluations % nParticles == 0:\n",
    "                print(f' > on approximate epoch {approximateEpoch} out of {nEpochs}') \n",
    "                              \n",
    "    elapsedTime = time.time() - startTime\n",
    "    \n",
    "    print(f\"\\n\\n best accuracy: {globalBest['accuracy']}, by particle: {globalBest['particleID']} on eval: {globalBest['iEvaluation']} \")\n",
    "    print(f\" best parameters: {swarm.format_params( globalBest['params'], globalBest['nTrees'] )}, \\n elpased time: {elapsedTime:.2f} seconds\")\n",
    "    \n",
    "    particleHistory['initialParams'] = initialParticleParams\n",
    "    particleHistory['paramRanges'] = paramRanges\n",
    "    particleHistory['particleColors'] = particleColors\n",
    "    particleHistory['nParticles'] = nParticles\n",
    "    return particleHistory, globalBest, elapsedTime"
   ]
  },
  {
   "cell_type": "markdown",
   "metadata": {},
   "source": [
    "### Inspect/Edit Library Code [optional]\n",
    "> swarm.import_library_function_in_new_cell ( **function-name** )"
   ]
  },
  {
   "cell_type": "code",
   "execution_count": 16,
   "metadata": {},
   "outputs": [],
   "source": [
    "import inspect"
   ]
  },
  {
   "cell_type": "code",
   "execution_count": 17,
   "metadata": {},
   "outputs": [],
   "source": [
    "sampleImportFlag = False\n",
    "if sampleImportFlag:\n",
    "    swarm.import_library_function_in_new_cell ( [ swarm.sample_params, swarm.initialize_particle_swarm] )"
   ]
  },
  {
   "cell_type": "markdown",
   "metadata": {},
   "source": [
    "<a id = 'compute-cluster'></a>\n",
    "\n",
    "# 4. Create Compute Cluster\n",
    "-----"
   ]
  },
  {
   "cell_type": "code",
   "execution_count": 18,
   "metadata": {},
   "outputs": [],
   "source": [
    "import dask\n",
    "from dask import delayed\n",
    "from dask_cuda import LocalCUDACluster\n",
    "\n",
    "from dask.distributed import Client\n",
    "from dask.distributed import as_completed\n",
    "from dask.distributed import worker"
   ]
  },
  {
   "cell_type": "code",
   "execution_count": 19,
   "metadata": {},
   "outputs": [],
   "source": [
    "cluster = LocalCUDACluster( ip = '', n_workers = 4)"
   ]
  },
  {
   "cell_type": "code",
   "execution_count": 20,
   "metadata": {},
   "outputs": [],
   "source": [
    "''' # TODO -- finalize dask_kubernetes check on RAPIDS 0.10.0 cuda 10.1\n",
    "from dask_kubernetes import KubeCluster\n",
    "cluster = KubeCluster( ip = '' )\n",
    "''';"
   ]
  },
  {
   "cell_type": "code",
   "execution_count": 21,
   "metadata": {},
   "outputs": [],
   "source": [
    "client = Client( cluster, asynchronous = True)"
   ]
  },
  {
   "cell_type": "markdown",
   "metadata": {},
   "source": [
    "<a id = 'define-search'></a>\n",
    "\n",
    "# 5. Define Search: \n",
    "-----"
   ]
  },
  {
   "cell_type": "markdown",
   "metadata": {},
   "source": [
    "Define hyper-parameter ranges"
   ]
  },
  {
   "cell_type": "code",
   "execution_count": 22,
   "metadata": {},
   "outputs": [],
   "source": [
    "paramRanges = { 0: ['max_depth', 3, 20, 'int'],\n",
    "                1: ['learning_rate', .001, 1, 'float'],\n",
    "                2: ['gamma', 0, 2, 'float'] }"
   ]
  },
  {
   "cell_type": "markdown",
   "metadata": {},
   "source": [
    "Define SWARM size (nParticles) particles and search duration (nEpochs)"
   ]
  },
  {
   "cell_type": "code",
   "execution_count": 23,
   "metadata": {},
   "outputs": [],
   "source": [
    "nParticles = 32\n",
    "nEpochs = 15"
   ]
  },
  {
   "cell_type": "markdown",
   "metadata": {},
   "source": [
    "### 5.1) Baseline / Demo : Single Particle for a Single Epoch"
   ]
  },
  {
   "cell_type": "code",
   "execution_count": 24,
   "metadata": {},
   "outputs": [
    {
     "name": "stdout",
     "output_type": "stream",
     "text": [
      "0.905190 -- new global best by particle: 0, eval: 0, params: 15, 0.8444, 1.6945, 21\n",
      " > on epoch 0 out of 1\n",
      "\n",
      "\n",
      " best accuracy: 0.9051899999999999, by particle: 0 on eval: 0 \n",
      " best parameters: 15, 0.8444, 1.6945, 21, \n",
      " elpased time: 4.25 seconds\n"
     ]
    }
   ],
   "source": [
    "mode = {'allowAsyncUpdates': False, 'randomSearch': False }\n",
    "particleHistory, globalBest, _ = run_hpo ( client, mode, paramRanges, \n",
    "                                           trainData, trainLabels, testData, testLabels, \n",
    "                                           nParticles = 1, nEpochs = 1, randomSeed = 0)"
   ]
  },
  {
   "cell_type": "markdown",
   "metadata": {},
   "source": [
    "<a id = 'run-classic-PSO'></a>\n",
    "# 6. Run **Classic-Particle-Swarm**\n",
    "-----\n",
    "\n",
    "\n",
    "\n",
    "\n",
    "Typically classic-particle-swarm reaches higher performance than random-search, but lower performance relative to async-particle-search\n",
    "* Wall Clock Time: Typically this is search process.\n",
    "\n",
    "* Performance: Typically this search method reaches the best result.\n",
    "\n",
    "\n",
    "* Description: Particles move using a random mixture of personal and global best\n",
    "\n",
    "* Parallelism: Partial-Asynchronous\n",
    "  * NOTE: Particles update in parallel with their peers within an epoch, but wait for the slowest particle at epoch boundaries. All particles are guaranteed to have the same number of evaluations ( see nEvaluations figure )."
   ]
  },
  {
   "cell_type": "code",
   "execution_count": 25,
   "metadata": {},
   "outputs": [
    {
     "name": "stdout",
     "output_type": "stream",
     "text": [
      "0.905190 -- new global best by particle: 0, eval: 0, params: 15, 0.8444, 1.6945, 21\n",
      "0.919750 -- new global best by particle: 3, eval: 3, params: 8, 0.8701, 1.5983, 29\n",
      "0.922120 -- new global best by particle: 9, eval: 9, params: 7, 0.6354, 1.1637, 64\n",
      "0.930430 -- new global best by particle: 11, eval: 11, params: 6, 0.8212, 1.6759, 49\n",
      " > on epoch 0 out of 15\n",
      " > on epoch 1 out of 15\n",
      " > on epoch 2 out of 15\n",
      " > on epoch 3 out of 15\n",
      " > on epoch 4 out of 15\n",
      " > on epoch 5 out of 15\n",
      " > on epoch 6 out of 15\n",
      " > on epoch 7 out of 15\n",
      " > on epoch 8 out of 15\n",
      " > on epoch 9 out of 15\n",
      " > on epoch 10 out of 15\n",
      " > on epoch 11 out of 15\n",
      "0.935010 -- new global best by particle: 26, eval: 410, params: 5, 0.7848, 1.6772, 77\n",
      " > on epoch 12 out of 15\n",
      " > on epoch 13 out of 15\n",
      " > on epoch 14 out of 15\n",
      "\n",
      "\n",
      " best accuracy: 0.93501, by particle: 26 on eval: 410 \n",
      " best parameters: 5, 0.7848, 1.6772, 77, \n",
      " elpased time: 129.20 seconds\n"
     ]
    }
   ],
   "source": [
    "mode = {'allowAsyncUpdates': False, 'randomSearch': False }\n",
    "particleHistory, globalBest, _ = run_hpo ( client, mode, paramRanges, \n",
    "                                           trainData, trainLabels, testData, testLabels,\n",
    "                                           nParticles, nEpochs,\n",
    "                                           wMomentum = .05, wIndividual = .25, wBest = .45, wExplore = 0,\n",
    "                                           plotFlag = False, \n",
    "                                           retainPredictionsFlag = True )"
   ]
  },
  {
   "cell_type": "code",
   "execution_count": 26,
   "metadata": {},
   "outputs": [
    {
     "data": {
      "image/png": "[encoded data removed]",
      "text/plain": [
       "<Figure size 1080x360 with 1 Axes>"
      ]
     },
     "metadata": {
      "needs_background": "light"
     },
     "output_type": "display_data"
    }
   ],
   "source": [
    "sortedBarHeightsDF = swarm.plot_eval_distribution ( particleHistory,  globalBest['particleID'] );\n"
   ]
  },
  {
   "cell_type": "code",
   "execution_count": 27,
   "metadata": {},
   "outputs": [
    {
     "data": {
      "application/vnd.jupyter.widget-view+json": {
       "model_id": "6cd13b837db84547bed6ffd33b33e945",
       "version_major": 2,
       "version_minor": 0
      },
      "text/plain": [
       "VBox(children=(Figure(animation=400.0, camera=PerspectiveCamera(fov=46.0, position=(0.0, 0.0, 2.0), quaternion…"
      ]
     },
     "metadata": {},
     "output_type": "display_data"
    }
   ],
   "source": [
    "swarm.viz_particle_movement( particleHistory )"
   ]
  },
  {
   "cell_type": "markdown",
   "metadata": {},
   "source": [
    "<a id = 'run-async-PSO'></a>\n",
    "# 7. Run **ASYNC-Particle-Swarm** \n",
    "-----"
   ]
  },
  {
   "cell_type": "markdown",
   "metadata": {},
   "source": [
    "Performance: Typically **better performance** compared to synchronous-particle-swarm and random-search.\n",
    "\n",
    "Wall Clock Time: Typically this is the **fastest** search process.\n",
    "\n",
    "* Description: Particles move using a random mixture of personal and global best [ possibly stale ]\n",
    "\n",
    "* Parallelism: Asynchronous\n",
    "  * NOTE: Particles update without waiting for their peers causing faster evaluating hyper-parameter particles to run more often ( see nEvaluations figure )."
   ]
  },
  {
   "cell_type": "code",
   "execution_count": 28,
   "metadata": {},
   "outputs": [
    {
     "name": "stdout",
     "output_type": "stream",
     "text": [
      "0.450330 -- new global best by particle: 23, eval: 0, params: 4, 0.6535, 0.8628, 3\n",
      "0.914510 -- new global best by particle: 10, eval: 3, params: 6, 0.3387, 0.6344, 98\n",
      "0.918270 -- new global best by particle: 1, eval: 11, params: 5, 0.3165, 0.9320, 94\n",
      "0.927190 -- new global best by particle: 10, eval: 14, params: 6, 0.3561, 0.6901, 50\n",
      " > on approximate epoch 0 out of 15\n",
      " > on approximate epoch 1 out of 15\n",
      "0.928400 -- new global best by particle: 10, eval: 81, params: 6, 0.3562, 0.6902, 73\n",
      "0.932330 -- new global best by particle: 23, eval: 89, params: 5, 0.4631, 0.7717, 96\n",
      " > on approximate epoch 2 out of 15\n",
      " > on approximate epoch 3 out of 15\n",
      "0.932400 -- new global best by particle: 6, eval: 140, params: 6, 0.4570, 0.7797, 145\n",
      " > on approximate epoch 4 out of 15\n",
      " > on approximate epoch 5 out of 15\n",
      " > on approximate epoch 6 out of 15\n",
      " > on approximate epoch 7 out of 15\n",
      "0.935660 -- new global best by particle: 21, eval: 280, params: 5, 0.4479, 0.7707, 91\n",
      " > on approximate epoch 8 out of 15\n",
      " > on approximate epoch 9 out of 15\n",
      " > on approximate epoch 10 out of 15\n",
      " > on approximate epoch 11 out of 15\n",
      " > on approximate epoch 12 out of 15\n",
      " > on approximate epoch 13 out of 15\n",
      " > on approximate epoch 14 out of 15\n",
      " > on approximate epoch 15 out of 15\n",
      "\n",
      "\n",
      " best accuracy: 0.93566, by particle: 21 on eval: 280 \n",
      " best parameters: 5, 0.4479, 0.7707, 91, \n",
      " elpased time: 88.05 seconds\n"
     ]
    }
   ],
   "source": [
    "mode = {'allowAsyncUpdates': True, 'randomSearch': False }\n",
    "particleHistoryAsync, globalBestAsync, _ = run_hpo ( client, mode, paramRanges,\n",
    "                                                     trainData, trainLabels, testData, testLabels, \n",
    "                                                     nParticles, nEpochs,\n",
    "                                                     wMomentum = .05, wIndividual = .25, wBest = .45,\n",
    "                                                     retainPredictionsFlag = True )"
   ]
  },
  {
   "cell_type": "code",
   "execution_count": 29,
   "metadata": {},
   "outputs": [
    {
     "data": {
      "image/png": "[encoded data removed]",
      "text/plain": [
       "<Figure size 1080x360 with 1 Axes>"
      ]
     },
     "metadata": {
      "needs_background": "light"
     },
     "output_type": "display_data"
    }
   ],
   "source": [
    "sortedBarHeightsDF = swarm.plot_eval_distribution ( particleHistoryAsync,  globalBestAsync['particleID'] );"
   ]
  },
  {
   "cell_type": "code",
   "execution_count": 30,
   "metadata": {},
   "outputs": [
    {
     "data": {
      "application/vnd.jupyter.widget-view+json": {
       "model_id": "249812f91f1343c7aaf8e1171a154b35",
       "version_major": 2,
       "version_minor": 0
      },
      "text/plain": [
       "VBox(children=(Figure(animation=400.0, camera=PerspectiveCamera(fov=46.0, position=(0.0, 0.0, 2.0), quaternion…"
      ]
     },
     "metadata": {},
     "output_type": "display_data"
    }
   ],
   "source": [
    "swarm.viz_particle_movement( particleHistoryAsync )"
   ]
  },
  {
   "cell_type": "markdown",
   "metadata": {},
   "source": [
    "<a id = 'run-random-search'></a>\n",
    "# 8. Run **Random-Search-Baseline**\n",
    "-----\n",
    "\n",
    "Performance: Typically random search **performs worse** than the particle swarm variants.\n",
    "\n",
    "Wall Clock Time: Typically this is the **slowest** search process.\n",
    "\n",
    "* Description: Particles telport to new [random ] positions in hyper-parameter space\n",
    "* Parallelism: Asynchronous\n",
    "  * NOTE: Particles update without waiting for their peers, and randomly adopt new parameter combinations. Long runs (e.g.,  nEpochs = 30000) should produce balanced nEvaluations per-particle, though imbalance is often visible for shorter runs [ less imbalanced than ASYNC PSO, more imbalanced than PSO ]"
   ]
  },
  {
   "cell_type": "code",
   "execution_count": 31,
   "metadata": {},
   "outputs": [
    {
     "name": "stdout",
     "output_type": "stream",
     "text": [
      "0.882440 -- new global best by particle: 26, eval: 0, params: 5, 0.1677, 1.7299, 115\n",
      "0.915460 -- new global best by particle: 26, eval: 2, params: 10, 0.6398, 0.2738, 14\n",
      "0.924170 -- new global best by particle: 17, eval: 4, params: 5, 0.7355, 0.4975, 67\n",
      "0.924770 -- new global best by particle: 19, eval: 15, params: 6, 0.2981, 0.7930, 67\n",
      "0.928970 -- new global best by particle: 5, eval: 19, params: 16, 0.8822, 1.4483, 27\n",
      " > on approximate epoch 0 out of 15\n",
      "0.930430 -- new global best by particle: 11, eval: 50, params: 6, 0.8212, 1.6759, 49\n",
      " > on approximate epoch 1 out of 15\n",
      " > on approximate epoch 2 out of 15\n",
      " > on approximate epoch 3 out of 15\n",
      "0.931320 -- new global best by particle: 17, eval: 142, params: 5, 0.5739, 0.9701, 85\n",
      "0.931970 -- new global best by particle: 7, eval: 147, params: 15, 0.9912, 1.6133, 4\n",
      " > on approximate epoch 4 out of 15\n",
      " > on approximate epoch 5 out of 15\n",
      " > on approximate epoch 6 out of 15\n",
      " > on approximate epoch 7 out of 15\n",
      " > on approximate epoch 8 out of 15\n",
      " > on approximate epoch 9 out of 15\n",
      " > on approximate epoch 10 out of 15\n",
      " > on approximate epoch 11 out of 15\n",
      " > on approximate epoch 12 out of 15\n",
      " > on approximate epoch 13 out of 15\n",
      " > on approximate epoch 14 out of 15\n",
      " > on approximate epoch 15 out of 15\n",
      "\n",
      "\n",
      " best accuracy: 0.93197, by particle: 7 on eval: 147 \n",
      " best parameters: 15, 0.9912, 1.6133, 4, \n",
      " elpased time: 361.46 seconds\n"
     ]
    }
   ],
   "source": [
    "mode = {'allowAsyncUpdates': True, 'randomSearch': True }\n",
    "particleHistoryBaseline, globalBestBaseline, _ = run_hpo ( client, mode, paramRanges, \n",
    "                                                           trainData, trainLabels, testData, testLabels,  \n",
    "                                                           nParticles, nEpochs,\n",
    "                                                           retainPredictionsFlag = True )"
   ]
  },
  {
   "cell_type": "code",
   "execution_count": 32,
   "metadata": {},
   "outputs": [
    {
     "data": {
      "image/png": "[encoded data removed]",
      "text/plain": [
       "<Figure size 1080x360 with 1 Axes>"
      ]
     },
     "metadata": {
      "needs_background": "light"
     },
     "output_type": "display_data"
    }
   ],
   "source": [
    "sortedBarHeightsDF = swarm.plot_eval_distribution ( particleHistoryBaseline,  globalBestBaseline['particleID'] );"
   ]
  },
  {
   "cell_type": "code",
   "execution_count": 33,
   "metadata": {},
   "outputs": [
    {
     "data": {
      "application/vnd.jupyter.widget-view+json": {
       "model_id": "b7840193d580406c9c2ab52c70860e4d",
       "version_major": 2,
       "version_minor": 0
      },
      "text/plain": [
       "VBox(children=(Figure(animation=400.0, camera=PerspectiveCamera(fov=46.0, position=(0.0, 0.0, 2.0), quaternion…"
      ]
     },
     "metadata": {},
     "output_type": "display_data"
    }
   ],
   "source": [
    "swarm.viz_particle_movement( particleHistoryBaseline )"
   ]
  },
  {
   "cell_type": "markdown",
   "metadata": {},
   "source": [
    "<a id = 'summary'></a>\n",
    "# 9. Summary\n",
    "-----"
   ]
  },
  {
   "cell_type": "markdown",
   "metadata": {},
   "source": [
    "Async Scaling > Sync Scaling > Random Search"
   ]
  },
  {
   "cell_type": "markdown",
   "metadata": {},
   "source": [
    "# 10. Extensions"
   ]
  },
  {
   "cell_type": "markdown",
   "metadata": {},
   "source": [
    "larger than single GPU memory datasets - dask_cudf + [ dask_xgboost or xgboost.dask ]"
   ]
  }
 ],
 "metadata": {
  "kernelspec": {
   "display_name": "Python 3",
   "language": "python",
   "name": "python3"
  },
  "language_info": {
   "codemirror_mode": {
    "name": "ipython",
    "version": 3
   },
   "file_extension": ".py",
   "mimetype": "text/x-python",
   "name": "python",
   "nbconvert_exporter": "python",
   "pygments_lexer": "ipython3",
   "version": "3.6.7"
  }
 },
 "nbformat": 4,
 "nbformat_minor": 4
}
